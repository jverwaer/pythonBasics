{
 "cells": [
  {
   "cell_type": "markdown",
   "metadata": {},
   "source": [
    "< [4 Functions](4-Functions.ipynb) | [Contents](0-Contents.ipynb) | [6 Tuples and Dictionaries](6-TuplesDictionaries.ipynb) >"
   ]
  },
  {
   "cell_type": "markdown",
   "metadata": {},
   "source": [
    "# 5.\tLists\n",
    "#### 5.1\tIntroduction\n",
    "Until now we worked with variables that store a single value. But what if you need to store a list of values (numeric, string or a combination)? For example, you may want to store the name, heigth and weight of a person. You can store these values in a `list`. A list is a collection of values, where each value has an index (position) in the list. You can access the values in the list using the index.\n",
    "\n",
    "#### 5.2\tCreating a List\n",
    "You can create a list by **enclosing the values in square brackets and separating them with commas**.\n",
    "\n",
    "Check the following examples:"
   ]
  },
  {
   "cell_type": "code",
   "execution_count": null,
   "metadata": {},
   "outputs": [],
   "source": [
    "# List of numbers\n",
    "decimal = [8, -1, 4.2, 75, -0.93, 3]\n",
    "print(decimal)"
   ]
  },
  {
   "cell_type": "code",
   "execution_count": null,
   "metadata": {},
   "outputs": [],
   "source": [
    "# List of strings\n",
    "words = [\"hello\", \"world\", \"python\", \"is\", \"cool\", \"yeah\"]\n",
    "print(words)"
   ]
  },
  {
   "cell_type": "code",
   "execution_count": null,
   "metadata": {},
   "outputs": [],
   "source": [
    "# List of mixed data types\n",
    "data = [\"John\", 1.75, 70]\n",
    "print(data)"
   ]
  },
  {
   "cell_type": "markdown",
   "metadata": {},
   "source": [
    "##### Other ways to create a list\n",
    "There are some other ways to create a list:\n",
    "* Using the `list()` constructor to convert a string to a list.\n",
    "* Using the `split()` method to split a string into a list.\n",
    "* Using a **list comprehension** to create a list, see Section 5.7.\n",
    "\n",
    "Try the following examples to get more insight into creating lists."
   ]
  },
  {
   "cell_type": "code",
   "execution_count": null,
   "metadata": {},
   "outputs": [],
   "source": [
    "# Using the list() constructor to convert a string to a List\n",
    "list2 = list(\"Hello\")\n",
    "print(list2)"
   ]
  },
  {
   "cell_type": "code",
   "execution_count": null,
   "metadata": {},
   "outputs": [],
   "source": [
    "# Using list() and range() to create a list of numbers\n",
    "numbers = list(range(10))\n",
    "print(numbers)"
   ]
  },
  {
   "cell_type": "code",
   "execution_count": null,
   "metadata": {},
   "outputs": [],
   "source": [
    "# Using split() to create a list of strings\n",
    "sentence = \"I am learning Python\"\n",
    "words = sentence.split(\" \")\n",
    "print(words)"
   ]
  },
  {
   "cell_type": "markdown",
   "metadata": {},
   "source": [
    "### 5.3\tAccessing elements in a list\n",
    "#### 5.3.1\tAccessing elements by index\n",
    "You can access the elements in a list using the index. The index starts from 0. For example, to access the first element in the list, you use index 0. To access the second element, you use index 1 and so on. Again, the **index operator** `[]` has to be used. This is the same as accessing characters in a string (see Chapter 2).\n",
    "\n",
    "Examples:"
   ]
  },
  {
   "cell_type": "code",
   "execution_count": null,
   "metadata": {},
   "outputs": [],
   "source": [
    "data = [\"John\", 1.75, 70]\n",
    "name = data[0]\n",
    "height = data[1]\n",
    "weight = data[-1]\n",
    "BMI = weight / height**2\n",
    "print(name, \"has a BMI of\", BMI)"
   ]
  },
  {
   "cell_type": "markdown",
   "metadata": {},
   "source": [
    "Note that we used a negative index to access the last element in the list: the last element has index -1, the second last element has index -2 and so on. This is useful when the length of the list is variable or you don't know the length of the list."
   ]
  },
  {
   "cell_type": "markdown",
   "metadata": {},
   "source": [
    "#### 5.3.2  Accessing elements by slicing \n",
    "You can access a range of elements in a list using slicing. The syntax for slicing is similar to the syntax for slicing a string. The syntax is:\n",
    "\n",
    "```python\n",
    "    list_name[start:stop:step]\n",
    "```\n",
    "where \n",
    "* `start` is the index of the first element (default is 0), \n",
    "* `stop` is the index of the last element (**not included**, default is len(list_name)) and \n",
    "* `step` is the number of elements to skip (default is 1). \n",
    "\n",
    "The following table summarizes some indexing and slicing possibilities (the variable `L` represents a string):\n",
    "\n",
    "| Slice | Meaning |\n",
    "| :---: | --- |\n",
    "| `L[i]` | element at index `i` (counting starts at 0) |\n",
    "| `L[i:j]` | elements `i` up to `j-1` (element `j` **not** included) |\n",
    "| `L[i:]` | elements from `i` up to end of list |\n",
    "| `L[:i]` | elements from start up to `i-1` (element  `i` **not** included) |\n",
    "| `L[i:j:k]` | elements from `i` up to `j-1` in steps of `k` |\n",
    "| `L[:]` | all elements |\n",
    "| `L[::-1]` | all elements in **reversed** order|\n",
    "\n",
    "Examples:"
   ]
  },
  {
   "cell_type": "code",
   "execution_count": null,
   "metadata": {},
   "outputs": [],
   "source": [
    "words = [\"hello\", \"world\", \"python\", \"is\", \"cool\", \"yeah\"]\n",
    "print(words[1:3])  # elements with index 1, 2\n",
    "print(words[2:5])  # elements with index 2, 3, 4"
   ]
  },
  {
   "cell_type": "code",
   "execution_count": null,
   "metadata": {},
   "outputs": [],
   "source": [
    "print(words[:2])   # first two elements\n",
    "print(words[2:])   # elements from index 2 to end"
   ]
  },
  {
   "cell_type": "code",
   "execution_count": null,
   "metadata": {},
   "outputs": [],
   "source": [
    "print(words[::2])  # elements with even index\n",
    "print(words[::-1]) # elements in reverse order"
   ]
  },
  {
   "cell_type": "markdown",
   "metadata": {},
   "source": [
    "#### 5.3.3 Iterating over a List\n",
    "Just as with strings, you can iterate over the elements in a list using a `for` loop. Iterating can be index based or element based. The following examples show both methods. "
   ]
  },
  {
   "cell_type": "code",
   "execution_count": null,
   "metadata": {},
   "outputs": [],
   "source": [
    "# Index based iteration\n",
    "words = [\"hello\", \"world\", \"python\", \"is\", \"cool\", \"yeah\"]\n",
    "for i in range(len(words)):\n",
    "    print(i, words[i])"
   ]
  },
  {
   "cell_type": "code",
   "execution_count": null,
   "metadata": {},
   "outputs": [],
   "source": [
    "# Element based iteration\n",
    "i = 0\n",
    "for word in words:\n",
    "    print(i, word)\n",
    "    i = i + 1"
   ]
  },
  {
   "cell_type": "markdown",
   "metadata": {},
   "source": [
    "### 5.4 List manipulation\n",
    "\n",
    "An empty list can be created with empty brackets:"
   ]
  },
  {
   "cell_type": "code",
   "execution_count": null,
   "metadata": {},
   "outputs": [],
   "source": [
    "L = []\n",
    "print(L)"
   ]
  },
  {
   "cell_type": "markdown",
   "metadata": {},
   "source": [
    "#### Adding elements to a list\n",
    "You can add elements to a list using the `append()` method. The `append()` method adds the element to the end of the list.\n",
    "\n",
    "```python    \n",
    "    list_name.append(element)\n",
    "```\n",
    "Examples:"
   ]
  },
  {
   "cell_type": "code",
   "execution_count": null,
   "metadata": {},
   "outputs": [],
   "source": [
    "L.append(\"First element\")\n",
    "print(L)"
   ]
  },
  {
   "cell_type": "code",
   "execution_count": null,
   "metadata": {},
   "outputs": [],
   "source": [
    "L.append(\"Second element\")\n",
    "print(L)"
   ]
  },
  {
   "cell_type": "markdown",
   "metadata": {},
   "source": [
    "Note that we don't write `L = L.append(element)` because the `append()` method **does not return a new list**. It modifies the original list."
   ]
  },
  {
   "cell_type": "markdown",
   "metadata": {},
   "source": [
    "#### Extending a list\n",
    "You can add multiple elements to a list using the `extend()` method. The `extend()` method adds the elements of the list to the end of the list.\n",
    "\n",
    "```python\n",
    "    list_name.extend(list2)\n",
    "```\n",
    "Examples:"
   ]
  },
  {
   "cell_type": "code",
   "execution_count": null,
   "metadata": {},
   "outputs": [],
   "source": [
    "L = [\"First element\", \"Second element\"]\n",
    "L2 = [\"Third element\", \"Fourth element\", \"Fifth element\"]\n",
    "L.extend(L2)\n",
    "print(L)"
   ]
  },
  {
   "cell_type": "markdown",
   "metadata": {},
   "source": [
    "What happens if you use the `append()` method instead of the `extend()` method? Try it out!"
   ]
  },
  {
   "cell_type": "code",
   "execution_count": null,
   "metadata": {},
   "outputs": [],
   "source": [
    "L = [\"First element\", \"Second element\"]\n",
    "L2 = [\"Third element\", \"Fourth element\", \"Fifth element\"]\n",
    "L.append(L2)\n",
    "print(L)"
   ]
  },
  {
   "cell_type": "markdown",
   "metadata": {},
   "source": [
    "What happened? The `append()` method **added the list** `L2` **as a single element** to the list `L`. \n"
   ]
  },
  {
   "cell_type": "markdown",
   "metadata": {},
   "source": [
    "#### List concatenation and duplication\n",
    "You can concatenate two lists using the `+` operator. You can also duplicate a list using the `*` operator. \n",
    "\n",
    "Check the following examples:"
   ]
  },
  {
   "cell_type": "code",
   "execution_count": null,
   "metadata": {},
   "outputs": [],
   "source": [
    "# List concatenation\n",
    "L = [1, 2, 3, 4, 5]\n",
    "L2 = [6, 7, 8, 9, 10]\n",
    "L = L + L2\n",
    "print(L)"
   ]
  },
  {
   "cell_type": "markdown",
   "metadata": {},
   "source": [
    "What happened? The `+` operator **concatenated** the two lists. \n",
    "\n",
    "Note that we wrote `L = L + L2` and not just `L + L2`. This is because the `+` operator **does not modify the original list**. It creates **a new list**."
   ]
  },
  {
   "cell_type": "code",
   "execution_count": null,
   "metadata": {},
   "outputs": [],
   "source": [
    "# List duplication\n",
    "L = [1, 2, 3, 4, 5]\n",
    "L = L * 3\n",
    "print(L)"
   ]
  },
  {
   "cell_type": "markdown",
   "metadata": {},
   "source": [
    "What happened? The `*` operator **duplicated** the list `L`. What it didn't do is duplicate the elements in the list. It duplicated the list itself. "
   ]
  },
  {
   "cell_type": "markdown",
   "metadata": {},
   "source": [
    "#### The `in` and `not in` operators\n",
    "You can check if an element is in a list using the `in` operator. You can also check if an element is not in a list using the `not in` operator.\n",
    "\n",
    "Examples:"
   ]
  },
  {
   "cell_type": "code",
   "execution_count": null,
   "metadata": {},
   "outputs": [],
   "source": [
    "L = [\"apple\", \"banana\", \"cherry\", \"date\"]\n",
    "\"pear\" in L"
   ]
  },
  {
   "cell_type": "code",
   "execution_count": null,
   "metadata": {},
   "outputs": [],
   "source": [
    "\"ana\" in L"
   ]
  },
  {
   "cell_type": "markdown",
   "metadata": {},
   "source": [
    "Note that even thought `banana` has the substring `ana` in it, it is not in the list. The `in` operator checks for the **exact element** in the list."
   ]
  },
  {
   "cell_type": "markdown",
   "metadata": {},
   "source": [
    "#### List methods\n",
    "There are several methods that you can use with lists. We already encountered `append()` and `extend()`. Some of the other methods are: \n",
    "\n",
    "| Method     | Meaning |\n",
    "| ---      | --- |\n",
    "| `L.insert(index, element)` | adds `element` at a specific `index` |\n",
    "| `L.remove(element)`        | removes the first occurrence of `element` from the list |\n",
    "| `L.index(element)`         | returns the index of the first occurrence of `element` |\n",
    "| `L.count(element)`         | returns the number of occurrences of `element` |\n",
    "| `L.sort()`                 | sorts the elements in the list | \n",
    "\n",
    "You can get a complete list of methods by typing\n",
    "*  `dir(list)` or \n",
    "* the name of a list followed by a dot\n",
    "\n",
    "Some examples will explain the usage of these methods:"
   ]
  },
  {
   "cell_type": "code",
   "execution_count": null,
   "metadata": {},
   "outputs": [],
   "source": [
    "L = [\"apple\", \"banana\", \"cherry\", \"date\"]\n",
    "L.insert(2, \"carrot\")\n",
    "print(L) "
   ]
  },
  {
   "cell_type": "code",
   "execution_count": null,
   "metadata": {},
   "outputs": [],
   "source": [
    "L.remove(\"date\")\n",
    "print(L)"
   ]
  },
  {
   "cell_type": "code",
   "execution_count": null,
   "metadata": {},
   "outputs": [],
   "source": [
    "ind = L.index(\"cherry\")\n",
    "print(ind)"
   ]
  },
  {
   "cell_type": "markdown",
   "metadata": {},
   "source": [
    "What happens when an element is not in the list? Try it out!"
   ]
  },
  {
   "cell_type": "code",
   "execution_count": null,
   "metadata": {},
   "outputs": [],
   "source": [
    "L.index(\"pear\")"
   ]
  },
  {
   "cell_type": "markdown",
   "metadata": {},
   "source": [
    "Since the element `\"pear\"` is not in the list, the `index()` method raises an error."
   ]
  },
  {
   "cell_type": "code",
   "execution_count": null,
   "metadata": {},
   "outputs": [],
   "source": [
    "L = [\"apple\", \"banana\", \"cherry\", \"date\", \"apple\", \"pear\", \"Apple\"]\n",
    "n = L.count(\"apple\")\n",
    "print(n)"
   ]
  },
  {
   "cell_type": "markdown",
   "metadata": {},
   "source": [
    "Note that the `count()` method is **case-sensitive**: `\"Apple\"` is not counted as an occurance of `\"apple\"`. "
   ]
  },
  {
   "cell_type": "code",
   "execution_count": null,
   "metadata": {},
   "outputs": [],
   "source": [
    "# Sort a list of numbers\n",
    "numbers = [3, 1, 4, 1, 5, 9, 2, 6, 5, 3, 5]\n",
    "numbers.sort()\n",
    "print(numbers)"
   ]
  },
  {
   "cell_type": "code",
   "execution_count": null,
   "metadata": {},
   "outputs": [],
   "source": [
    "# Sort a list of letters\n",
    "letters = [\"d\", \"a\", \"c\", \"b\", \"e\"]\n",
    "letters.sort()\n",
    "print(letters)"
   ]
  },
  {
   "cell_type": "markdown",
   "metadata": {},
   "source": [
    "Note that the `sort()` method **modifies the original list**, such as the `append()`, `extend()`, `insert()` and `remove()` methods."
   ]
  },
  {
   "cell_type": "markdown",
   "metadata": {},
   "source": [
    "## 5.5 Nested Lists\n",
    "\n",
    "### 5.5.1 Creating nested lists\n",
    "A list can contain other lists. This is called a **nested list**. You can access the elements in the nested list using multiple indices.\n",
    "\n",
    "Suppose we want to represent the following matrix $A$ (a two-dimensional array) in Python:\n",
    "$$\n",
    "A = \\left [\n",
    "\\begin{matrix}\n",
    "1 & 2 & 3 \\\\\n",
    "4 & 5 & 6 \\\\\n",
    "7 & 8 & 9 \\\\\n",
    "10 & 11 & 12\n",
    "\\end{matrix}\n",
    "\\right ]\n",
    "$$\n",
    "\n",
    "We can use a nested list:\n",
    "\n",
    "\n",
    "```python\n",
    "    A = [ [1, 2, 3], [4, 5, 6], [7, 8, 9], [10, 11, 12] ]\n",
    "```\n",
    "\n",
    "Note that each row of the matrix is a list: the matrix is a list of lists.\n",
    "\n",
    "The elements don't have to be of the same type. For example, the following list contains strings, floats and integers:\n",
    "\n",
    "```python\n",
    "    bmi_data = [[\"John\", 1.75, 70], [\"Mary\", 1.65, 58], [\"Tom\", 1.80, 83], [\"Alice\", 1.70, 61]]\n",
    "```\n",
    "\n",
    "The sublists don't have to be of the same length. For example, the following list contains sublists of different lengths:\n",
    "\n",
    "```python\n",
    "    data = [[1, 2, 3], [4, 5], [6, 7, 8, 9]]\n",
    "```"
   ]
  },
  {
   "cell_type": "markdown",
   "metadata": {},
   "source": [
    "### 5.5.2 Accessing elements in a nested list\n",
    "#### Accessing elements by a single index\n",
    "Accessing elements in a nested list is similar to accessing elements in a simple list. By using a single index, you can access the entire row. For example, to access the **second row** in the matrix $A$, you use the index `1`:\n",
    "\n",
    "```python\n",
    "    A[1]\n",
    "```\n"
   ]
  },
  {
   "cell_type": "markdown",
   "metadata": {},
   "source": [
    "Using slicing, you can access a range of rows:\n",
    "\n",
    "```python\n",
    "    A[1:3]\n",
    "```\n",
    "\n",
    "Try the following examples:"
   ]
  },
  {
   "cell_type": "code",
   "execution_count": null,
   "metadata": {},
   "outputs": [],
   "source": [
    "A = [[1, 2, 3], [4, 5, 6], [7, 8, 9], [10, 11, 12]]\n",
    "A[-1]       # last row"
   ]
  },
  {
   "cell_type": "code",
   "execution_count": null,
   "metadata": {},
   "outputs": [],
   "source": [
    "A[0:4:2]    # every second row"
   ]
  },
  {
   "cell_type": "code",
   "execution_count": null,
   "metadata": {},
   "outputs": [],
   "source": [
    "A[::-1]     # rows in reverse order"
   ]
  },
  {
   "cell_type": "markdown",
   "metadata": {},
   "source": [
    "#### Accessing elements by multiple indices\n",
    "You can access the elements of a nested list using **multiple indices**. For example, to access the element 1.70 (height of Alice) in `bmi_data`, you use the indices `3` and `1`:\n",
    "\n",
    "```python\n",
    "    bmi_data[3][1]\n",
    "```\n",
    "\n",
    "Try the following examples:"
   ]
  },
  {
   "cell_type": "code",
   "execution_count": null,
   "metadata": {},
   "outputs": [],
   "source": [
    "bmi_data = [[\"John\", 1.75, 70], [\"Mary\", 1.65, 58], [\"Tom\", 1.80, 83], [\"Alice\", 1.70, 61]]\n",
    "bmi_data[3][1] # height of Alice"
   ]
  },
  {
   "cell_type": "code",
   "execution_count": null,
   "metadata": {},
   "outputs": [],
   "source": [
    "A = [[1, 2, 3], [4, 5, 6], [7, 8, 9], [10, 11, 12]]\n",
    "A[1][2]     # element in row 2, column 3 --> 6\n"
   ]
  },
  {
   "cell_type": "markdown",
   "metadata": {},
   "source": [
    "Note that we can also use slicing to access a range of elements in a nested list:"
   ]
  },
  {
   "cell_type": "code",
   "execution_count": null,
   "metadata": {},
   "outputs": [],
   "source": [
    "A[2][::2]   # elements in row 3 with even index --> [7, 9]"
   ]
  },
  {
   "cell_type": "markdown",
   "metadata": {},
   "source": [
    "To compute the BMI of all persons in `bmi_data`, you can use a loop:"
   ]
  },
  {
   "cell_type": "code",
   "execution_count": null,
   "metadata": {},
   "outputs": [],
   "source": [
    "bmi_data = [[\"John\", 1.75, 70], [\"Mary\", 1.65, 58], [\"Tom\", 1.80, 83], [\"Alice\", 1.70, 61]]\n",
    "for person in bmi_data:\n",
    "    bmi = person[2] / person[1]**2\n",
    "    print(person[0], \"has a BMI of\", round(bmi, 2))"
   ]
  },
  {
   "cell_type": "markdown",
   "metadata": {},
   "source": [
    "In the example above, we used **element based indexing** to access the sublists. We could have used **index based indexing** as well. The following code does the same:"
   ]
  },
  {
   "cell_type": "code",
   "execution_count": null,
   "metadata": {},
   "outputs": [],
   "source": [
    "for i in range(len(bmi_data)):\n",
    "    bmi = bmi_data[i][2] / bmi_data[i][1]**2\n",
    "    print(bmi_data[i][0], \"has a BMI of\", round(bmi, 2))"
   ]
  },
  {
   "cell_type": "markdown",
   "metadata": {},
   "source": [
    "We could make the code more readible by introducing extra variables: "
   ]
  },
  {
   "cell_type": "code",
   "execution_count": null,
   "metadata": {},
   "outputs": [],
   "source": [
    "for i in range(len(bmi_data)):\n",
    "    weight = bmi_data[i][2]\n",
    "    length = bmi_data[i][1]\n",
    "    bmi = weight / length**2\n",
    "    print(bmi_data[i][0], \"has a BMI of\", round(bmi, 2))"
   ]
  },
  {
   "cell_type": "markdown",
   "metadata": {},
   "source": [
    "### 5.5.3 Iterating over a nested list\n",
    "You can iterate over a nested list using nested loops. The outer loop iterates over the rows and the inner loop iterates over the elements in the row.\n",
    "\n",
    "This is how you can iterate element by element over the matrix $A$:"
   ]
  },
  {
   "cell_type": "code",
   "execution_count": null,
   "metadata": {},
   "outputs": [],
   "source": [
    "A = [[1, 2, 3], [4, 5, 6], [7, 8, 9], [10, 11, 12]]\n",
    "for row in A:\n",
    "    for element in row:\n",
    "        print(element, end = \" \")\n",
    "    print()"
   ]
  },
  {
   "cell_type": "markdown",
   "metadata": {},
   "source": [
    "Index based iteration is also possible. The following code does the same as the code above:"
   ]
  },
  {
   "cell_type": "code",
   "execution_count": null,
   "metadata": {},
   "outputs": [],
   "source": [
    "A = [[1, 2, 3], [4, 5, 6], [7, 8, 9], [10, 11, 12]]\n",
    "for i in range(len(A)):\n",
    "    for j in range(len(A[i])):\n",
    "        print(A[i][j], end = \" \")\n",
    "    print()"
   ]
  },
  {
   "cell_type": "markdown",
   "metadata": {},
   "source": [
    "Note thate the inner loop depends on the length of the sublist. That's why we used `len(A[i])` instead of `len(A)` as the range in the inner loop."
   ]
  },
  {
   "cell_type": "markdown",
   "metadata": {},
   "source": [
    "### 5.5.4 List methods applied to nested lists\n",
    "The methods that we used with simple lists can also be used with nested lists.\n",
    "\n",
    "For example, the `append()` method can be used to add a new row to the matrix $A$:\n",
    "\n",
    "```python\n",
    "    A.append([13, 14, 15])\n",
    "```"
   ]
  },
  {
   "cell_type": "code",
   "execution_count": null,
   "metadata": {},
   "outputs": [],
   "source": [
    "A = [[1, 2, 3], [4, 5, 6], [7, 8, 9], [10, 11, 12]]\n",
    "A.append([13, 14, 15])\n",
    "print(A)"
   ]
  },
  {
   "cell_type": "markdown",
   "metadata": {},
   "source": [
    "The `sort()` method can be used to sort the rows in the matrix $A$:\n",
    "\n",
    "```python\n",
    "    A.sort()\n",
    "```"
   ]
  },
  {
   "cell_type": "code",
   "execution_count": null,
   "metadata": {},
   "outputs": [],
   "source": [
    "bmi_data = [[\"John\", 1.75, 70], [\"Mary\", 1.65, 58], [\"Tom\", 1.80, 83], [\"Alice\", 1.70, 61]]\n",
    "bmi_data.sort()\n",
    "print(bmi_data)"
   ]
  },
  {
   "cell_type": "markdown",
   "metadata": {},
   "source": [
    "Note that, in this example, sorting is done based on the first element of each row.\n",
    "\n",
    "Note also that these methods modify the original list (see earlier). So we don't need to write `A = A.append([13, 14, 15])` or `A = A.sort()`."
   ]
  },
  {
   "cell_type": "markdown",
   "metadata": {},
   "source": [
    "What happens if the first element of the sublist are the same? If the first elements are the same, the second elements are compared and so on."
   ]
  },
  {
   "cell_type": "code",
   "execution_count": null,
   "metadata": {},
   "outputs": [],
   "source": [
    "bmi_data = [[\"John\", 1.75, 70], [\"Tom\", 1.65, 58], [\"Tom\", 1.80, 83], [\"Alice\", 1.70, 61]]\n",
    "bmi_data.sort()\n",
    "print(bmi_data)"
   ]
  },
  {
   "cell_type": "markdown",
   "metadata": {},
   "source": [
    "## 5.7 List comprehension\n",
    "List comprehension is a concise way to create lists. It is a compact way to apply an operation to each element in a list. The syntax is:\n",
    "\n",
    "```python\n",
    "    [expression for item in list]\n",
    "```\n",
    "\n",
    "Some examples will explain the usage of list comprehension. \n",
    "\n",
    "Consider the following sequence of numbers:\n",
    "\n",
    "$$\n",
    "1^2,\\quad 2^2,\\quad 3^2,\\quad ...,\\quad 99^2,\\quad 100^2\n",
    "$$\n",
    "\n",
    "Without list comprehension, we would write:\n",
    "\n",
    "```python\n",
    "    squares = []\n",
    "    for x in range(1, 101):\n",
    "        squares.append(x**2)\n",
    "```\n",
    "\n",
    "We can use list comprehension to create a list of the squares of the numbers from 1 to 100:\n",
    "\n",
    "```python\n",
    "    squares = [x**2 for x in range(1, 101)]\n",
    "```\n",
    "\n",
    "We can include an `if`-statement in the list comprehension. For example, to create a list of the squares of the even numbers from 1 to 100:\n",
    "\n",
    "```python\n",
    "    squares_even = [x**2 for x in range(1, 101) if x % 2 == 0]\n",
    "```\n",
    "\n",
    "The result is the following sequence:\n",
    "\n",
    "$$\n",
    "2^2,\\quad 4^2,\\quad 6^2,\\quad ...,\\quad 98^2,\\quad 100^2\n",
    "$$"
   ]
  },
  {
   "cell_type": "markdown",
   "metadata": {},
   "source": [
    "## 5.8 Exercises\n",
    "##### Exercise 1\n",
    "Write a program to compute the number of elements in $A$ that are in the interval $]5, 10]$."
   ]
  },
  {
   "cell_type": "code",
   "execution_count": null,
   "metadata": {},
   "outputs": [],
   "source": [
    "A = [[1, 2, 3], [4, 5, 6], [7, 8, 9], [10, 11, 12]]\n"
   ]
  },
  {
   "cell_type": "markdown",
   "metadata": {},
   "source": [
    "##### Exercise 2\n",
    "Write a program that reads words from the user until the user enters an empty string. The program should store the words shorter than 6 characters in a list `short_words` and the longer words in a list `long_words`. Finally, the program should print the number of short words and the number of long words.\n",
    "\n",
    "A part of the code is already given:"
   ]
  },
  {
   "cell_type": "code",
   "execution_count": null,
   "metadata": {},
   "outputs": [],
   "source": [
    "short_words = []\n",
    "long_words = []\n",
    "word = input(\"Give me a word: \")\n",
    "while word != \"\":\n",
    "    ... # add word to short_words or long_words\n",
    "\n",
    "print(\"Number of SHORT words:\", )\n",
    "print(\"Number of LONG words:\", )"
   ]
  },
  {
   "cell_type": "markdown",
   "metadata": {},
   "source": [
    "##### Exercise 3\n",
    "The frequency distribution of letters is a list of 26 numbers, each representing the frequency of a letter in a word. Write a program that reads a word from the user and computes the frequency distribution of the letters in the text. The program should print the frequency distribution. Make sure that the program is **case-insensitive**.\n",
    "\n",
    "An example:\n",
    "\n",
    "```python\n",
    "    word = \"Hello World\"\n",
    "    [0, 0, 0, 1,  1, 0, 0, 1, 0, 0, 0, 3, 0, 0, 2, 0, 0, 1, 0, 0, 0, 0, 1, 0, 0, 0]\n",
    "              |   |        |           |        |        |              |\n",
    "             'd' 'e'      'h'         'l'      'o'      'r'            'w'\n",
    "```\n",
    "\n",
    "A part of the code is already given:"
   ]
  },
  {
   "cell_type": "code",
   "execution_count": null,
   "metadata": {},
   "outputs": [],
   "source": [
    "word = input(\"Give me a word: \")\n",
    "alfabet = \"abcdefghijklmnopqrstuvwxyz\"\n",
    "frequency = []\n",
    "\n"
   ]
  },
  {
   "cell_type": "markdown",
   "metadata": {},
   "source": [
    "##### Exercise 4\n",
    "A word is an isogram if no letter occurs more than once. For instance, the word `playground` is an isogram, while the word `banana` is not since the letter `a` occurs more than once.\n",
    "\n",
    "Write a function `is_isogram()` that checks if a word is an isogram.\n",
    "\n",
    "A part of the code is already given:"
   ]
  },
  {
   "cell_type": "code",
   "execution_count": null,
   "metadata": {},
   "outputs": [],
   "source": [
    "def is_isogram(word):\n",
    "    alphabet = \"abcdefghijklmnopqrstuvwxyz\"\n",
    "    \n",
    "    return\n",
    "\n",
    "is_isogram(\"hello\")       # False\n",
    "is_isogram(\"playground\")  # True\n"
   ]
  },
  {
   "cell_type": "markdown",
   "metadata": {},
   "source": [
    "< [4 Functions](4-Functions.ipynb) | [Contents](0-Contents.ipynb) | [6 Tuples and Dictionaries](6-TuplesDictionaries.ipynb) >"
   ]
  },
  {
   "cell_type": "markdown",
   "metadata": {},
   "source": []
  }
 ],
 "metadata": {
  "kernelspec": {
   "display_name": "base",
   "language": "python",
   "name": "python3"
  },
  "language_info": {
   "codemirror_mode": {
    "name": "ipython",
    "version": 3
   },
   "file_extension": ".py",
   "mimetype": "text/x-python",
   "name": "python",
   "nbconvert_exporter": "python",
   "pygments_lexer": "ipython3",
   "version": "3.11.5"
  }
 },
 "nbformat": 4,
 "nbformat_minor": 4
}
