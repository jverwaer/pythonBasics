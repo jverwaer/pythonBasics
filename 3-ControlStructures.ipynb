{
 "cells": [
  {
   "cell_type": "markdown",
   "metadata": {},
   "source": [
    "< [2 Basic Datatypes](2-BasicDatatypes.ipynb) | [Contents](0-Contents.ipynb) | [4 Functions](4-ControlStructures.ipynb) >"
   ]
  },
  {
   "cell_type": "markdown",
   "metadata": {},
   "source": [
    "# 3. Control structures\n",
    "## 3.1 Introduction\n",
    "Until now we wrote code that executed sequentially: one command after the other. Now we will learn how to control the order of execution of instructions (i.e. control flow). The structures used for the manipulation of the control flow are called control structures.\n",
    "\n",
    "We will discuss:\n",
    "* `if-elif-else`-statements\n",
    "* `while` loops\n",
    "* `for` loops"
   ]
  },
  {
   "cell_type": "markdown",
   "metadata": {},
   "source": [
    "## 3.2 `if-elif-else`-statements\n",
    "#### 3.2.1 Logical expressions\n",
    "**Logical** expressions are a combination of values, variables, **logical** and **compariosn** operators. Upon evaluation the result will always be either `True` (1) or `False` (0).\n",
    "\n",
    "The **comparison** operators are:\n",
    "\n",
    "| Operator | Description |\n",
    "| :---: | --- |\n",
    "| `==` | equal |\n",
    "| `!=` | not equal |\n",
    "| `<` | lower than |\n",
    "| `<=` | lower than or equal to |\n",
    "| `>` | greater than |\n",
    "| `>=` | greater than or equal to |\n",
    "\n",
    "The **logical** operators are:\n",
    "\n",
    "| Operator | Description |\n",
    "| :---: | --- |\n",
    "| `and` | conjunction: returns `True` if both expressions are true |\n",
    "| `or` | disjunction: returns `True` if one of the expressions is true |\n",
    "| `not` | negation: reverses the result |\n",
    "\n",
    "The **order of operation** becomes:\n",
    "\n",
    "| Priority | Operator(s) | Meaning |\n",
    "| :---: | :---: | --- |\n",
    "| 1 | `()` | parenthesis |\n",
    "| 2 | `**` | exponent |\n",
    "| 3 | `+`x, `-`x | unary +, unary - |\n",
    "| 4 | `*`, `/`, `%`, `//` | multiplication, division, remainder, integer division |\n",
    "| 5 | `+`, `-` | addition, substraction |\n",
    "| 6 | `==`, `!=`, `<`, `<=`, `>`, `>=` | comparison |\n",
    "| 7 | `not` x | negation |\n",
    "| 8 | `and` | conjunction |\n",
    "| 9 | `or` | disjunction |\n",
    "\n",
    "**Note:** be careful when `and` and `or` both appear in an expression. Use parenthesis to emphasize (or change) the priority of operators.\n",
    "\n",
    "Some examples will illustrate the use of these operators:"
   ]
  },
  {
   "cell_type": "code",
   "execution_count": null,
   "metadata": {},
   "outputs": [],
   "source": [
    "x = -5\n",
    "y = 10\n",
    "z = 7\n",
    "print(x > 0 and y > z)"
   ]
  },
  {
   "cell_type": "code",
   "execution_count": null,
   "metadata": {},
   "outputs": [],
   "source": [
    "print(x > 0 or y > z)"
   ]
  },
  {
   "cell_type": "code",
   "execution_count": null,
   "metadata": {},
   "outputs": [],
   "source": [
    "print(not y > x and y < z)"
   ]
  },
  {
   "cell_type": "code",
   "execution_count": null,
   "metadata": {},
   "outputs": [],
   "source": [
    "print(not (y > x and y < z))"
   ]
  },
  {
   "cell_type": "markdown",
   "metadata": {},
   "source": [
    "Note the different result: without parenthesis the `not` operator only applies to `y > x`. With the use of parenthesis first the expression `y > x and y < z` is evaluated, next the result is reversed."
   ]
  },
  {
   "cell_type": "markdown",
   "metadata": {},
   "source": [
    "#### 3.2.2 The `if-else`-statement\n",
    "\n",
    "An `if-else`-statement has the following syntax:\n",
    "\n",
    "```Python\n",
    "    if condition:\n",
    "        # instruction(s) to be executed if condition is True\n",
    "    else:\n",
    "        # instruction(s) to be executed if condition is False   \n",
    "```\n",
    "\n",
    "**Important notes**\n",
    "* the `condition` can be a **composite** expression.\n",
    "* the colon `:` is **mandatory**\n",
    "* the instruction(s) to be executed are **indented**\n",
    "\n",
    "**Example**\n",
    "\n",
    "Suppose you get a reduction of 10 % if the total price is more than 100 €, and a reduction of only 5 % if the total price is equal or less than 100 €. This can be coded as in the code cell below.\n",
    "\n",
    "Try to change the value of `price` and see what happens."
   ]
  },
  {
   "cell_type": "code",
   "execution_count": null,
   "metadata": {},
   "outputs": [],
   "source": [
    "price = 93\n",
    "if price > 100:\n",
    "    new_price = price*0.9\n",
    "    print(\"To pay:\", new_price)\n",
    "else:\n",
    "    new_price = price*0.95\n",
    "    print(\"To pay:\", new_price)"
   ]
  },
  {
   "cell_type": "markdown",
   "metadata": {},
   "source": [
    "#### 3.2.2 The `if-elif-else`-statement\n",
    "\n",
    "An `if-elif-else`-statement has the following syntax:\n",
    "\n",
    "```Python\n",
    "    if condition1:\n",
    "        # instruction(s) to be executed if condition1 is True\n",
    "    elif condition2:\n",
    "        # instruction(s) to be executed if condition1 is False and condition2 is True\n",
    "    else:\n",
    "        # instruction(s) to be executed if condition1 and condition2 are both False   \n",
    "```\n",
    "You can use as many `elif`-statements as desired.\n",
    "\n",
    "**Example**\n",
    "\n",
    "The BMI (body mass index) gives an idea of the bodyweight of a person:\n",
    "\n",
    "| BMI | Category |\n",
    "| :---: | --- |\n",
    "| $< 18.5$ | underweight |\n",
    "| 18.5 $ \\leq $ BMI $ < $ 25.0 | normal |\n",
    "| 25.0 $ \\leq $ BMI $ < $ 30.0 | overweight |\n",
    "| 30.0 $ \\leq $ BMI $ < $ 40.0 | obese |\n",
    "| > 40.0 | severly obese |\n",
    "\n",
    "If we know the BMI, the category can be easily determined with the following code:"
   ]
  },
  {
   "cell_type": "code",
   "execution_count": null,
   "metadata": {},
   "outputs": [],
   "source": [
    "BMI = 25.7   # change this value to get other categories\n",
    "if BMI < 18.5:\n",
    "    print(\"underweight\")\n",
    "elif BMI < 25:\n",
    "    print(\"normal\")\n",
    "elif BMI < 30:\n",
    "    print(\"overweight\")\n",
    "elif BMI < 40:\n",
    "    print(\"obese\")\n",
    "else:\n",
    "    print(\"severely obese\")"
   ]
  },
  {
   "cell_type": "markdown",
   "metadata": {},
   "source": [
    "Note that we don't have to compare with the lower bounds: if `BMI < 18.5` is `False`, this means that the `BMI` is equal or greater than 18.5. Hence, in the first `elif`-statement we only have to compare to 25. The same is true for the other `elif`-statements."
   ]
  },
  {
   "cell_type": "markdown",
   "metadata": {},
   "source": [
    "#### 3.2.3 Nestef `if-else`-statements\n",
    "\n",
    "When you want to check for additional conditions after the initial one evaluates to ``True``, you can use nested `if-else`-statements.\n",
    "\n",
    "**Example**\n",
    "\n",
    "Suppose you have a file. Only if it's a `Python` file you want to print `long` or `short` whether the length of the file name is bigger than 10. This could be achieved by:"
   ]
  },
  {
   "cell_type": "code",
   "execution_count": null,
   "metadata": {},
   "outputs": [],
   "source": [
    "name = \"control_structures.py\"\n",
    "if name[-3:] == \".py\":  # check if the file is a Python file\n",
    "    L = len(name) - 3   # length of the name without the extension .py\n",
    "    if L > 10:\n",
    "        print(\"long file name\")\n",
    "    else:\n",
    "        print(\"short file name\")\n",
    "else:\n",
    "    print(\"Not a Python file\")"
   ]
  },
  {
   "cell_type": "markdown",
   "metadata": {},
   "source": [
    "#### 3.2.4 Exercises"
   ]
  },
  {
   "cell_type": "markdown",
   "metadata": {},
   "source": [
    "**Exercise 1**\n",
    "\n",
    "In the American grading system, grades are given as letters: A, B, C, D and F. The following table gives the correspondence between the American and the European grading system:\n",
    "\n",
    "| American Grade | European Grade |\n",
    "|----------------|----------------|\n",
    "| A              | 1              |\n",
    "| B              | 2              |\n",
    "| C              | 3              |\n",
    "| D              | 4              |\n",
    "| F              | 5              |\n",
    "\n",
    "Write a program that asks the user for an American grade and converts it to the corresponding European grade. The program should print the European grade."
   ]
  },
  {
   "cell_type": "code",
   "execution_count": null,
   "metadata": {},
   "outputs": [],
   "source": [
    "american_grade = input(\"Give the American grade (A, B, C, D or F): \")\n",
    "\n"
   ]
  },
  {
   "cell_type": "markdown",
   "metadata": {},
   "source": [
    "**Exercise 2**\n",
    "\n",
    "Write a program that checks whether a given IBAN has a valid form:\n",
    "* the length of the IBAN is 16 characters\n",
    "* the first 2 characters are `BE`\n",
    "* the next 14 characters are digits\n",
    "\n",
    "If the IBAN is valid, the program should print `valid IBAN`, otherwise `invalid IBAN`.\n"
   ]
  },
  {
   "cell_type": "code",
   "execution_count": null,
   "metadata": {},
   "outputs": [],
   "source": [
    "IBAN = \"BE68539007547034\"\n",
    "\n"
   ]
  },
  {
   "cell_type": "markdown",
   "metadata": {},
   "source": [
    "**Exercise 3**\n",
    "\n",
    "Consider a circle with radius 1 inside a square with side length 2. The circle is centered at the origin.\n",
    "\n",
    "<center><img src=\"figures/cirkel_vierkant.png\" width=\"300\"/></center>\n",
    "\n",
    "Write a program that asks the $x$ and $y$ coordinates of a point to the user, and determines whether the point is\n",
    "* inside or on the circle (indicated with a red 1 in the figure above), or\n",
    "* outside the circle and inside or on the square (indicated with a red 2 in the figure above), or\n",
    "* outside the square (indicated with a red 3 in the figure above)\n",
    "\n",
    "The equation of the unit circle is\n",
    "\n",
    "$$x^2 + y^2 = 1$$\n",
    "\n",
    "The code cell below contains a template for this program:"
   ]
  },
  {
   "cell_type": "code",
   "execution_count": null,
   "metadata": {},
   "outputs": [],
   "source": [
    "x = float(input(\"Give the value of the x coordinate: \"))\n",
    "y = float(input(\"Give the value of the y coordinate: \"))\n",
    "\n",
    "\n"
   ]
  },
  {
   "cell_type": "markdown",
   "metadata": {},
   "source": [
    "## 3.3 The `while` loop\n",
    "#### 3.3.1 Syntax\n",
    "A `while` loop executes the instructions within the `while`-suite a **variable** number of times. Howa many times times depends on the condition.\n",
    "\n",
    "The syntax is:\n",
    "\n",
    "```Python\n",
    "    while condition:\n",
    "        # instruction(s) to be executed if condition is True  \n",
    "```\n",
    "\n",
    "The `condition` is an (composite) expression containing a loop control variable whos value changes in the `while` loop.\n",
    "\n",
    "**Example**\n",
    "\n",
    "Given a positive number $n$, print all powers of 2 smaller than $n$. This can be realized by the following `while` loop:"
   ]
  },
  {
   "cell_type": "code",
   "execution_count": null,
   "metadata": {},
   "outputs": [],
   "source": [
    "n = 25\n",
    "p = 0 # first power of 2 (ie. 2**0)\n",
    "while 2**p < n:\n",
    "    print(2**p)\n",
    "    p = p + 1"
   ]
  },
  {
   "cell_type": "markdown",
   "metadata": {},
   "source": [
    "How does it work? We initialized the value of \n",
    "* `n` at 25\n",
    "* the exponent `p` at 0,\n",
    "\n",
    "**As long** as $2^p$ is smaller than $n$:\n",
    "* print the value of $2^p$\n",
    "* increase the value of $p$ by 1"
   ]
  },
  {
   "cell_type": "markdown",
   "metadata": {},
   "source": [
    "#### 3.3.2 Breaking a `while` loop\n",
    "\n",
    "Suppose that we forgot to increase the value of `p` by 1. The result would be that\n",
    "* the values of `p` stays 0\n",
    "* the condition `2**p < n` always stays `True`\n",
    "* the value 1 is printed **indefinitely**\n",
    "\n",
    "The `while` loop gets stuck in an **infinite loop**. To stop the `while` loop Click the `Interrupt` or `Restart` buttons at the top.\n",
    "\n",
    "Execute the next cell and observe what happens. Click one of the <img src=\"figures/interrupt-restart.png\" width=\"175\"/> buttons at the top to stop."
   ]
  },
  {
   "cell_type": "code",
   "execution_count": null,
   "metadata": {},
   "outputs": [],
   "source": [
    "n = 25\n",
    "p = 0 # first power of 2\n",
    "while 2**p < n:\n",
    "    print(2**p)"
   ]
  },
  {
   "cell_type": "markdown",
   "metadata": {},
   "source": [
    "#### 3.3.3 Exercises\n",
    "\n",
    "**Exercise 1**\n",
    "\n",
    "Write a program that finds the index of the first occurence of the letter `a` in a given string without using the string method `find()`. Make your program case insensitive, i.e. it should also find the letter `A`."
   ]
  },
  {
   "cell_type": "code",
   "execution_count": null,
   "metadata": {},
   "outputs": [],
   "source": [
    "s = \"International\"\n"
   ]
  },
  {
   "cell_type": "markdown",
   "metadata": {},
   "source": [
    "**Exercise 2**\n",
    "\n",
    "Write a program that checks whether a given word is a palindrome (i.e. it reads the same forwards and backwards). An example of a palindrome is the word `reviver`. "
   ]
  },
  {
   "cell_type": "code",
   "execution_count": null,
   "metadata": {},
   "outputs": [],
   "source": [
    "word = \"reviver\"\n",
    "\n"
   ]
  },
  {
   "cell_type": "markdown",
   "metadata": {},
   "source": [
    "**Extend** your program: ignore **spaces**, **punctuation** and **capitalization** in a given sentence."
   ]
  },
  {
   "cell_type": "code",
   "execution_count": null,
   "metadata": {},
   "outputs": [],
   "source": [
    "sentence = \"A man, a plan, a canal, Panama!\"\n"
   ]
  },
  {
   "cell_type": "markdown",
   "metadata": {},
   "source": [
    "**Exercise 3**\n",
    "\n",
    "Consider the following sequence:\n",
    "\n",
    "$$\n",
    "    x_{n+1} = \\left\\{ \\begin{array}{cl} \\dfrac{x_{n}}{2} & \\rm{ when } \\,\\, x_n\\,\\, \\rm{is\\,\\,even},   \\\\\n",
    "             3 x_{n} + 1           & \\rm{ when } \\,\\, x_n\\,\\, \\rm{is\\,\\,odd}.\\end{array}  \\right.\n",
    "$$\n",
    "\n",
    "Collatz conjecture states that this sequence always converges to 1. For example, starting from $x_0 = 6$ the sequence is:\n",
    "\n",
    "$$6 \\rightarrow 3 \\rightarrow 10 \\rightarrow 5 \\rightarrow 16 \\rightarrow 8 \\rightarrow 4 \\rightarrow 2 \\rightarrow 1$$\n",
    "\n",
    "Write a program that asks the user for a positive integer $x_0$. The program should print the sequence $x_0, \\, x_1, \\, x_2, \\,\\ldots$ until $x_n = 1$."
   ]
  },
  {
   "cell_type": "markdown",
   "metadata": {},
   "source": [
    "## 3.4 The `for` loop\n",
    "\n",
    "A `for` loop is a control structure that allows to repeat code a **fixed number of times**.\n",
    "\n",
    "#### 3.4.1 Syntax\n",
    "The syntax is:\n",
    "\n",
    "```Python\n",
    "    for variable in sequence:\n",
    "        # instruction(s) to be executed for each value of variable  \n",
    "```\n",
    "where:\n",
    "* `variable`: a loop variable (placeholder) that takes the value of each element in the sequence, one at a time\n",
    "* `sequence`: a collection of elements\n",
    "    * characters (as in a string)\n",
    "    * range of numbers\n",
    "    * ...\n",
    "\n",
    "A few examples will clarify these concepts."
   ]
  },
  {
   "cell_type": "markdown",
   "metadata": {},
   "source": [
    "**Example 1**\n",
    "\n",
    "Execute the following code:"
   ]
  },
  {
   "cell_type": "code",
   "execution_count": null,
   "metadata": {},
   "outputs": [],
   "source": [
    "sentence = \"This is a sentence.\"\n",
    "n = 1\n",
    "for char in sentence:\n",
    "    if char == \" \":\n",
    "        n = n + 1\n",
    "print(\"Number of words:\", n)"
   ]
  },
  {
   "cell_type": "markdown",
   "metadata": {},
   "source": [
    "How does it work?\n",
    "* a variable `sentence` is assigned a string\n",
    "* the counter `n` is initialized\n",
    "* the `for` loop iterates over the characters of `sentence`\n",
    "    * `char` takes each character of `sentence`\n",
    "    * `char` is compared to a space `\" \"`\n",
    "    * if `char` is a space: the value of `n` is increased by 1\n",
    "* after the `for` loop the value of `n` (ie. number of words) is printed"
   ]
  },
  {
   "cell_type": "markdown",
   "metadata": {},
   "source": [
    "**Example 2**\n",
    "\n",
    "The first 10 powers of 2 can be printed by executing the following code:"
   ]
  },
  {
   "cell_type": "code",
   "execution_count": null,
   "metadata": {},
   "outputs": [],
   "source": [
    "for p in range(10):\n",
    "    print(p, 2**p)"
   ]
  },
  {
   "cell_type": "markdown",
   "metadata": {},
   "source": [
    "#### 3.4.2 The `range()` function\n",
    "In the second example above we have used a **new function**: the `range()` function. The `range()` function creates a sequence of **whole** numbers. \n",
    "\n",
    "The syntax is:\n",
    "```Python\n",
    "    range(start, stop, step)  \n",
    "```\n",
    "where\n",
    "* `start`: start value (optional, default 0)\n",
    "* `stop`: stop value (obligatory, **not included in result**)\n",
    "* `step`: step size (optional, can be negative, default 1)\n",
    "\n",
    "In the example above `range(10)` creates the sequence\n",
    "\n",
    "```Python\n",
    "    0, 1, 2, 3, ..., 9  \n",
    "```\n",
    "\n",
    "Here are some other examples to illustrate the `range()` function:"
   ]
  },
  {
   "cell_type": "code",
   "execution_count": null,
   "metadata": {},
   "outputs": [],
   "source": [
    "for i in range(3, 11):     # first = 3, last = 10\n",
    "    print(i)"
   ]
  },
  {
   "cell_type": "markdown",
   "metadata": {},
   "source": [
    "The stop value is **not included** in the range."
   ]
  },
  {
   "cell_type": "code",
   "execution_count": null,
   "metadata": {},
   "outputs": [],
   "source": [
    "for i in range(0, 10, 2):  # first = 0, last = 8\n",
    "    print(i)"
   ]
  },
  {
   "cell_type": "code",
   "execution_count": null,
   "metadata": {},
   "outputs": [],
   "source": [
    "for i in range(10, 0, -1): # first = 10, last = 1\n",
    "    print(i)"
   ]
  },
  {
   "cell_type": "markdown",
   "metadata": {},
   "source": [
    "Note that a **negative step size** is also possible. In this case, the value of `start` should be bigger than the value of `stop`."
   ]
  },
  {
   "cell_type": "markdown",
   "metadata": {},
   "source": [
    "Using the `range()` function we can iterate with an index over the characters of a string. The following code reproduces the same result as in **Example 1**:"
   ]
  },
  {
   "cell_type": "code",
   "execution_count": null,
   "metadata": {},
   "outputs": [],
   "source": [
    "sentence = \"This is a sentence.\"\n",
    "n = 1\n",
    "for i in range(len(sentence)):\n",
    "    if sentence[i] == \" \":\n",
    "        n = n + 1\n",
    "print(\"Number of words:\", n)"
   ]
  },
  {
   "cell_type": "markdown",
   "metadata": {},
   "source": [
    "#### 3.4.2 Nested for loops\n",
    "\n",
    "It is possible to nest `for` loops. This means that a `for` loop is placed inside another `for` loop. The inner `for` loop is executed for each iteration of the outer `for` loop. \n",
    "\n",
    "The syntax is:\n",
    "\n",
    "```Python\n",
    "    for variable1 in sequence1:\n",
    "        for variable2 in sequence2:\n",
    "            # instruction(s) to be executed for each value of variable1 and variable2  \n",
    "```\n",
    "\n",
    "Suppose you want to print all possible combinations of two dice. This can be achieved by: \n",
    "```Python\n",
    "    for i in range(1, 7):     # first dice\n",
    "        for j in range(1, 7): # second dice\n",
    "            print(i, j)       # combinations\n",
    "```\t\n",
    "Try to understand the code above. What is the value of `i` and `j` for each iteration of the inner `for` loop? \n",
    "\n",
    "Execute the code below to see the result:"
   ]
  },
  {
   "cell_type": "code",
   "execution_count": null,
   "metadata": {},
   "outputs": [],
   "source": [
    "# throw with two dice\n",
    "for i in range(1, 7):     # first dice\n",
    "    for j in range(1, 7): # second dice\n",
    "        print(i, j)       # combinations"
   ]
  },
  {
   "cell_type": "markdown",
   "metadata": {},
   "source": [
    "#### 3.4.3 The `break` statement\n",
    "\n",
    "The `break` statement is used to exit a loop prematurely. The `break` statement is placed inside the loop and stops the execution of the loop. The program continues with the first instruction after the loop. \n",
    "\n",
    "**Example**\n",
    "\n",
    "Suppose you want to check whether a number is prime. A number is prime if it is only divisible by 1 and itself. The following code checks whether a number is prime: \n",
    "\n",
    "```Python\n",
    "    n = input(\"Enter a whole number (> 2): \")\n",
    "    prime = True\n",
    "    for i in range(2, int(n**0.5)+1):\n",
    "        if n % i == 0:\n",
    "            prime = False\n",
    "    if prime:\n",
    "        print(n, \"is a prime number\")\n",
    "    else:\n",
    "        print(n, \"is not a prime number\")\n",
    "```\t\n",
    "\n",
    "The code checks whether `n` is divisible by any number between 2 and $\\sqrt{n}$. If a divisor is found, the value of `prime` is set to `False`. If no divisor is found, the value of `prime` stays `True` and the number is prime. **All divisors are checked, even if a divisor is found.**\n",
    "\n",
    "Using the `break` statement the code can be optimized:\n",
    "\n",
    "```Python\n",
    "    n = input(\"Enter a whole number (> 2): \")\n",
    "    prime = True\n",
    "    for i in range(2, int(n**0.5)+1):\n",
    "        if n % i == 0:\n",
    "            prime = False\n",
    "            break\n",
    "    if prime:\n",
    "        print(n, \"is a prime number\")\n",
    "    else:\n",
    "        print(n, \"is not a prime number\")\n",
    "```\n",
    "**As soon as a divisor is found, the loop is exited.** The value of `prime` is set to `False` and the program continues with the first instruction after the loop."
   ]
  },
  {
   "cell_type": "markdown",
   "metadata": {},
   "source": [
    "#### 3.4.4 Exercises\n",
    "\n",
    "**Exercise 1**\n",
    "\n",
    "The factorial of a positive integer $n$ is the product of all positive integers less than or equal to $n$.\n",
    "\n",
    "$$\n",
    "    n! = n \\times (n-1) \\times (n-2) \\times \\ldots \\times 2 \\times 1\n",
    "$$\n",
    "\n",
    "\n",
    "The factorial of 0 is 1: $0! = 1$. Write a program that computes and prints the factorial of a given positive integer $n$."
   ]
  },
  {
   "cell_type": "code",
   "execution_count": null,
   "metadata": {},
   "outputs": [],
   "source": [
    "n = 7\n"
   ]
  },
  {
   "cell_type": "markdown",
   "metadata": {},
   "source": [
    "**Exercise 2**\n",
    "\n",
    "Compute the total number of vowels in a given string `s`. Make your program case insensitive, i.e. it should count both uppercase and lowercase vowels."
   ]
  },
  {
   "cell_type": "code",
   "execution_count": null,
   "metadata": {},
   "outputs": [],
   "source": [
    "s = \"Programming is always FUN!\"\n",
    "\n"
   ]
  },
  {
   "cell_type": "markdown",
   "metadata": {},
   "source": [
    "**Exercise 3 (challenging)**\n",
    "\n",
    "Find the longest substring of consecutive identical characters in a given string `s`. For example, in the string `s = \"Programming is always FUN!\"` the longest substring of consecutive identical characters is `mm`."
   ]
  },
  {
   "cell_type": "code",
   "execution_count": null,
   "metadata": {},
   "outputs": [],
   "source": [
    "s = \"Programming is always FUN!\"\n",
    "\n"
   ]
  },
  {
   "cell_type": "markdown",
   "metadata": {},
   "source": [
    "**Exercise 4**\n",
    "\n",
    "A number is\n",
    "*  a **perfect** number if the sum of its divisors (excluding the number itself) is equal to the number. For example, 6 is a perfect number because the sum of its divisors is 1 + 2 + 3 = 6,\n",
    "*  an **abundant** number if the sum of its divisors is greater than the number. For example, 12 is an abundant number because the sum of its divisors is 1 + 2 + 3 + 4 + 6 = 16,\n",
    "*  a **deficient** number if the sum of its divisors is smaller than the number. For example, 8 is a deficient number because the sum of its divisors is 1 + 2 + 4 = 7.\n",
    "\n",
    "Write a program that prints all perfect, abundant and deficient numbers smaller than $10^5$."
   ]
  },
  {
   "cell_type": "code",
   "execution_count": null,
   "metadata": {},
   "outputs": [],
   "source": [
    "n = 10**5\n",
    "p = 0 # perfect numbers\n",
    "a = 0 # abundant numbers\n",
    "d = 0 # deficient numbers\n"
   ]
  },
  {
   "cell_type": "markdown",
   "metadata": {},
   "source": [
    "**Exercise 5**\n",
    "\n",
    "A codon is a sequence of three nucleotides. There are 4 different nucleotides: `A`, `G`, `C` and `T`. The number of possible codons is $4^3 = 64$. \n",
    "\n",
    "Write a program that prints\n",
    "* all possible codons (e.g. `AAA`, `AAC`, ..., `TTT`). <br>\n",
    "* all possible codons consisting of **different** nucleotides (e.g. `ACG`, `ACT`, ...) <br>\n",
    "* prints the codons as a table with **6** columns as in\n",
    "\n",
    "```\n",
    "    AGC AGT ACG ACT ATG ATC\n",
    "    GAC GAT GCA GCT GTA GTC\n",
    "    CAG CAT CGA CGT CTA CTG\n",
    "    TAG TAC TGA TGC TCA TCG\n",
    "```"
   ]
  },
  {
   "cell_type": "code",
   "execution_count": null,
   "metadata": {},
   "outputs": [],
   "source": [
    "nuc = \"AGCT\"\n"
   ]
  },
  {
   "cell_type": "markdown",
   "metadata": {},
   "source": [
    "< [2 Basic Datatypes](2-BasicDatatypes.ipynb) | [Contents](0-Contents.ipynb) | [4 Functions](4-ControlStructures.ipynb) >"
   ]
  },
  {
   "cell_type": "markdown",
   "metadata": {},
   "source": []
  }
 ],
 "metadata": {
  "kernelspec": {
   "display_name": "base",
   "language": "python",
   "name": "python3"
  },
  "language_info": {
   "codemirror_mode": {
    "name": "ipython",
    "version": 3
   },
   "file_extension": ".py",
   "mimetype": "text/x-python",
   "name": "python",
   "nbconvert_exporter": "python",
   "pygments_lexer": "ipython3",
   "version": "3.11.5"
  }
 },
 "nbformat": 4,
 "nbformat_minor": 4
}
