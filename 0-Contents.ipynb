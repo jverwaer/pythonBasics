{
 "cells": [
  {
   "cell_type": "markdown",
   "metadata": {},
   "source": [
    "# An Introduction to Programming in Python\n",
    "By __[Dr. Demir Ali Köse](demirali.kose@ugent.be)__ and __[prof. Jan Verwaeren](jan.verwaeren@ugent.be)__ <br>\n",
    "__[Department of Data Analysis and Mathematical Modelling](http://www.ugent.be/bw)__\n",
    "\n",
    "\n",
    "## Contents\n",
    "### __[Lesson 1: The Basics of Python](1-TheBasics.ipynb)__\n",
    "### __[Lesson 2: Datatypes](2-BasicDatatypes.ipynb)__\n",
    "### __[Lesson 3: Control Structures](3-ControlStructures.ipynb)__\n",
    "### __[Lesson 4: Functions](4-Functions.ipynb)__\n",
    "### __[Lesson 5: Lists](5-Lists.ipynb)__\n",
    "### __[Lesson 6: Tuples and Dictionaries](6-TuplesDictionaries.ipynb)__\n",
    "### __[Lesson 7: File I/O](7-FileI-O.ipynb)__\n",
    "### __[Lesson 8: NumPy](8-NumPy.ipynb)__\n",
    "### __[Lesson 9: Basic Plotting With Matplotlib](9-BasicPlotting.ipynb)__\n"
   ]
  },
  {
   "cell_type": "markdown",
   "metadata": {},
   "source": []
  }
 ],
 "metadata": {
  "kernelspec": {
   "display_name": "Python 3",
   "language": "python",
   "name": "python3"
  },
  "language_info": {
   "codemirror_mode": {
    "name": "ipython",
    "version": 3
   },
   "file_extension": ".py",
   "mimetype": "text/x-python",
   "name": "python",
   "nbconvert_exporter": "python",
   "pygments_lexer": "ipython3",
   "version": "3.6.5"
  }
 },
 "nbformat": 4,
 "nbformat_minor": 2
}
