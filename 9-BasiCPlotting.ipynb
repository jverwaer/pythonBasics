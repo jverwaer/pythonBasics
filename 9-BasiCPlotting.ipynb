{
 "cells": [
  {
   "cell_type": "markdown",
   "metadata": {},
   "source": [
    "< [8 NumPy](8-NumPy.ipynb) | [Contents](0-Contents.ipynb) >"
   ]
  },
  {
   "cell_type": "markdown",
   "metadata": {},
   "source": [
    "# 9. Basic plotting with Matplotlib\n",
    "#### 9.1 Introduction\n",
    "\n",
    "Matplotlib is a powerful library that can be used to create a wide range of plots, including line plots, scatter plots, bar plots, histograms, pie charts, and more. It provides a high degree of control over the appearance of plots and allows you to create professional-quality visualizations with ease.\n",
    "\n",
    "In this chapter, we will cover the basics of plotting with Matplotlib. We will learn how to create simple line plots, scatter plots, and bar plots, and how to customize the appearance of plots using Matplotlib's extensive set of options."
   ]
  },
  {
   "cell_type": "markdown",
   "metadata": {},
   "source": [
    "#### 9.2 Installing Matplotlib\n",
    "\n",
    "Matplotlib is not included in the Python standard library, but if you installed Anaconda and configured VS Code correctly (see manual how to do this) it should be already installed. To make use of the Matplotlib library in your Python code, you need to import it using the following statement:\n",
    "\n",
    "```python\n",
    "    import matplotlib.pyplot as plt\n",
    "```\n",
    "\n",
    "This will import the Matplotlib library `pyplot` and make its plotting functions available under the alias `plt`.\n",
    "\n",
    "#### 9.3 Creating simple plots\n",
    "\n",
    "##### 9.3.1 Line plots\n",
    "\n",
    "To create a simple line plot using Matplotlib, you can use the `plot()` function. The `plot()` function takes two arguments:\n",
    "* an array/list of x-coordinates and \n",
    "* an array/list of y-coordinates.\n",
    "\n",
    "The x-coordinates and y-coordinates should have the **same length**.\n",
    "\n",
    "Here is an example of how to create a simple line plot using Matplotlib:\n",
    "\n",
    "```python\n",
    "    import matplotlib.pyplot as plt\n",
    "    import numpy as np\n",
    "    x = np.arange(1, 11, 1)\n",
    "    y = x**2\n",
    "    plt.plot(x, y)\n",
    "```\n",
    "\n",
    "Execute this code in the cell below and you should see a simple line plot."
   ]
  },
  {
   "cell_type": "code",
   "execution_count": null,
   "metadata": {},
   "outputs": [],
   "source": [
    "import matplotlib.pyplot as plt\n",
    "import numpy as np\n",
    "x = np.arange(1, 11, 1)\n",
    "y = x**2\n",
    "plt.plot(x, y)\n"
   ]
  },
  {
   "cell_type": "markdown",
   "metadata": {},
   "source": [
    "Note that\n",
    "* the default line style is a solid line, and\n",
    "* the default color is blue.\n",
    "\n",
    "You can customize the appearance of the plot by passing additional arguments to the `plot()` function (see later)."
   ]
  },
  {
   "cell_type": "markdown",
   "metadata": {},
   "source": [
    "##### 9.3.2 Scatter plots\n",
    "\n",
    "To create a scatter plot using Matplotlib, you can use the `scatter()` function. The `scatter()` function takes two arguments:\n",
    "* an array/list of x-coordinates and\n",
    "* an array/list of y-coordinates.\n",
    "\n",
    "The x-coordinates and y-coordinates should have the same length.\n",
    "\n",
    "Here is an example of how to create a simple scatter plot using Matplotlib:\n",
    "\n",
    "```python\n",
    "    import matplotlib.pyplot as plt\n",
    "    import numpy as np\n",
    "    x = np.arange(1, 11, 1)\n",
    "    y = x**2\n",
    "    plt.scatter(x, y)\n",
    "```\n",
    "\n",
    "Execute this code in the cell below and you should see a simple scatter plot."
   ]
  },
  {
   "cell_type": "code",
   "execution_count": null,
   "metadata": {},
   "outputs": [],
   "source": [
    "import matplotlib.pyplot as plt\n",
    "import numpy as np\n",
    "x = np.arange(1, 11, 1)\n",
    "y = x**2\n",
    "plt.scatter(x, y)"
   ]
  },
  {
   "cell_type": "markdown",
   "metadata": {},
   "source": [
    "Just as in the previous example, the default color is blue. You can customize the appearance of the plot by passing additional arguments to the `scatter()` function (see later)."
   ]
  },
  {
   "cell_type": "markdown",
   "metadata": {},
   "source": [
    "##### 9.3.3 Customizing the appearance of plots\n",
    "\n",
    "If desired, you can customize the appearance of the plot by adding additional arguments to the `plot()` function. For example, you can specify the color of the line using the `color` argument, the marker style using the `marker` argument, and the line style using the `linestyle` argument.\n",
    "\n",
    "The next table shows some values for each of these arguments that you can use to customize the appearance of the plot:\n",
    "\n",
    "| Letter | Color | Symbol | Linestyle | Symbol | Marker |\n",
    "| --- | --- | --- | --- | --- | --- |\n",
    "| `b` |  blue    | `-`   | solid    | `+` |  plus sign |\n",
    "| `c` |  cyan    | `--`  | dashed   | `o` |  open circle |\n",
    "| `y` |  yellow  | `:`   | dotted   | `*` |  star |\n",
    "| `g` |  green   | `-.`  | dash-dot | `h` |  h |\n",
    "| `m` |  magenta |       |               | `.` |  point  |\n",
    "| `r` |  red     |       |               | `^` |  triangle |\n",
    "| `w` |  white   |       |               | `s` |  square |\n",
    "| `k` |  black   |       |               | `d` |  thin diamond |\n",
    "\n",
    "\n",
    "\n",
    "For example, to create a red line plot with square markers, you can use the following code:\n",
    "\n",
    "```python\n",
    "    plt.plot(x, y, color = \"r\", marker = \"s\")\n",
    "```\n",
    "\n",
    "Other useful arguments that you can use to customize the appearance of the plot include:\n",
    "* `linestyle` or `ls`: the style of the line\n",
    "* `linewidth` or `lw`: the width of the line\n",
    "* `markersize` or `ms`: the size of the markers\n",
    "* `markerfacecolor` or `mfc`: the color of the marker face\n",
    "* `markeredgecolor` or `mec`: the color of the marker edge\n",
    "\n",
    "The specification of the **linestyle, color and marker** can be combined in **a single string**. For example, to create a red line plot with square markers and a solid line, you can use the following code:\n",
    "\n",
    "```python\n",
    "    plt.plot(x, y, \"rs-\")\n",
    "```\n",
    "\n",
    "The string `\"rs-\"` specifies that \n",
    "* the line should be red (`\"r\"`), \n",
    "* the markers should be squares (`\"s\"`), and \n",
    "* the line style should be solid (`\"-\"`).\n",
    "\n",
    "Both commands will produce the **same plot**.\n",
    "\n",
    "The single string notation is a convenient shorthand for specifying the appearance of the plot. We will use this shorthand notation in the examples that follow."
   ]
  },
  {
   "cell_type": "markdown",
   "metadata": {},
   "source": [
    "#### 9.4 Annotations and labels\n",
    "\n",
    "You can add annotations and labels to your plots using Matplotlib. For example, you can add labels to the x-axis and y-axis using the `xlabel()` and `ylabel()` functions, and you can add a title to your plot using the `title()` function.\n",
    "\n",
    "Here is an example of how to add annotations and labels to a plot:\n",
    "\n",
    "```python\n",
    "    import matplotlib.pyplot as plt\n",
    "    import numpy as np\n",
    "\n",
    "    x = np.arange(1, 11, 1)\n",
    "    y = x**2\n",
    "    plt.plot(x, y, \"rs-\")\n",
    "    plt.xlabel(\"x\")\n",
    "    plt.ylabel(\"y\")\n",
    "    plt.title(\"Simple line plot\")\n",
    "```\n",
    "\n",
    "Execute this code in the cell below and you should see a simple line plot with annotations."
   ]
  },
  {
   "cell_type": "code",
   "execution_count": null,
   "metadata": {},
   "outputs": [],
   "source": [
    "import matplotlib.pyplot as plt\n",
    "import numpy as np\n",
    "\n",
    "x = np.arange(1, 11, 1)\n",
    "y = x**2\n",
    "plt.plot(x, y, \"rs-\")\n",
    "plt.xlabel(\"x\")\n",
    "plt.ylabel(\"y\")\n",
    "plt.title(\"Simple line plot\")"
   ]
  },
  {
   "cell_type": "markdown",
   "metadata": {},
   "source": [
    "If you want to place text somewhere on the plot, you can use the `text()` function. The `text()` function takes three arguments:\n",
    "* the x-coordinate of the text,\n",
    "* the y-coordinate of the text, and\n",
    "* the text to display.\n",
    "\n",
    "Here is an example of how to add text to a plot:\n",
    "\n",
    "```python\n",
    "plt.text(4.1, 15, \"This is the point (4, 16)\")\n",
    "```\n",
    "\n",
    "Execute the code in the cell below and you should see a simple line plot with text."
   ]
  },
  {
   "cell_type": "code",
   "execution_count": null,
   "metadata": {},
   "outputs": [],
   "source": [
    "import matplotlib.pyplot as plt\n",
    "import numpy as np\n",
    "\n",
    "x = np.arange(1, 11, 1)\n",
    "y = x**2\n",
    "plt.plot(x, y, \"rs-\")\n",
    "plt.text(4.1, 15, \"This is the point (4, 16)\")"
   ]
  },
  {
   "cell_type": "markdown",
   "metadata": {},
   "source": [
    "##### Formulas in labels and text\n",
    "It is also possible to use formulas in labels and text. For example, you can use LaTeX syntax to display mathematical expressions. To do this, you need to enclose the mathematical expression in dollar signs (`$`). For example, to display the expression $y = x^2$ as a label, you can use the following code:\n",
    "\n",
    "```python\n",
    "    plt.ylabel(\"$y = x^2$\")\n",
    "```\n",
    "\n",
    "##### Superscript and subscript\n",
    "To place characters in superscript, you can use the caret (`^`) symbol and accolades (`{}`) to group characters. For example, to display the expression $y = x^2 + x + 1$ as a label, you can use the following code:\n",
    "\n",
    "```python\n",
    "    plt.ylabel(\"$y = x^{2} + x + 1$\")\n",
    "```\n",
    "\n",
    "The same holds for subscripts, which can be placed using the underscore (`_`) symbol. For example, to display the expression $y = x_1 + x_2$ as a label, you can use the following code:\n",
    "\n",
    "```python\n",
    "    plt.ylabel(\"$y = x_{1} + x_{2}$\")\n",
    "```\n",
    "\n",
    "More complex formulas can be created using LaTeX syntax. For example, to display the expression $y = \\frac{x^2}{x + 1}$ as a label, you can use the following code:\n",
    "\n",
    "```python\n",
    "    plt.ylabel(\"$y = \\dfrac{x^{2}}{x + 1}$\")\n",
    "```\n",
    "\n",
    "A summation can be displayed using the following code:\n",
    "\n",
    "```python\n",
    "    plt.ylabel(\"$y = \\sum_{i=1}^{n} x_{i}$\")\n",
    "```\n",
    "\n",
    "The result of the code above is a label that displays the expression $y = \\sum\\limits_{i=1}^{n} x_{i}$."
   ]
  },
  {
   "cell_type": "markdown",
   "metadata": {},
   "source": [
    "#### Exercise\n",
    "\n",
    "Plot the function $f(x) = e^{1.2x}\\sin(10x + 5)$ over the interval $[0, 5]$ using a magenta dash-dotted line. Add labels to the $x$-axis and $y$-axis, and a title to the plot.\n",
    "\n",
    "You should get the following plot:\n",
    "\n",
    "![Resulting plot](figures/sinexp.png)\n"
   ]
  },
  {
   "cell_type": "code",
   "execution_count": null,
   "metadata": {},
   "outputs": [],
   "source": [
    "import matplotlib.pyplot as plt\n",
    "import numpy as np\n",
    "\n",
    "..."
   ]
  },
  {
   "cell_type": "markdown",
   "metadata": {},
   "source": [
    "#### 9.5 Overlaying multiple plots\n",
    "\n",
    "You can overlay multiple plots on the same set of axes using Matplotlib. To overlay multiple plots, you can call the `plot()` function multiple times with different sets of x-coordinates and y-coordinates.\n",
    "\n",
    "Here is an example of how to overlay multiple plots on the same set of axes:\n",
    "\n",
    "```python\n",
    "    import matplotlib.pyplot as plt\n",
    "    import numpy as np\n",
    "\n",
    "    x = np.arange(1, 11, 1)\n",
    "    y1 = x**2\n",
    "    y2 = x\n",
    "    plt.plot(x, y1, \"rs-\")\n",
    "    plt.plot(x, y2, \"bo-\")\n",
    "    plt.title('Overlaying multiple plots')\n",
    "```\n",
    "\n",
    "Execute this code in the cell below and you should see two lines plotted on the same set of axes."
   ]
  },
  {
   "cell_type": "code",
   "execution_count": null,
   "metadata": {},
   "outputs": [],
   "source": [
    "import matplotlib.pyplot as plt\n",
    "import numpy as np\n",
    "\n",
    "x = np.arange(1, 11, 1)\n",
    "y1 = x**2\n",
    "y2 = x\n",
    "plt.plot(x, y1, \"rs-\")\n",
    "plt.plot(x, y2, \"bo-\")\n",
    "plt.title('Overlaying multiple plots')"
   ]
  },
  {
   "cell_type": "markdown",
   "metadata": {},
   "source": [
    "##### Legends\n",
    "\n",
    "When overlaying multiple plots on the same set of axes, it is often useful to include a legend that identifies each plot. You can add a legend to your plot using the `legend()` function. The sybntax is as follows:\n",
    "\n",
    "```python\n",
    "    plt.legend([\"label1\", \"label2\", ...], loc = \"location\")\n",
    "```\n",
    "\n",
    "With:\n",
    "* `[\"label1\", \"label2\", ...]` a **list of labels** for each plot, and\n",
    "* `loc = \"location\"` the location of the legend (optional).\n",
    "\n",
    "The `legend()` function takes **a list of labels** as the first argument, which specifies the labels to be displayed in the legend. The labels should correspond to the order in which the plots were added to the axes. The second optional argument is the location of the legend. The location can be specified using the argument `loc` and a string. The following table shows some values for the location argument that you can use to specify the location of the legend:\n",
    "\n",
    "| Location | String |\n",
    "| --- | --- |\n",
    "| upper right | `\"upper right\"` |\n",
    "| upper left | `\"upper left\"` |\n",
    "| lower right | `\"lower right\"` |\n",
    "| lower left | `\"lower left\"` |\n",
    "| right | `\"right\"` |\n",
    "| center left | `\"center left\"` |\n",
    "| center right | `\"center right\"` |\n",
    "| lower center | `\"lower center\"` |\n",
    "| upper center | `\"upper center\"` |\n",
    "| center | `\"center\"` |\n",
    "\n",
    "Here is an example of how to add a legend to a plot:\n",
    "\n",
    "```python\n",
    "    plt.legend([\"$y = x^2$\", \"$y = x$\"], loc = \"upper left\")\n",
    "```\n",
    "\n",
    "Execute this code in the cell below and you should see a plot with a legend in the upper left corner that identifies each line."
   ]
  },
  {
   "cell_type": "code",
   "execution_count": null,
   "metadata": {},
   "outputs": [],
   "source": [
    "import matplotlib.pyplot as plt\n",
    "import numpy as np\n",
    "\n",
    "x = np.arange(1, 11, 1)\n",
    "y1 = x**2\n",
    "y2 = x\n",
    "plt.plot(x, y1, \"rs-\")\n",
    "plt.plot(x, y2, \"bo-\")\n",
    "plt.title('Overlaying multiple plots')\n",
    "plt.legend([\"$y = x^2$\", \"$y = x$\"], loc = \"upper left\")"
   ]
  },
  {
   "cell_type": "markdown",
   "metadata": {},
   "source": [
    "#### Exercise\n",
    "\n",
    "Consider the following functions $f$, $g$, and $h$:\n",
    "* $f(x) = 0.1x^2$\n",
    "* $g(x) = \\cos^2(x)$\n",
    "* $h(x) = e^{-0.3x}$\n",
    "\n",
    "Plot $f$, $g$, and $h$ in the same figure over the interval $[0, 3.5]$. Use a solid line for $f$, a dashed line for $g$, and a dash-dotted line for $h$. The color of the lines is of your own choice. Add labels to the $x$-axis and $y$-axis, and a title to the plot. Include a legend in the upper right corner that identifies each line.\n",
    "\n",
    "You should get the following plot:\n",
    "\n",
    "![Resulting plot](figures/overlay.png)"
   ]
  },
  {
   "cell_type": "code",
   "execution_count": null,
   "metadata": {},
   "outputs": [],
   "source": [
    "import matplotlib.pyplot as plt\n",
    "import numpy as np\n",
    "\n",
    "x = np.arange(0, 3.51, 0.01)\n",
    "\n",
    "..."
   ]
  },
  {
   "cell_type": "markdown",
   "metadata": {},
   "source": [
    "#### 9.6 Subplots\n",
    "\n",
    "You can create multiple plots in the same figure using Matplotlib. To create multiple plots, you can use the `subplot()` function. The `subplot()` function takes three arguments:\n",
    "\n",
    "* the number of rows in the grid of plots,\n",
    "* the number of columns in the grid of plots, and\n",
    "* the index of the plot in the grid of plots.\n",
    "\n",
    "Here is an example of how to create multiple plots in the same figure:\n",
    "\n",
    "```python\n",
    "    import matplotlib.pyplot as plt\n",
    "    import numpy as np\n",
    "\n",
    "    x = np.arange(1, 11, 1)\n",
    "    y1 = x**2\n",
    "    y2 = x\n",
    "\n",
    "    plt.subplot(2, 1, 1)\n",
    "    plt.plot(x, y1, \"rs-\")\n",
    "    plt.title(\"Subplot 1\")\n",
    "\n",
    "    plt.subplot(2, 1, 2)\n",
    "    plt.plot(x, y2, \"bo-\")\n",
    "    plt.title(\"Subplot 2\")\n",
    "```\n",
    "\n",
    "The 2 in the first argument of the `subplot()` function specifies that the grid of plots should have 2 rows, the 1 in the second argument specifies that the grid of plots should have 1 column, and the 1 in the third argument specifies that the current plot should be the first plot in the grid of plots.\n",
    "\n",
    "Execute this code in the cell below and you should see two plots in the same figure."
   ]
  },
  {
   "cell_type": "code",
   "execution_count": null,
   "metadata": {},
   "outputs": [],
   "source": [
    "import matplotlib.pyplot as plt\n",
    "import numpy as np\n",
    "\n",
    "x = np.arange(1, 11, 1)\n",
    "y1 = x**2\n",
    "y2 = x\n",
    "\n",
    "plt.subplot(2, 1, 1)\n",
    "plt.plot(x, y1, \"rs-\")\n",
    "plt.title(\"Subplot 1\")\n",
    "\n",
    "plt.subplot(2, 1, 2)\n",
    "plt.plot(x, y2, \"bo-\")\n",
    "plt.title(\"Subplot 2\")"
   ]
  },
  {
   "cell_type": "markdown",
   "metadata": {},
   "source": [
    "Note that the subplots overlap. You can prvent this by using the `tight_layout()` function. This function adjusts the spacing between subplots to prevent overlap.\n",
    "\n",
    "```python\n",
    "    plt.tight_layout()\n",
    "```\n",
    "\n",
    "Add this line to the code in the cell above and execute it again. The subplots should no longer overlap."
   ]
  },
  {
   "cell_type": "code",
   "execution_count": null,
   "metadata": {},
   "outputs": [],
   "source": [
    "import matplotlib.pyplot as plt\n",
    "\n",
    "x = [1, 2, 3, 4, 5]\n",
    "y1 = [1, 4, 9, 16, 25]\n",
    "y2 = [1, 2, 3, 4, 5]\n",
    "\n",
    "plt.subplot(2, 1, 1)\n",
    "plt.plot(x, y1, \"rs-\")\n",
    "plt.title(\"Subplot 1\")\n",
    "\n",
    "plt.subplot(2, 1, 2)\n",
    "plt.plot(x, y2, \"bo-\")\n",
    "plt.title(\"Subplot 2\")\n",
    "plt.tight_layout()"
   ]
  },
  {
   "cell_type": "markdown",
   "metadata": {},
   "source": [
    "#### Exercise\n",
    "\n",
    "Consider the function $f(x)$ over the interval $[0, 1]$:\n",
    "\n",
    "$$\n",
    "f(x) = abx^{a-1}(1 - x^a)^{b-1}\\,\n",
    "$$\n",
    "\n",
    "with $a$ and $b$ parameters. Plot $f(x)$ for the following values of $a$ and $b$ in different subplots:\n",
    "* $a = 5$ and $b = 1$ in the first subplot\n",
    "* $a = 2$ and $b = 5$ in the second subplot\n",
    "* $a = 0.5$ and $b = 0.5$ in the third subplot\n",
    "\n",
    "Plot an overlay of the three subplots in the same figure. The linetype and color are of your own choice. Add labels to the $x$-axis and $y$-axis, and a title to the plot. \n",
    "\n",
    "Set the limit of the $y$-axis to $[0, 3]$ for all subplots.\n",
    "\n",
    "You should get the following plot:\n",
    "\n",
    "![Resulting plot](figures/subplots.png)"
   ]
  },
  {
   "cell_type": "code",
   "execution_count": null,
   "metadata": {},
   "outputs": [],
   "source": [
    "import matplotlib.pyplot as plt\n",
    "import numpy as np\n",
    "\n",
    "x = np.arange(0, 1.01, 0.01)\n",
    "\n",
    "plt.subplot(2, 2, 1)\n",
    "\n",
    "plt.subplot(2, 2, 2)\n",
    "\n",
    "plt.subplot(2, 2, 3)\n",
    "\n",
    "plt.subplot(2, 2, 4)\n"
   ]
  },
  {
   "cell_type": "markdown",
   "metadata": {},
   "source": [
    "#### 9.7 Pie charts and bar plots\n",
    "\n",
    "In addition to line plots and scatter plots, Matplotlib can be used to create other types of plots, such as pie charts and bar plots.\n",
    "\n",
    "##### 9.7.1 Pie charts\n",
    "\n",
    "To create a pie chart, you can use the `pie()` function. The `pie()` function has the following syntax:\n",
    "\n",
    "```python\n",
    "    plt.pie(sizes, labels = labels)\n",
    "```\n",
    "\n",
    "With:\n",
    "* `sizes` a list of values that specify the sizes of the slices of the pie chart, and\n",
    "* `labels` an **optional** list of labels that specify the labels to be displayed on the slices of the pie chart.\n",
    "\n",
    "Here is an example of how to create a simple pie chart:\n",
    "\n",
    "```python\n",
    "    import matplotlib.pyplot as plt\n",
    "\n",
    "    sizes = [25, 35, 20, 20]\n",
    "    labels = [\"A\", \"B\", \"C\", \"D\"]\n",
    "    plt.pie(sizes, labels = labels)\n",
    "```\n",
    "\n",
    "Execute this code in the cell below and you should see a simple pie chart.\n"
   ]
  },
  {
   "cell_type": "code",
   "execution_count": null,
   "metadata": {},
   "outputs": [],
   "source": [
    "sizes = [25, 35, 20, 20]\n",
    "labels = [\"A\", \"B\", \"C\", \"D\"]\n",
    "plt.pie(sizes, labels = labels)"
   ]
  },
  {
   "cell_type": "markdown",
   "metadata": {},
   "source": [
    "##### 9.7.2 Bar plots\n",
    "\n",
    "To create a bar plot, you can use the `bar()` function. The `bar()` function takes two arguments:\n",
    "\n",
    "* a list of x-coordinates, which specify the positions of the bars on the x-axis, and\n",
    "* a list of y-coordinates, which specify the heights of the bars.\n",
    "\n",
    "Here is an example of how to create a simple bar plot:\n",
    "\n",
    "```python\n",
    "    import matplotlib.pyplot as plt\n",
    "    import numpy as np\n",
    "\n",
    "    x = np.arange(1, 11, 1)\n",
    "    y = x**2\n",
    "    plt.bar(x, y)\n",
    "```\n",
    "\n",
    "Execute this code in the cell below and you should see a simple bar plot."
   ]
  },
  {
   "cell_type": "code",
   "execution_count": null,
   "metadata": {},
   "outputs": [],
   "source": [
    "import matplotlib.pyplot as plt\n",
    "import numpy as np\n",
    "\n",
    "x = np.arange(1, 11, 1)\n",
    "y = x**2\n",
    "plt.bar(x, y)"
   ]
  },
  {
   "cell_type": "markdown",
   "metadata": {},
   "source": [
    "If you want to use labels in stead of x-coordinates, you can use the `xticks()` function to specify the labels for the x-axis. The `xticks()` function takes two arguments:\n",
    "\n",
    "* a list of x-coordinates, which specify the positions of the labels on the x-axis, and\n",
    "* a list of labels, which specify the labels to be displayed on the x-axis.\n",
    "\n",
    "Here is an example of how to create a bar plot with labels on the x-axis:\n",
    "\n",
    "```python\n",
    "    import matplotlib.pyplot as plt\n",
    "\n",
    "    x = [1, 2, 3, 4, 5]\n",
    "    y = [53, 145, 48, 45, 19]\n",
    "    labels = [\"a\", \"e\", \"i\", \"o\", \"u\"]\n",
    "    plt.bar(x, y)\n",
    "    plt.xticks(x, labels)\n",
    "```\n",
    "\n",
    "Execute this code in the cell below and you should see a simple bar plot with labels on the x-axis."
   ]
  },
  {
   "cell_type": "code",
   "execution_count": null,
   "metadata": {},
   "outputs": [],
   "source": [
    "import matplotlib.pyplot as plt\n",
    "\n",
    "x = [1, 2, 3, 4, 5]\n",
    "y = [53, 145, 48, 45, 19]\n",
    "labels = [\"a\", \"e\", \"i\", \"o\", \"u\"]\n",
    "plt.bar(x, y)\n",
    "plt.xticks(x, labels)"
   ]
  },
  {
   "cell_type": "markdown",
   "metadata": {},
   "source": [
    "#### 9.8 Saving and closing plots\n",
    "\n",
    "You can save plots to a file using Matplotlib. To save a plot to a file, you can use the `savefig()` function. The `savefig()` function takes the filename of the file to save the plot to as an argument.\n",
    "\n",
    "Here is an example of how to save a plot to a file:\n",
    "\n",
    "```python\n",
    "    plt.savefig(\"figures/plot.png\")\n",
    "```\n",
    "\n",
    "Add this line to the code in the cell above and execute it again. You should see a file named `plot.png` in the `figures` directory. Other file formats are also supported, such as `jpg`, `pdf`, `svg`, and others.\n",
    "\n",
    "You can close a plot using the `close()` function. The `close()` function takes no arguments. However, if you work in interactive mode (see Section 9.10)  and want to close all open plot windows, you can use the `close(\"all\")` function:\n",
    "\n",
    "```python\n",
    "    plt.close(\"All\")\n",
    "```"
   ]
  },
  {
   "cell_type": "markdown",
   "metadata": {},
   "source": [
    "#### 9.9 The `imread()` and  `imshow()` functions\n",
    "\n",
    "Matplotlib provides functions for reading and displaying images (`.png`, `jpg`, etc.):\n",
    "\n",
    "* The `imread()` function can be used to read imagesb. The `imread()` function takes the filename of the image as an argument and returns an array of pixel values representing the image.\n",
    "\n",
    "* The `imshow()` function can be used to display images. The `imshow()` function takes an array of pixel values as an argument and displays the image represented by the pixel values.\n",
    "\n",
    "The `figures` directory contains an image named `animal.png`. You can read and display this image using the `imshow()` function:\n",
    "\n",
    "```python\n",
    "    import matplotlib.pyplot as plt\n",
    "    animal = plt.imread(\"figures/animal.png\")\n",
    "    plt.imshow(animal)\n",
    "```\n",
    "\n",
    "Execute this code in the cell below and you should see the image displayed in the output."
   ]
  },
  {
   "cell_type": "code",
   "execution_count": null,
   "metadata": {},
   "outputs": [],
   "source": [
    "import matplotlib.pyplot as plt\n",
    "animal = plt.imread(\"figures/animal.png\")\n",
    "plt.imshow(animal)"
   ]
  },
  {
   "cell_type": "markdown",
   "metadata": {},
   "source": [
    "#### 9.10 Interactive backends\n",
    "\n",
    "Matplotlib provides interactive backends that allow you to interact with plots using the mouse and keyboard. To use an interactive backend, you have to set the backend before importing the `pyplot` module. For example, to use the `Qt` interactive backend, you can use the following code:\n",
    "\n",
    "```python\n",
    "    import matplotlib\n",
    "    import matplotlib.pyplot as plt\n",
    "\n",
    "    matplotlib.use(\"qtagg\")\n",
    "    plt.ion()\n",
    "```\n",
    "\n",
    "Execute the code in the cell below and an interactive plot window should appear (see figure below) that allows you to interact with the plot using the mouse and keyboard.\n",
    "\n",
    "<img src=\"figures/popup.png\" width=\"400\"/>"
   ]
  },
  {
   "cell_type": "code",
   "execution_count": 2,
   "metadata": {},
   "outputs": [
    {
     "data": {
      "text/plain": [
       "<matplotlib.image.AxesImage at 0x224dd394650>"
      ]
     },
     "execution_count": 2,
     "metadata": {},
     "output_type": "execute_result"
    }
   ],
   "source": [
    "import matplotlib\n",
    "import matplotlib.pyplot as plt\n",
    "\n",
    "matplotlib.use(\"qtagg\")\n",
    "plt.ion()\n",
    "\n",
    "animal = plt.imread(\"figures/animal.png\")\n",
    "plt.imshow(animal)"
   ]
  },
  {
   "cell_type": "markdown",
   "metadata": {},
   "source": [
    "< [8 NumPy](8-NumPy.ipynb) | [Contents](0-Contents.ipynb) >"
   ]
  },
  {
   "cell_type": "markdown",
   "metadata": {},
   "source": []
  }
 ],
 "metadata": {
  "kernelspec": {
   "display_name": "base",
   "language": "python",
   "name": "python3"
  },
  "language_info": {
   "codemirror_mode": {
    "name": "ipython",
    "version": 3
   },
   "file_extension": ".py",
   "mimetype": "text/x-python",
   "name": "python",
   "nbconvert_exporter": "python",
   "pygments_lexer": "ipython3",
   "version": "3.11.5"
  }
 },
 "nbformat": 4,
 "nbformat_minor": 4
}
