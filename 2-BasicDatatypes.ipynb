{
 "cells": [
  {
   "cell_type": "markdown",
   "metadata": {},
   "source": [
    "< [1 The Basics of Python](1-TheBasics.ipynb) | [Contents](0-Contents.ipynb) | [3 Control Structures](3-ControlStructures.ipynb) >"
   ]
  },
  {
   "cell_type": "markdown",
   "metadata": {},
   "source": [
    "# 2 Basic Datatypes\n",
    "## 2.1 Basic datatypes\n",
    "There are a few basic datatypes in Python. We already encountered two of them: integers (abbreviated `int`) and decimal numbers (abbreviated `float`). But there are more."
   ]
  },
  {
   "cell_type": "markdown",
   "metadata": {},
   "source": [
    "#### 2.1.1 Logical values\n",
    "A third datatype is boolean (or logical, abbreviated `bool`). When you **compare** numbers, strings, etc. the result is either `True` (1) or `False` (0). Check the following examples:"
   ]
  },
  {
   "cell_type": "code",
   "execution_count": null,
   "metadata": {},
   "outputs": [],
   "source": [
    "5 > -5"
   ]
  },
  {
   "cell_type": "code",
   "execution_count": null,
   "metadata": {},
   "outputs": [],
   "source": [
    "6**2 < 2**5"
   ]
  },
  {
   "cell_type": "markdown",
   "metadata": {},
   "source": [
    "#### 2.1.2 Strings\n",
    "Another datatype is string (abbreviated `str`). We already met strings in the previous chapter as the variable `s = \"The time is 13:24.\"`\n",
    "\n",
    "A string is a combination of letters and numbers and other characters (punctuation marks, special characters, etc.). Whenever you place letters and numbers in between (single or double) quotes you get a string. \n",
    "\n",
    "Have a look at the following examples (execute the code cells):"
   ]
  },
  {
   "cell_type": "code",
   "execution_count": 1,
   "metadata": {},
   "outputs": [
    {
     "data": {
      "text/plain": [
       "'This is a string with 7 words!'"
      ]
     },
     "execution_count": 1,
     "metadata": {},
     "output_type": "execute_result"
    }
   ],
   "source": [
    "\"This is a string with 7 words!\""
   ]
  },
  {
   "cell_type": "code",
   "execution_count": 2,
   "metadata": {},
   "outputs": [
    {
     "data": {
      "text/plain": [
       "'9876'"
      ]
     },
     "execution_count": 2,
     "metadata": {},
     "output_type": "execute_result"
    }
   ],
   "source": [
    "\"9876\""
   ]
  },
  {
   "cell_type": "code",
   "execution_count": 3,
   "metadata": {},
   "outputs": [
    {
     "data": {
      "text/plain": [
       "'3.14159'"
      ]
     },
     "execution_count": 3,
     "metadata": {},
     "output_type": "execute_result"
    }
   ],
   "source": [
    "\"3.14159\""
   ]
  },
  {
   "cell_type": "markdown",
   "metadata": {},
   "source": [
    "Note that even though we typed only numbers when entering 9876 we still have a string because of the double quotes.\n",
    "\n",
    "To check the datatype we can use the built in `type()` function:"
   ]
  },
  {
   "cell_type": "code",
   "execution_count": 4,
   "metadata": {},
   "outputs": [
    {
     "data": {
      "text/plain": [
       "str"
      ]
     },
     "execution_count": 4,
     "metadata": {},
     "output_type": "execute_result"
    }
   ],
   "source": [
    "type(\"9876\")"
   ]
  },
  {
   "cell_type": "markdown",
   "metadata": {},
   "source": [
    "Note the difference between this and the next example."
   ]
  },
  {
   "cell_type": "code",
   "execution_count": 5,
   "metadata": {},
   "outputs": [
    {
     "data": {
      "text/plain": [
       "int"
      ]
     },
     "execution_count": 5,
     "metadata": {},
     "output_type": "execute_result"
    }
   ],
   "source": [
    "type(9876)"
   ]
  },
  {
   "cell_type": "code",
   "execution_count": 6,
   "metadata": {},
   "outputs": [
    {
     "data": {
      "text/plain": [
       "float"
      ]
     },
     "execution_count": 6,
     "metadata": {},
     "output_type": "execute_result"
    }
   ],
   "source": [
    "type(3.14159)"
   ]
  },
  {
   "cell_type": "code",
   "execution_count": 7,
   "metadata": {},
   "outputs": [
    {
     "data": {
      "text/plain": [
       "bool"
      ]
     },
     "execution_count": 7,
     "metadata": {},
     "output_type": "execute_result"
    }
   ],
   "source": [
    "type(False)"
   ]
  },
  {
   "cell_type": "markdown",
   "metadata": {},
   "source": [
    "#### 2.2.3 String concatenation and duplication\n",
    "With the `+` and `*` operators strings can be **concatened** and **duplicated**."
   ]
  },
  {
   "cell_type": "code",
   "execution_count": null,
   "metadata": {},
   "outputs": [],
   "source": [
    "# giving variables text, and adding text.\n",
    "word1 = \"Good\"\n",
    "word2 = \"morning\"\n",
    "word3 = \"to you too!\"\n",
    "# string concatenation with the print() function\n",
    "print(word1, word2)\n",
    "\n",
    "# string concatenation with the + operator\n",
    "sentence1 = word1 + word2 + word3 \n",
    "print(sentence1)\n",
    "sentence2 = word1 + \" \" + word2 + \" \" + word3 \n",
    "print(sentence2)\n",
    "\n",
    "# string duplication with the * operator\n",
    "sentence3 = 3*word1\n",
    "print(sentence3)\n",
    "print(\"-\"*12)"
   ]
  },
  {
   "cell_type": "markdown",
   "metadata": {},
   "source": [
    "We observe that:\n",
    "* the `print()` adds one space in between strings\n",
    "* with the `+` operator strings are concatenated without extra spaces in between\n",
    "* string duplication with the `*` operator saves typing time"
   ]
  },
  {
   "cell_type": "markdown",
   "metadata": {},
   "source": [
    "The `len()` function gives the **number of characters** in a string.:"
   ]
  },
  {
   "cell_type": "code",
   "execution_count": null,
   "metadata": {},
   "outputs": [],
   "source": [
    "text = \"abc def, ghij!\"\n",
    "len(text)"
   ]
  },
  {
   "cell_type": "markdown",
   "metadata": {},
   "source": [
    "Note that the spaces, the comma and the exclamation mark also take places: the 14 we obtained is the sum of\n",
    "* 11 letters\n",
    "* 2 spaces\n",
    "* 1 exclamation mark "
   ]
  },
  {
   "cell_type": "markdown",
   "metadata": {},
   "source": [
    "#### 2.2.4 String manipulation\n",
    "Often we need to manipulate strings:\n",
    "* search for a character or a substring,\n",
    "* count the numberof occurances,\n",
    "* replace one or more characters by others,\n",
    "* split the string,\n",
    "* etc. \n",
    "\n",
    "Python has an extensive list of string methods. Some useful methods are:\n",
    "\n",
    "| Method | Description |\n",
    "| :---: | --- |\n",
    "| `find()` | Searches the string for a specified value and returns the position of where it was found |\n",
    "| `count()` | Returns the number of times a specified value occurs in a string |\n",
    "| `replace()` | Returns a string where a specified value is replaced with a specified value |\n",
    "| `split()` | Splits the string at the specified separator, and returns a list |\n",
    "| `lower()` | Converts a string into **lower** case |\n",
    "| `upper()` | Converts a string into **upper** case |"
   ]
  },
  {
   "cell_type": "markdown",
   "metadata": {},
   "source": [
    "The following examples illustrate the use of these string methods:"
   ]
  },
  {
   "cell_type": "code",
   "execution_count": null,
   "metadata": {},
   "outputs": [],
   "source": [
    "word1 = \"Good\"\n",
    "word2 = \"morning\"\n",
    "word3 = \"to you too!\"\n",
    "\n",
    "print(word1.count(\"o\"))"
   ]
  },
  {
   "cell_type": "code",
   "execution_count": null,
   "metadata": {},
   "outputs": [],
   "source": [
    "print(word2.upper())"
   ]
  },
  {
   "cell_type": "code",
   "execution_count": null,
   "metadata": {},
   "outputs": [],
   "source": [
    "print(word3.split(\" \"))"
   ]
  },
  {
   "cell_type": "code",
   "execution_count": null,
   "metadata": {},
   "outputs": [],
   "source": [
    "print(word3.replace(\"too!\", \"my friend.\"))"
   ]
  },
  {
   "cell_type": "markdown",
   "metadata": {},
   "source": [
    "#### 2.2.5 Accessing Elements in a string\n",
    "In many applications we have to address a single character or make selections from text. Strings are similar to `lists` which we will introduce later. Similar operations (called *list slicing*) apply to strings.\n",
    "\n",
    "#### Indexing\n",
    "Each character in a string has an index. Indexing starts at 0:\n",
    "* the first (position 1) character has index 0, \n",
    "* the second (position 2) character has index 1, etc. \n",
    "\n",
    "Access to a character is granted by the use of the **index operator** `[]`:\n",
    "\n",
    "```Python\n",
    "    s[i] # with i ranging from 0 to len(s)-1\n",
    "```\n",
    "means: select the character with index `i` (position `i+1`) from the string `s`. The index `i` ranges from `0` to `len(s)-1`. \n",
    "\n",
    "Examples:"
   ]
  },
  {
   "cell_type": "code",
   "execution_count": null,
   "metadata": {},
   "outputs": [],
   "source": [
    "s = \"abcdefghij\"\n",
    "print(s[0])    # FIRST character"
   ]
  },
  {
   "cell_type": "code",
   "execution_count": null,
   "metadata": {},
   "outputs": [],
   "source": [
    "print(s[2])    # THIRD character"
   ]
  },
  {
   "cell_type": "markdown",
   "metadata": {},
   "source": [
    "Note that index `2` refers to the character at position `3`."
   ]
  },
  {
   "cell_type": "markdown",
   "metadata": {},
   "source": [
    "Indexing with **negative indices** is also possible. The syntax is (`s` is a string):\n",
    "\n",
    "```Python\n",
    "    s[-i] # with i ranging from 1 to len(s)\n",
    "```"
   ]
  },
  {
   "cell_type": "code",
   "execution_count": null,
   "metadata": {},
   "outputs": [],
   "source": [
    "print(s[-2])"
   ]
  },
  {
   "cell_type": "markdown",
   "metadata": {},
   "source": [
    "We have selected the second character from the right. Note that here we start counting with -1 for the first character on the right.\n",
    "\n",
    "The last character of a string can be indexed with a negative index using `-1`, the first character has the negative index `-len(text)`:"
   ]
  },
  {
   "cell_type": "code",
   "execution_count": null,
   "metadata": {},
   "outputs": [],
   "source": [
    "s = \"abcdefghij\"\n",
    "print(s[-1])         # LAST character, equivalent with s[len(s)-1]"
   ]
  },
  {
   "cell_type": "code",
   "execution_count": null,
   "metadata": {},
   "outputs": [],
   "source": [
    "print(s[-len(s)]) # FIRST character, equivalent with s[0]"
   ]
  },
  {
   "cell_type": "markdown",
   "metadata": {},
   "source": [
    "#### Slicing\n",
    "Slicing is the selection of multiple characters. Again, the index operator `[]` is used:\n",
    "\n",
    "```Python\n",
    "    s[i:j] # with i < j\n",
    "```\n",
    "\n",
    "means: select the characters with indices `i`, `i+1`, up to `j-1`. The character with index `j` is **not included** in the selection.\n",
    "\n",
    "The **general** syntax is:\n",
    "\n",
    "```python\n",
    "    s[start:stop:step]\n",
    "```\n",
    "where \n",
    "* `start` is the index of the first element (default is 0), \n",
    "* `stop` is the index of the last element (**not included**, default is len(list_name)) and \n",
    "* `step` is the number of elements to skip (default is 1).\n",
    "\n",
    "Example:"
   ]
  },
  {
   "cell_type": "code",
   "execution_count": null,
   "metadata": {},
   "outputs": [],
   "source": [
    "print(s[0:4])   # select characters with indices 0 up to 3"
   ]
  },
  {
   "cell_type": "markdown",
   "metadata": {},
   "source": [
    "The following table summarizes some indexing and slicing possibilities (the variable `s` represents a string):\n",
    "\n",
    "| Slice | Meaning |\n",
    "| :---: | --- |\n",
    "| `s[i]` | character at index `i` (counting starts at 0) |\n",
    "| `s[i:j]` | characters `i` up to `j-1` (character `j` **not** included) |\n",
    "| `s[i:]` | characters from `i` up to end of string |\n",
    "| `s[:j]` | characters from start up to `j-1` (character  `j` **not** included) |\n",
    "| `s[i:j:k]` | characters from `i` up to `j-1` in steps of `k` |\n",
    "| `s[:]` | all characters |\n",
    "| `s[::-1]` | all characters in **reversed** order|"
   ]
  },
  {
   "cell_type": "markdown",
   "metadata": {},
   "source": [
    "Important note: with ranges, the **stop value is not included in the selection**."
   ]
  },
  {
   "cell_type": "markdown",
   "metadata": {},
   "source": [
    "Some examples:"
   ]
  },
  {
   "cell_type": "code",
   "execution_count": null,
   "metadata": {},
   "outputs": [],
   "source": [
    "s = \"abcdefghij\"\n",
    "print(s[4:8])"
   ]
  },
  {
   "cell_type": "markdown",
   "metadata": {},
   "source": [
    "Here we see that `[4:8]` selects characters with indices 4, 5, 6, and 7 which is \"efgh\". "
   ]
  },
  {
   "cell_type": "code",
   "execution_count": null,
   "metadata": {},
   "outputs": [],
   "source": [
    "print(s[:4])"
   ]
  },
  {
   "cell_type": "code",
   "execution_count": null,
   "metadata": {},
   "outputs": [],
   "source": [
    "print(s[4:])"
   ]
  },
  {
   "cell_type": "markdown",
   "metadata": {},
   "source": [
    "With `[4:]` we start with index 4 until the end of the string, which results in \"efghij\"."
   ]
  },
  {
   "cell_type": "code",
   "execution_count": null,
   "metadata": {},
   "outputs": [],
   "source": [
    "print(s[1:7:3])"
   ]
  },
  {
   "cell_type": "markdown",
   "metadata": {},
   "source": [
    "In the last example only the characters with indices 1 and 4 are selected. The character with index 7 is not included in the selection."
   ]
  },
  {
   "cell_type": "markdown",
   "metadata": {},
   "source": [
    "#### 2.1.3 Summary\n",
    "Let us summarize the datatypes we already know in a table:\n",
    "\n",
    "| Abbreviation | Datatype | Example(s) |\n",
    "| :---: | --- | --- |\n",
    "| `int` | integer | 5, -73 |\n",
    "| `float` | decimal number | 3.14, -29.469 |\n",
    "| `str` | string | \"word\", \"12.3\" |\n",
    "| `bool` | boolean | `True` (1) and `False` (0) |"
   ]
  },
  {
   "cell_type": "markdown",
   "metadata": {},
   "source": [
    "#### Exercise 1\n",
    "\n",
    "Write code below (replace the ... in the last command) to select the **second word** of the sentence using the correct **range**."
   ]
  },
  {
   "cell_type": "code",
   "execution_count": null,
   "metadata": {},
   "outputs": [],
   "source": [
    "word1 = \"Good\"\n",
    "word2 = \"morning\"\n",
    "word3 = \"to you too!\"\n",
    "sentence1 = word1 + \" \" + word2 + \" \" + word3\n",
    "print(sentence1)\n",
    "secondWord = sentence1[...]"
   ]
  },
  {
   "cell_type": "markdown",
   "metadata": {},
   "source": [
    "#### Exercise 2\n",
    "Suppose you have a string `name` containing the name of a Python script. Use slicing/indexing to select the file name without the extension `.py`. Replace the dots between the brackets:"
   ]
  },
  {
   "cell_type": "code",
   "execution_count": null,
   "metadata": {},
   "outputs": [],
   "source": [
    "name = \"intro_to_Python.py\"\n",
    "filename = name[...]"
   ]
  },
  {
   "cell_type": "markdown",
   "metadata": {},
   "source": [
    "## 2.5 String formatting with f-strings\n",
    "\n",
    "With the use of `f` strings variables (containing integers, floats, strings, ...) can be put together in a formatted string. Formatting can be \n",
    "* the number op characters (places) to be used\n",
    "* desired precision (number of decimals)\n",
    "* alignment specification: left, right, center"
   ]
  },
  {
   "cell_type": "markdown",
   "metadata": {},
   "source": [
    "#### Basic formatting\n",
    "\n",
    "To use `f` strings:\n",
    "* place an `f` or an `F` before the string to be formatted\n",
    "* type accolades `{}` (_place holders_) around the variable to be formatted\n",
    "* let the variable be followed by a colon `:`\n",
    "* specify the datatype of the variable:\n",
    "\n",
    "| Character | Datatype |\n",
    "| :---: | --- |\n",
    "| `s` | string |\n",
    "| `d` | integer |\n",
    "| `f` | float |\n",
    "\n",
    "* print the `f` string with the `print()` function\n",
    "\n",
    "The syntax to format a variable is\n",
    "\n",
    "```Python\n",
    "    {variable:xtype}\n",
    "```\n",
    "\n",
    "with:\n",
    "* `variable`: the name of the variable to be formatted\n",
    "* `x`: the number of characters (places) to be used\n",
    "* `type`: the datatype of the variable to be formatted (`s`, `d` or `f`)"
   ]
  },
  {
   "cell_type": "markdown",
   "metadata": {},
   "source": [
    "#### Specifying the number of characters\n",
    "\n",
    "To specify the number of characters to be used, simply `x` by this number:"
   ]
  },
  {
   "cell_type": "code",
   "execution_count": null,
   "metadata": {},
   "outputs": [],
   "source": [
    "char = \"a\"\n",
    "n = 23\n",
    "print(f\"The character {char:5s} occurs {n:10d} times\")"
   ]
  },
  {
   "cell_type": "markdown",
   "metadata": {},
   "source": [
    "Observe that:\n",
    "* since **strings** are aligned **left**, the character `a` is **followed** by 4 additional spaces\n",
    "* since **numbers** are aligned **right**, the number `23` is **preceded** by 8 additional spaces"
   ]
  },
  {
   "cell_type": "markdown",
   "metadata": {},
   "source": [
    "#### Precision\n",
    "\n",
    "In case of decimal numbers (floats), one can specify the precision. This can be realized by using the following syntax:\n",
    "\n",
    "```Python\n",
    "    {variable:x.yf}\n",
    "```\n",
    "\n",
    "with:\n",
    "* `variable`: the name of the variable to be formatted\n",
    "* `x`: the number of characters (places) to be used\n",
    "* `y`: the number of decimal places to be used\n",
    "\n",
    "Execute the following code and try to interpret the result:"
   ]
  },
  {
   "cell_type": "code",
   "execution_count": null,
   "metadata": {},
   "outputs": [],
   "source": [
    "bmi = 21.718\n",
    "name = \"John\"\n",
    "print(f\"{name:10s} has a BMI of {bmi:7.1f}.\")"
   ]
  },
  {
   "cell_type": "markdown",
   "metadata": {},
   "source": [
    "The formatting `{name:10s}` means: use 10 characters to represent the value of `name`. Since 10 places were provided and strings are aligned to the left, and `John` takes 4 places, 6 additional spaces were added to the **right** of `John`. The `s` stands for string.\n",
    "\n",
    "The formatting `{bmi:7.1f}` means: use 7 characters to represent the value of `bmi` and round to 1 decimal place. The `f` stands for float.\n",
    "\n",
    "Since 7 places were provided, and numbers are aligned to the right, and `21.7` takes 4 places (the dot takes one too), 3 additional spaces were added to the **left** of `21.7`. "
   ]
  },
  {
   "cell_type": "markdown",
   "metadata": {},
   "source": [
    "#### Alignment\n",
    "The alignment can be specified by adding `<`, `>` or `^` just after the colon:\n",
    "\n",
    "| Character | Alignment |\n",
    "| :---: | --- |\n",
    "| `<` | left |\n",
    "| `>` | right |\n",
    "| `^` | centered |"
   ]
  },
  {
   "cell_type": "markdown",
   "metadata": {},
   "source": [
    "< [1 The Basics of Python](1-TheBasics.ipynb) | [Contents](0-Contents.ipynb) | [3 Control Structures](3-ControlStructures.ipynb) >"
   ]
  },
  {
   "cell_type": "code",
   "execution_count": null,
   "metadata": {},
   "outputs": [],
   "source": []
  },
  {
   "cell_type": "markdown",
   "metadata": {},
   "source": []
  }
 ],
 "metadata": {
  "kernelspec": {
   "display_name": "base",
   "language": "python",
   "name": "python3"
  },
  "language_info": {
   "codemirror_mode": {
    "name": "ipython",
    "version": 3
   },
   "file_extension": ".py",
   "mimetype": "text/x-python",
   "name": "python",
   "nbconvert_exporter": "python",
   "pygments_lexer": "ipython3",
   "version": "3.11.5"
  }
 },
 "nbformat": 4,
 "nbformat_minor": 4
}
