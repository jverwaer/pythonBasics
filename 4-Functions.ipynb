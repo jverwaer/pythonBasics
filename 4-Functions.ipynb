{
 "cells": [
  {
   "cell_type": "markdown",
   "metadata": {},
   "source": [
    "< [3 Control Structures](3-ControlStructures.ipynb) | [Contents](0-Contents.ipynb) | [5 Lists](5-Lists.ipynb) >"
   ]
  },
  {
   "cell_type": "markdown",
   "metadata": {},
   "source": [
    "# 4. Functions\n",
    "#### 4.1 Introduction\n",
    "\n",
    "A functions takes one or more inputs, performs some operations on these inputs, and returns a result. This is depicted in the following diagram:\n",
    "\n",
    "<center><img src=\"figures/function.png\" width=\"200\"/></center>\n",
    "\n",
    "\n",
    "A function is a block of organized, reusable code that is used to perform a single, related action. This is useful because it allows you to reuse code, which makes your programs shorter and easier to read. \n",
    "\n",
    "After you have created a function, you can use it at any time, in any place. You can call a function as many times as you want. "
   ]
  },
  {
   "cell_type": "markdown",
   "metadata": {},
   "source": [
    "#### 4.2 Calling built-in functions\n",
    "\n",
    "Python has a lot of built-in functions that you can use by 'calling' them. 'Calling' a function means you give this function an input, and the function returns a value as output. For example, the `round()` function takes a number as input and returns the number rounded to the nearest integer.\n",
    "\n",
    "Try running the following code cell:"
   ]
  },
  {
   "cell_type": "code",
   "execution_count": null,
   "metadata": {},
   "outputs": [],
   "source": [
    "print(round(3.14159))"
   ]
  },
  {
   "cell_type": "markdown",
   "metadata": {},
   "source": [
    "When you call the `round()` function with 2 arguments, it returns the first argument rounded to the number of decimal places specified by the second argument. \n",
    "\n",
    "Try running the following code cell:"
   ]
  },
  {
   "cell_type": "code",
   "execution_count": null,
   "metadata": {},
   "outputs": [],
   "source": [
    "print(round(3.14159, 2))"
   ]
  },
  {
   "cell_type": "markdown",
   "metadata": {},
   "source": [
    "Of course you can also create your own functions. These functions are called user-defined functions."
   ]
  },
  {
   "cell_type": "markdown",
   "metadata": {},
   "source": [
    "#### 4.3 Syntax of a Function\n",
    "\n",
    "The syntax of a function in Python is as follows:\n",
    "\n",
    "```python\n",
    "    def function_name(parameters):\n",
    "        statement(s)\n",
    "        return variable\n",
    "```\n",
    "In this syntax:\n",
    "* `def`: a keyword that marks the beginning of the function header.\n",
    "* `function_name`: the name of the function\n",
    "* `parameters`: the values passed to the function (optional)\n",
    "* `statement(s)`: the (**indented**) block of statements that perform the operations of the function.\n",
    "* `return variable`: is used to return a value from the function (optional)\n",
    "\n",
    "Note that the statements in the function are indented. This is how Python knows that these statements are part of the function.\n",
    "\n",
    "A first example of a function is the function `mean()` that calculates the mean of a list of numbers. The function is defined as follows:\n",
    "\n",
    "```python\n",
    "    def mean(numbers):\n",
    "        total = sum(numbers)\n",
    "        length = len(numbers)\n",
    "        average = total / length\n",
    "        return average\n",
    "```\n",
    "\n",
    "The name of the function is `mean`, and it takes one parameter, `numbers`. The function calculates the sum of the numbers in the list, and divides this sum by the length of the list. The result (average) is returned by the function.\n",
    "\n",
    "To test the function, you can call it with a list of numbers as input. For example, the following code cell calculates the mean of the list `[1.23, 1.45, 1.56, 2.01, 2.50, 3.01]`:"
   ]
  },
  {
   "cell_type": "code",
   "execution_count": null,
   "metadata": {},
   "outputs": [],
   "source": [
    "# function definition \n",
    "def mean(numbers):\n",
    "    total = sum(numbers)\n",
    "    length = len(numbers)\n",
    "    average = total / length\n",
    "    return average\n",
    "\n",
    "# test instructions\n",
    "numbers = [1.23, 1.45, 1.56, 2.01, 2.50, 3.01]\n",
    "average = mean(numbers)\n",
    "print(average)"
   ]
  },
  {
   "cell_type": "markdown",
   "metadata": {},
   "source": [
    "#### 4.4 Functions with multiple arguments and return values\n",
    "Functions can have multiple arguments. For example, the following function `kin_energy()` computes the kinetic energy of an object launched vertically with velocity `v0`. The function takes 3 arguments, `m`, `v0` and `h`, and returns the kinetic energy $\\frac{1}{2}mv_0^2 - mgh$ at height `h`.\n",
    "\n",
    "```python\n",
    "    def kin_energy(m, v0, h):\n",
    "        g = 9.81\n",
    "        KE = 1/2*m*v0**2 - m*g*h\n",
    "        return KE\n",
    "```\n",
    "\n",
    "To test the function, you can call it with the arguments `m = 1.25`, `v0 = 10` and `h = 5`:"
   ]
  },
  {
   "cell_type": "code",
   "execution_count": null,
   "metadata": {},
   "outputs": [],
   "source": [
    "def kin_energy(m, v0, h):\n",
    "    g = 9.81\n",
    "    KE = 1/2*m*v0**2 - m*g*h\n",
    "    return KE\n",
    "\n",
    "# test instructions\n",
    "m = 1.25\n",
    "v0 = 10\n",
    "h = 5\n",
    "KE = kin_energy(m, v0, h)\n",
    "print(round(KE, 2)) # round to 2 decimal places"
   ]
  },
  {
   "cell_type": "markdown",
   "metadata": {},
   "source": [
    "Functions can have multiple return values. For example, the following function `circle()` computes the area and circumference of a circle with radius `r`. The function takes 1 argument, `r`, and returns the area and circumference of the circle.\n",
    "\n",
    "```python\n",
    "    import math\n",
    "    def circle(r):\n",
    "        area = math.pi*r**2\n",
    "        circumference = 2*math.pi*r\n",
    "        return area, circumference\n",
    "```\n",
    "To test the function, you can call it with the argument `r = 5`:"
   ]
  },
  {
   "cell_type": "code",
   "execution_count": null,
   "metadata": {},
   "outputs": [],
   "source": [
    "# import math module\n",
    "import math\n",
    "# function definition\n",
    "def circle(r):\n",
    "    area = math.pi*r**2\n",
    "    circumference = 2*math.pi*r\n",
    "    return area, circumference\n",
    "\n",
    "# test instructions\n",
    "r = 5\n",
    "area, circumference = circle(r)\n",
    "print(\"Area:\", round(area, 2))\n",
    "print(\"Circumference\", round(circumference, 2))"
   ]
  },
  {
   "cell_type": "markdown",
   "metadata": {},
   "source": [
    "#### 4.5 Variable scope\n",
    "The scope of a variable is the part of the program where the variable is accessible. In Python, variables defined inside a function are not accessible outside the function. These variables have local scope. \n",
    "\n",
    "For example, the variable `g` in the function `kin_energy()` is not accessible outside the function. If you try to print the variable `g` after calling the function, you will get an `NameError`:"
   ]
  },
  {
   "cell_type": "code",
   "execution_count": null,
   "metadata": {},
   "outputs": [],
   "source": [
    "print(g)"
   ]
  },
  {
   "cell_type": "markdown",
   "metadata": {},
   "source": [
    "Variables defined outside a function are accessible inside the function. These variables have global scope. \n",
    "Suppose we define the function `kin_energy()` without the variable `g`:"
   ]
  },
  {
   "cell_type": "code",
   "execution_count": null,
   "metadata": {},
   "outputs": [],
   "source": [
    "# function definition without g\n",
    "def kin_energy(m, v0, h):\n",
    "    KE = 1/2*m*v0**2 - m*g*h\n",
    "    return KE\n",
    "\n",
    "# test instructions\n",
    "g = 9.81\n",
    "m = 1.25\n",
    "v0 = 10\n",
    "h = 5\n",
    "KE = kin_energy(m, v0, h)\n",
    "print(round(KE, 2))"
   ]
  },
  {
   "cell_type": "markdown",
   "metadata": {},
   "source": [
    "The function `kin_energy()` will use the variable `g` **defined outside** the function. "
   ]
  },
  {
   "cell_type": "markdown",
   "metadata": {},
   "source": [
    "#### 4.6 Namespaces\n",
    "A namespace is a collection of names. In Python, each function has its own namespace. This means that the variables defined inside a function are not accessible outside the function. \n",
    "\n",
    "There are three types of namespaces in Python:\n",
    "* Local namespace: the namespace inside the function. The variables defined inside the function are stored in the local namespace.\n",
    "* Global namespace: the namespace outside the function. The variables defined outside the function are stored in the global namespace.\n",
    "* Built-in namespace: the namespace that contains all the built-in functions and variables.\n",
    "\n",
    "When you call a function, Python first looks for the variable in the local namespace. If the variable is not found, Python looks for the variable in the global namespace. If the variable is not found in the global namespace, Python looks for the variable in the built-in namespace."
   ]
  },
  {
   "cell_type": "markdown",
   "metadata": {},
   "source": [
    "#### 4.7 Functions calling other functions\n",
    "(User defined) functions can call other (user defined) functions. \n",
    "\n",
    "The **standard deviation** is calculated with the formula:\n",
    "\n",
    "$$\n",
    "\\sqrt{\\frac{\\sum\\limits_{i=1}^{n}(x_i - \\bar{x})^2}{n-1}}\n",
    "$$, \n",
    "\n",
    "where $\\bar{x}$ is the mean of the list of numbers:\n",
    "\n",
    "$$\n",
    "\\bar{x} = \\frac{1}{n}\\sum\\limits_{i=1}^{n}x_i\n",
    "$$\n",
    "\n",
    "The following function `std()` calculates the standard deviation of a list of numbers:\n",
    "\n",
    "```python\n",
    "    def std(numbers):\n",
    "        xBar = mean(numbers)\n",
    "        sum_squares = 0\n",
    "        for x in numbers:\n",
    "            sum_squares = sum_squares + (x - xBar) ** 2\n",
    "        stdev = (sum_squares / (len(numbers) - 1)) ** 0.5\n",
    "        return stdev\n",
    "```\n",
    "\n",
    "The function `std()` calls the function `mean()` (that we defined previously) to calculate the mean of the list of numbers.\n"
   ]
  },
  {
   "cell_type": "code",
   "execution_count": null,
   "metadata": {},
   "outputs": [],
   "source": [
    "# function definition\n",
    "def std(numbers):\n",
    "    xBar = mean(numbers)\n",
    "    sum_squares = 0\n",
    "    for x in numbers:\n",
    "        sum_squares = sum_squares + (x - xBar) ** 2\n",
    "    stdev = (sum_squares / (len(numbers) - 1)) ** 0.5\n",
    "    return stdev\n",
    "\n",
    "# test instructions\n",
    "numbers = [1.23, 1.45, 1.56, 2.01, 2.50, 3.01]\n",
    "stdev = std(numbers)\n",
    "print(round(stdev, 2))"
   ]
  },
  {
   "cell_type": "markdown",
   "metadata": {},
   "source": [
    "#### 4.8 Default arguments\n",
    "You can specify default values for the arguments of a function. If you call the function without specifying the value of an argument, the default value is used. \n",
    "\n",
    "An example of a built-in function with default arguments is the function `round()`. The function `round()` takes 2 arguments: `number` and `ndigits`. The default value of `ndigits` is 0. If you call the function `round()` with only 1 argument, the default value 0 is used and the number is rounded to the nearest integer."
   ]
  },
  {
   "cell_type": "code",
   "execution_count": null,
   "metadata": {},
   "outputs": [],
   "source": [
    "x = round(3.54159)\n",
    "print(x)  # round off to nearest integer"
   ]
  },
  {
   "cell_type": "code",
   "execution_count": null,
   "metadata": {},
   "outputs": [],
   "source": [
    "y = round(3.54159, 2)\n",
    "print(y)  # round off to 2 decimal places"
   ]
  },
  {
   "cell_type": "markdown",
   "metadata": {},
   "source": [
    "An example with a user-defined function is the function `kin_energy()` where we make `g` a default argument. If you call the function `kin_energy()` without specifying the value of `g`, the default value 9.81 is used:"
   ]
  },
  {
   "cell_type": "code",
   "execution_count": null,
   "metadata": {},
   "outputs": [],
   "source": [
    "# function definition\n",
    "def kin_energy(m, v0, h, g = 9.81):\n",
    "    KE = 1/2*m*v0**2 - m*g*h\n",
    "    return KE\n",
    "\n",
    "# test instructions\n",
    "m = 1.25\n",
    "v0 = 10\n",
    "h = 5\n",
    "KE = kin_energy(m, v0, h) # g is not provided\n",
    "print(\"On Earth\", round(KE, 2), \"J\")"
   ]
  },
  {
   "cell_type": "code",
   "execution_count": null,
   "metadata": {},
   "outputs": [],
   "source": [
    "KE = kin_energy(m, v0, h, 1.62) # gravity on the moon\n",
    "print(\"On the Moon:\", round(KE, 2), \"J\")"
   ]
  },
  {
   "cell_type": "markdown",
   "metadata": {},
   "source": [
    "In the first example, the function `kin_energy()` is called without specifying the value of `g`, so the default value 9.81 is used.\n",
    "\n",
    "In the second example, the function `kin_energy()` is called with a value of `1.62` for `g`. This value is used."
   ]
  },
  {
   "cell_type": "markdown",
   "metadata": {},
   "source": [
    "#### 4.9 Keywords arguments and positional arguments\n",
    "When you call a function, you can specify the value of the arguments by their name. These are called keyword arguments. For example, the function `kin_energy()` can be called with the keyword argument `m = 1.25`, `v0 = 10` and `h = 5`:\n",
    "\n",
    "`kin_energy(m = 1.25, v0 = 10, h = 5)`. \n",
    "\n",
    "The order of the arguments is not important when you use keyword arguments: you can specify the arguments in any order. This means that you can also call the function `kin_energy()` as\n",
    "* `kin_energy(v0 = 10, m = 1.25, h = 5)` or \n",
    "* `kin_energy(h = 5, m = 1.25, v0 = 10)`.\n",
    "\n",
    "All these calls will return the same result.\n",
    "\n",
    "Try running the following code cell:"
   ]
  },
  {
   "cell_type": "code",
   "execution_count": null,
   "metadata": {},
   "outputs": [],
   "source": [
    "# function definition\n",
    "def kin_energy(m, v0, h):\n",
    "    KE = 1/2*m*v0**2 - m*g*h\n",
    "    return KE\n",
    "\n",
    "# test instructions\n",
    "g = 9.81\n",
    "KE1 = kin_energy(m = 1.25, v0 = 10, h = 5)\n",
    "KE2 = kin_energy(v0 = 10, m = 1.25, h = 5)\n",
    "KE3 = kin_energy(h = 5, m = 1.25, v0 = 10)\n",
    "print(KE1, KE2, KE3)"
   ]
  },
  {
   "cell_type": "markdown",
   "metadata": {},
   "source": [
    "You can also call a function with **positional arguments**. These are arguments that are not specified by their name. For example, the function `kin_energy` can be called with the positional arguments `1.25`, `10` and `5`: `kin_energy(1.25, 10, 5)`. If you change the order of the arguments, the function will return a different result:\n",
    "\n",
    "Try running the following code cell:"
   ]
  },
  {
   "cell_type": "code",
   "execution_count": null,
   "metadata": {},
   "outputs": [],
   "source": [
    "KE1 = kin_energy(1.25, 10, 5)\n",
    "KE2 = kin_energy(10, 1.25, 5)\n",
    "print(KE1, KE2)"
   ]
  },
  {
   "cell_type": "markdown",
   "metadata": {},
   "source": [
    "If you use both keyword arguments and positional arguments, you must **specify the keyword arguments after the positional arguments**. For example, the function `kin_energy()` can be called with the positional arguments `1.25`, `10`, and the keyword argument `h = 5`: `kin_energy(1.25, 10, h = 5)`.\n",
    "\n",
    "If you specify the keyword argument **before** the positional arguments, you will get the error\n",
    "\n",
    "`SyntaxError: positional argument follows keyword argument`.\n",
    "\n",
    "Try running the following code cell:"
   ]
  },
  {
   "cell_type": "code",
   "execution_count": null,
   "metadata": {},
   "outputs": [],
   "source": [
    "# positional arguments before keyword arguments --> OK\n",
    "KE1 = kin_energy(1.25, 10, h = 5)\n",
    "print(KE1)\n",
    "\n",
    "# positional arguments after keyword arguments --> error\n",
    "KE2 = kin_energy(1.25, v0 = 10, 5)\n",
    "print(KE2)"
   ]
  },
  {
   "cell_type": "markdown",
   "metadata": {},
   "source": [
    "#### 4.10 Functions with multuple return statements\n",
    "A function can have multiple return statements. When a function is called, the statements in the function are executed until a return statement is reached. When a return statement is reached, the function returns the value specified in the return statement and stops executing.\n",
    "\n",
    "Suppose we want to write a function `check_string()` that performs 3 checks on a string:\n",
    "* the length should be at least 5 characters\n",
    "* starts with the letter `p`\n",
    "* contains at least one letter `a`\n",
    "\n",
    "The function should return `valid` if the string passes all checks, and `invalid` otherwise.\n",
    "\n",
    "An implementation of the function `check_string()` with **one** return statement is as follows:\n",
    "\n",
    "```python\n",
    "def check_string(s):\n",
    "    res = \"valid\"\n",
    "    if len(s) < 5\n",
    "        res = \"invalid\"\n",
    "    if s[0] != \"p\":\n",
    "        res = \"invalid\"\n",
    "    if \"a\" not in s:\n",
    "        res = \"invalid\"\n",
    "    return res\n",
    "```\n",
    "\n",
    "In this first implementation, the function `check_string()` has one return statement. The function first checks if the length of the string is less than 5 characters. If this is the case, the variable `res` is set to `invalid`. The function then checks if the string starts with the letter 'p'. If this is not the case, the variable `res` is set to `invalid`. The function then checks if the string contains the letter 'a'. If this is not the case, the variable `res` is set to `invalid`. **All checks are performed**, and the function returns the value of the variable `res`.\n",
    "\n",
    "An implementation with **multiple** return statement is as follows:\n",
    "\n",
    "```python\n",
    "def check_string(s):\n",
    "    if len(s) < 5:\n",
    "        return \"invalid\"\n",
    "    if s[0] != \"p\":\n",
    "        return \"invalid\"\n",
    "    if \"a\" not in s:\n",
    "        return \"invalid\"\n",
    "    return \"valid\"\n",
    "```\n",
    "\n",
    "In this second implementation, the function `check_string()` has multiple return statements. The function first checks if the length of the string is less than 5 characters. If this is the case, the function returns `invalid`. \n",
    "\n",
    "**The function does not check the other conditions.**\n",
    "\n",
    "Only when the string passes all checks, the function returns `valid`."
   ]
  },
  {
   "cell_type": "markdown",
   "metadata": {},
   "source": [
    "#### 4.11 Lambda functions\n",
    "A lambda function is a small anonymous function. A lambda function can take any number of arguments, but can only have one expression. The syntax of a lambda function is as follows:\n",
    "\n",
    "```python\n",
    "lambda argument(s): expression\n",
    "```\n",
    "In this syntax:\n",
    "* `lambda`: a keyword that marks the beginning of the lambda function.\n",
    "* `argument(s)`: the argument(s) of the lambda function.\n",
    "* `expression`: the expression that is evaluated and returned by the lambda function.\n",
    "\n",
    "For example, the following lambda function calculates the square of a number:\n",
    "\n",
    "```python\n",
    "square = lambda x: x**2\n",
    "```\n",
    "\n",
    "You can call the lambda function with an argument."
   ]
  },
  {
   "cell_type": "code",
   "execution_count": null,
   "metadata": {},
   "outputs": [],
   "source": [
    "# lambda function definition\n",
    "square = lambda x: x**2\n",
    "# test instructions\n",
    "square(3)"
   ]
  },
  {
   "cell_type": "markdown",
   "metadata": {},
   "source": [
    "Lambda functions can include multiple arguments. For example, the following lambda function calculates the sum of two numbers:\n",
    "\n",
    "```python\n",
    "add = lambda x, y: x + y\n",
    "```"
   ]
  },
  {
   "cell_type": "code",
   "execution_count": null,
   "metadata": {},
   "outputs": [],
   "source": [
    "# lambda function definition\n",
    "add = lambda x, y: x + y\n",
    "# test instructions\n",
    "add(2, 3)"
   ]
  },
  {
   "cell_type": "markdown",
   "metadata": {},
   "source": [
    "Lambda functions can include if-else-statements. For example, the following lambda function returns the string 'positive' if the number is positive, and 'negative' if the number is negative:\n",
    "\n",
    "```python\n",
    "sign = lambda x: \"positive\" if x > 0 else \"negative\"\n",
    "```"
   ]
  },
  {
   "cell_type": "code",
   "execution_count": null,
   "metadata": {},
   "outputs": [],
   "source": [
    "# lambda function definition\n",
    "sign = lambda x: \"positive\" if x > 0 else \"negative\"\n",
    "# test instructions\n",
    "print(sign(3))\n",
    "print(sign(-3))"
   ]
  },
  {
   "cell_type": "markdown",
   "metadata": {},
   "source": [
    "## 4.12 Exercises\n",
    "\n",
    "#### Exercise 4.1\n",
    "\n",
    "Write a function `splitDNA()` that takes a DNA sequence as input and print a sequence of codons. A codon is a sequence of three nucleotides. For example, the DNA sequence `ATGCGTACG` should be split into the strings `ATG`, `CGT` and `ACG`. Your function should print the codons and return the number of codons.\n",
    "\n",
    "Check whether the length of the DNA sequence is a multiple of 3. If this is not the case, print the message `Invalid DNA sequence` and return 0.\n",
    "\n"
   ]
  },
  {
   "cell_type": "code",
   "execution_count": null,
   "metadata": {},
   "outputs": [],
   "source": [
    "def splitDNA(dna):\n",
    "    n = 0\n",
    "    ... # code to check whether DNA is valid\n",
    "    ... # code to split DNA\n",
    "    return n\n",
    "\n",
    "dna = \"ATGCGTA\"\n",
    "n = splitDNA(dna)\n",
    "print(n)"
   ]
  },
  {
   "cell_type": "markdown",
   "metadata": {},
   "source": [
    "#### Exercise 4.2\n",
    "\n",
    "A signal is represented by a string consisting of 0's and 1's. A sequence of `1`'s is called a `pulse`. For example, the signal `001110011100111` has 3 pulses. Write a function `count_pulses()` that takes a signal as input and returns the number of pulses.\n"
   ]
  },
  {
   "cell_type": "code",
   "execution_count": null,
   "metadata": {},
   "outputs": [],
   "source": [
    "def count_pulses(signal):\n",
    "    n = 0\n",
    "    ... # code to count pulses\n",
    "    return n\n",
    "\n",
    "signal = \"0011100110001000111111101111000111100011000100001110\"\n",
    "n = count_pulses(signal)\n",
    "print(n)"
   ]
  },
  {
   "cell_type": "markdown",
   "metadata": {},
   "source": [
    "#### Exercise 4.3\n",
    "\n",
    "We continue the previous exercise. Write a function `pulse_length()` that takes a signal as input and prints\n",
    "* the start and end index of each pulse\n",
    "* the length of the each pulse\n",
    "\n",
    "For example, for the signal `01110011000100011110` your function should print:\n",
    "\n",
    "```python   \n",
    "    Pulse 1: start = 1, end = 3, length = 3\n",
    "    Pulse 2: start = 6, end = 7, length = 2\n",
    "    Pulse 3: start = 11, end = 11, length = 1\n",
    "    Pulse 4: start = 14, end = 17, length = 4\n",
    "``` \n",
    "\n",
    "Your function also returns the number of pulses."
   ]
  },
  {
   "cell_type": "code",
   "execution_count": null,
   "metadata": {},
   "outputs": [],
   "source": [
    "def pulse_length(signal):\n",
    "    n = 0\n",
    "    ... # code to find the start and end of a pulse\n",
    "    ... # code to measure pulse length\n",
    "    return n\n",
    "\n",
    "signal = \"0011100110001000111111101111000111100011000100001110\"\n",
    "n = pulse_length(signal)\n",
    "print(n)"
   ]
  },
  {
   "cell_type": "markdown",
   "metadata": {},
   "source": [
    "< [3 Control Structures](3-ControlStructures.ipynb) | [Contents](0-Contents.ipynb) | [5 Lists](5-Lists.ipynb) >"
   ]
  },
  {
   "cell_type": "markdown",
   "metadata": {},
   "source": []
  }
 ],
 "metadata": {
  "kernelspec": {
   "display_name": "base",
   "language": "python",
   "name": "python3"
  },
  "language_info": {
   "codemirror_mode": {
    "name": "ipython",
    "version": 3
   },
   "file_extension": ".py",
   "mimetype": "text/x-python",
   "name": "python",
   "nbconvert_exporter": "python",
   "pygments_lexer": "ipython3",
   "version": "3.11.5"
  }
 },
 "nbformat": 4,
 "nbformat_minor": 4
}
