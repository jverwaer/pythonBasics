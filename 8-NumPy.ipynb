{
 "cells": [
  {
   "cell_type": "markdown",
   "metadata": {},
   "source": [
    "< [7 File I/O](7-FileI-O.ipynb) | [Contents](0-Contents.ipynb) | [9 Basic Plotting](9-BasicPlotting.ipynb) >"
   ]
  },
  {
   "cell_type": "markdown",
   "metadata": {},
   "source": [
    "# 8 NumPy\n",
    "#### 8.1 Introduction\n",
    "NumPy (stands for Numerical Python) is a Python library that provides support for large, multi-dimensional arrays and matrices, along with a collection of mathematical functions to operate on these arrays. It is the fundamental package for scientific computing with Python.\n",
    "\n",
    "In this notebook, we will learn about the basics of NumPy, such as creating arrays, indexing, slicing, and reshaping arrays, and performing mathematical operations on arrays.\n",
    "\n",
    "#### 8.2 Importing the NumPy module\n",
    "To use NumPy, we need to import the `numpy` module. The standard way to import NumPy is by using the alias `np`.\n",
    "\n",
    "```python\n",
    "import numpy as np\n",
    "```"
   ]
  },
  {
   "cell_type": "code",
   "execution_count": null,
   "metadata": {},
   "outputs": [],
   "source": [
    "import numpy as np"
   ]
  },
  {
   "cell_type": "markdown",
   "metadata": {},
   "source": [
    "#### 8.3 Creating NumPy arrays\n",
    "\n",
    "There are several ways to create NumPy arrays. Some of the common methods are:\n",
    "\n",
    "* the `array()` function\n",
    "* the `arange()` function\n",
    "* the `linspace()` function\n",
    "* the `zeros()` and `ones()` functions\n",
    "\n",
    "Let's look at each of these methods in detail."
   ]
  },
  {
   "cell_type": "markdown",
   "metadata": {},
   "source": [
    "##### 8.3.1 The `array()` function\n",
    "\n",
    "The `array()` function is used to create a NumPy array from a list or a tuple. The syntax for creating an array using the `array()` function is as follows:\n",
    "\n",
    "```python\n",
    "    np.array(object, dtype = None)\n",
    "```\n",
    "\n",
    "With:\n",
    "* `object`: the input data,\n",
    "* `dtype`: the data type of the resulting array (optional, default is `None`). Typical values are `int`, `float`, `str`. If `dtype` is not specified, the data type is inferred from the other input arguments.\n",
    "\n",
    "Some examples of creating arrays using the `array()` function are:\n"
   ]
  },
  {
   "cell_type": "code",
   "execution_count": null,
   "metadata": {},
   "outputs": [],
   "source": [
    "import numpy as np\n",
    "\n",
    "# Create an array from a LIST\n",
    "x = np.array([1, 2, 3, 4, 5])\n",
    "print(x)"
   ]
  },
  {
   "cell_type": "code",
   "execution_count": null,
   "metadata": {},
   "outputs": [],
   "source": [
    "# Create an array from a LIST of LISTS (see also Section 5.5.1)\n",
    "M = np.array([[1, 2, 3], [4, 5, 6], [7, 8, 9]])\n",
    "print(M)"
   ]
  },
  {
   "cell_type": "markdown",
   "metadata": {},
   "source": [
    "Note that `x` is a 1D array while `y` is a 2D array."
   ]
  },
  {
   "cell_type": "code",
   "execution_count": null,
   "metadata": {},
   "outputs": [],
   "source": [
    "# Array of bools\n",
    "b = np.array([True, False, True, False, True])\n",
    "print(b)"
   ]
  },
  {
   "cell_type": "markdown",
   "metadata": {},
   "source": [
    "In stead of typing `True` or `False`, we can use `1` or `0` to represent `True` or `False`, respectively:\n",
    "\n",
    "```python\n",
    "    np.array([1, 0, 1, 0], dtype = bool)\n",
    "```\n",
    "\n",
    "This will create the same array as in the previous example."
   ]
  },
  {
   "cell_type": "markdown",
   "metadata": {},
   "source": [
    "##### 8.3.2 The `arange()` function\n",
    "\n",
    "The `arange()` function is used to create **a 1D array with a range of values** between a start and end value. The syntax for creating an array using the `arange()` function is as follows:\n",
    "\n",
    "```python\n",
    "    np.arange(start, stop, step, dtype = None)\n",
    "```\n",
    "\n",
    "With:\n",
    "* `start`: the starting value of the range (optional, default is 0),\n",
    "* `stop`: the end value of the range (**not included** in the array),\n",
    "* `step`: the step size between the values in the range (optional, default is 1),\n",
    "* `dtype`: the data type of the resulting array (optional, default is `None`). Possible values are `int`, `float`, `str`. If `dtype` is not specified, the data type is inferred from the other input arguments.\n",
    "\n",
    "Some examples of creating arrays using the `arange()` function are:"
   ]
  },
  {
   "cell_type": "code",
   "execution_count": null,
   "metadata": {},
   "outputs": [],
   "source": [
    "import numpy as np\n",
    "# increasing array from 1 to 10\n",
    "x = np.arange(1, 11)\n",
    "print(x)"
   ]
  },
  {
   "cell_type": "code",
   "execution_count": null,
   "metadata": {},
   "outputs": [],
   "source": [
    "# decreasing array from 10 to 1\n",
    "y = np.arange(10, 0, -1)\n",
    "print(y)"
   ]
  },
  {
   "cell_type": "code",
   "execution_count": null,
   "metadata": {},
   "outputs": [],
   "source": [
    "# even numbers from 1 to 10\n",
    "z = np.arange(2, 11, 2)\n",
    "print(z)"
   ]
  },
  {
   "cell_type": "code",
   "execution_count": null,
   "metadata": {},
   "outputs": [],
   "source": [
    "# from 1 to 2 in steps of 0.1\n",
    "w = np.arange(1, 2.1, 0.1)\n",
    "print(w)"
   ]
  },
  {
   "cell_type": "markdown",
   "metadata": {},
   "source": [
    "##### 8.3.3 The `linspace()` function\n",
    "\n",
    "The `linspace()` function is used **to create a 1D array with a specified number of evenly spaced values between a start and end value**. The syntax for creating an array using the `linspace()` function is as follows:\n",
    "\n",
    "```python\n",
    "    np.linspace(start, stop, num = 50)\n",
    "```\n",
    "\n",
    "With:\n",
    "* `start`: the starting value of the range,\n",
    "* `stop`: the end value of the range (**included** in the array),\n",
    "* `num`: the number of values to generate (optional, default is 50),\n",
    "\n",
    "Some examples of creating arrays using the `linspace()` function are:\n"
   ]
  },
  {
   "cell_type": "code",
   "execution_count": null,
   "metadata": {},
   "outputs": [],
   "source": [
    "import numpy as np\n",
    "# divide the interval from 0 to 1 into 5 equal parts\n",
    "x = np.linspace(0, 1, 5)\n",
    "print(x)"
   ]
  },
  {
   "cell_type": "code",
   "execution_count": null,
   "metadata": {},
   "outputs": [],
   "source": [
    "# create an array with 40 linearly spaced elements in the interval from 4 to 8\n",
    "y = np.linspace(0, 8, 40)\n",
    "print(y)"
   ]
  },
  {
   "cell_type": "code",
   "execution_count": null,
   "metadata": {},
   "outputs": [],
   "source": [
    "# return the step size\n",
    "print(y[1] - y[0])\n"
   ]
  },
  {
   "cell_type": "markdown",
   "metadata": {},
   "source": [
    "There is a nice relationship between the step size `step` on one hand and `start`, `stop` and `num` on the other hand:\n",
    "\n",
    "$$\n",
    "    step = \\dfrac{stop - start}{num - 1}\n",
    "$$ \n"
   ]
  },
  {
   "cell_type": "markdown",
   "metadata": {},
   "source": [
    "##### 8.3.4 The `zeros()` and `ones()` functions\n",
    "\n",
    "The `zeros()` and `ones()` functions are used to create arrays filled with zeros and ones, respectively. The syntax for creating an array using the `zeros()` and `ones()` functions is as follows:\n",
    "\n",
    "```python\n",
    "    np.zeros(shape, dtype = None)\n",
    "    np.ones(shape, dtype = None)\n",
    "```\n",
    "\n",
    "With:\n",
    "* `shape`: the shape of the array (a tuple of integers),\n",
    "* `dtype`: the data type of the resulting array (optional, default is `None`). Possible values are `int`, `float` and `bool`. If `dtype` is not specified, the data type is `float`.\n",
    "\n",
    "Some examples of creating arrays using the `zeros()` and `ones()` functions are:"
   ]
  },
  {
   "cell_type": "code",
   "execution_count": null,
   "metadata": {},
   "outputs": [],
   "source": [
    "import numpy as np\n",
    "\n",
    "# create a 3x5 array of zeros\n",
    "x = np.zeros((3, 5)) # default dtype is float64\n",
    "print(x)"
   ]
  },
  {
   "cell_type": "code",
   "execution_count": null,
   "metadata": {},
   "outputs": [],
   "source": [
    "# create a 3x5 array of ones\n",
    "y = np.ones((3, 5))  # default dtype is float64\n",
    "print(y)"
   ]
  },
  {
   "cell_type": "code",
   "execution_count": null,
   "metadata": {},
   "outputs": [],
   "source": [
    "# create a 3x5 array with True\n",
    "z = np.ones((3, 5), dtype = bool)\n",
    "print(z)"
   ]
  },
  {
   "cell_type": "markdown",
   "metadata": {},
   "source": [
    "##### 8.3.4 Array attributes\n",
    "\n",
    "NumPy arrays have several attributes that provide information about the array. Some of the common attributes are:\n",
    "\n",
    "* `shape`: the shape of the array (a tuple of integers),\n",
    "* `size`: the total number of elements in the array,\n",
    "* `dtype`: the data type of the elements in the array,\n",
    "* `ndim`: the number of dimensions of the array.\n",
    "\n",
    "Let's look at a 1D example of using these attributes:"
   ]
  },
  {
   "cell_type": "code",
   "execution_count": null,
   "metadata": {},
   "outputs": [],
   "source": [
    "import numpy as np\n",
    "\n",
    "# create a 1D array with values from 0 to 10\n",
    "x = np.arange(1, 11)\n",
    "print(x)"
   ]
  },
  {
   "cell_type": "code",
   "execution_count": null,
   "metadata": {},
   "outputs": [],
   "source": [
    "# get the shape of x\n",
    "print(x.shape)\n"
   ]
  },
  {
   "cell_type": "markdown",
   "metadata": {},
   "source": [
    "Note that for a 1D array the attribute `shape` is a tuple with one element: the number of elements in the array."
   ]
  },
  {
   "cell_type": "code",
   "execution_count": null,
   "metadata": {},
   "outputs": [],
   "source": [
    "# get the number of elements in x\n",
    "print(x.size)\n"
   ]
  },
  {
   "cell_type": "code",
   "execution_count": null,
   "metadata": {},
   "outputs": [],
   "source": [
    "# get the data type of x\n",
    "print(x.dtype)\n"
   ]
  },
  {
   "cell_type": "code",
   "execution_count": null,
   "metadata": {},
   "outputs": [],
   "source": [
    "# get the number of dimensions of x\n",
    "print(x.ndim)"
   ]
  },
  {
   "cell_type": "markdown",
   "metadata": {},
   "source": [
    "Note that `x` is a 1D array."
   ]
  },
  {
   "cell_type": "markdown",
   "metadata": {},
   "source": [
    "Let's have a look at a 2D example of using these attributes:"
   ]
  },
  {
   "cell_type": "code",
   "execution_count": null,
   "metadata": {},
   "outputs": [],
   "source": [
    "# create a 2D array with 4 rows and 7 columns filled with ones\n",
    "y = np.ones((4, 7))\n",
    "print(y)"
   ]
  },
  {
   "cell_type": "code",
   "execution_count": null,
   "metadata": {},
   "outputs": [],
   "source": [
    "# get the shape of y\n",
    "print(y.shape)"
   ]
  },
  {
   "cell_type": "markdown",
   "metadata": {},
   "source": [
    "Note that the shape of an 2D array is a tuple that contains the number of elements in each dimension."
   ]
  },
  {
   "cell_type": "code",
   "execution_count": null,
   "metadata": {},
   "outputs": [],
   "source": [
    "# get the number of elements in y\n",
    "print(y.size)"
   ]
  },
  {
   "cell_type": "markdown",
   "metadata": {},
   "source": [
    "The `size` attribute returns the total number of elements in the array. This is equivalent to the product of the elements in the `shape` attribute: `size = shape[0] * shape[1]`."
   ]
  },
  {
   "cell_type": "code",
   "execution_count": null,
   "metadata": {},
   "outputs": [],
   "source": [
    "# get the number of dimensions of y\n",
    "print(y.ndim)"
   ]
  },
  {
   "cell_type": "markdown",
   "metadata": {},
   "source": [
    "##### 8.3.5 Exercises\n",
    "\n",
    "**Exercise 8.1**\n",
    "\n",
    "Create the following 1D arrays using the methods described above:\n",
    "* $[1, 2, 3, \\ldots, 199]$\n",
    "* $[50, 49, 48, \\ldots,  -49, -50]$\n",
    "* $[-10.0, -9.5, \\ldots, 9.5, 10.5]$\n",
    "* $[0, 1, 0, 1, 0, 1, \\ldots]$ (100 elements)\n",
    "* $[-1, 0, 1, 0, -1, 0, 1, 0, \\ldots]$ (100 elements)\n",
    "* $[5.0, -4.94949495, -4.8989899, \\ldots, -0.05050505 0.0]$ (100 elements)\n"
   ]
  },
  {
   "cell_type": "code",
   "execution_count": null,
   "metadata": {},
   "outputs": [],
   "source": [
    "import numpy as np"
   ]
  },
  {
   "cell_type": "markdown",
   "metadata": {},
   "source": [
    "**Exercise 8.2**\n",
    "\n",
    "Create the following 2D arrays using the methods described above:\n",
    "\n",
    "* $\\begin{bmatrix} 1 & 2 & 3 & 4 & 5 \\\\ 6 & 7 & 8 & 9 & 10 \\end{bmatrix}$\n",
    "* $\\begin{bmatrix} 1 & 0 & 1 & 0 & 1 \\\\ 0 & 1 & 0 & 1 & 0 \\\\ 1 & 0 & 1 & 0 & 1 \\\\ 0 & 1 & 0 & 1 & 0 \\end{bmatrix}$\n",
    "* $\\begin{bmatrix} 1 & 1 & \\ldots & 1 & 1 \\\\ 50 & -49 & \\ldots & -49 & -50 \\end{bmatrix}$"
   ]
  },
  {
   "cell_type": "code",
   "execution_count": null,
   "metadata": {},
   "outputs": [],
   "source": [
    "import numpy as np\n",
    "... "
   ]
  },
  {
   "cell_type": "markdown",
   "metadata": {},
   "source": [
    "#### 8.4 Indexing and slicing arrays\n",
    "\n",
    "1D NumPy arrays can be indexed and sliced in the same way as lists (see Section 5.3). The syntax for indexing and slicing **1D arrays** is as follows:\n",
    "\n",
    "```python\n",
    "    array[index]            # access an element at a specific index\n",
    "    array[start:stop:step]  # slice the array from start to stop with a step size\n",
    "```\n",
    "\n",
    "With:\n",
    "* `index`: the index of the element to access,\n",
    "* `start`: the starting index of the slice,\n",
    "* `stop`: the ending index of the slice (**not included** in the slice),\n",
    "* `step`: the step size between the elements in the slice.\n",
    "\n",
    "The following table summarizes some indexing and slicing possibilities (the variable `x` represents a 1D array):\n",
    "\n",
    "| Slice | Meaning |\n",
    "| :---: | --- |\n",
    "| `x[i]` | element at index `i` (counting starts at 0) |\n",
    "| `x[i:j]` | element `i` up to `j-1` (character `j` **not** included) |\n",
    "| `x[i:]` | element from `i` up to end of `x` |\n",
    "| `x[:j]` | element from start up to `j-1` (element  `j` **not** included) |\n",
    "| `x[i:j:k]` | elements from `i` up to `j-1` in steps of `k` |\n",
    "| `x[:]` | all elements |\n",
    "| `x[::-1]` | all elements in **reversed** order|\n",
    "\n",
    "Negative indices can be used to access elements from the end of the array. The syntax for using negative indices is as follows:\n",
    "\n",
    "```python\n",
    "    array[-index]  # where index is a positive integer ranging from 1 to `len(array)`\n",
    "```\n",
    "\n",
    "Some examples of indexing and slicing 1D arrays are:"
   ]
  },
  {
   "cell_type": "code",
   "execution_count": null,
   "metadata": {},
   "outputs": [],
   "source": [
    "import numpy as np\n",
    "# create a 1D array with values from -3 to 7\n",
    "x = np.arange(-3, 8)\n",
    "print(x)"
   ]
  },
  {
   "cell_type": "code",
   "execution_count": null,
   "metadata": {},
   "outputs": [],
   "source": [
    "# get the third element of x\n",
    "print(x[2])\n",
    "\n",
    "# get the last element of x\n",
    "print(x[-1])\n",
    "\n",
    "# get the 2nd to 5th elements of x\n",
    "print(x[1:5])\n",
    "\n",
    "# get the elements with an uneven index\n",
    "print(x[1::2])"
   ]
  },
  {
   "cell_type": "markdown",
   "metadata": {},
   "source": [
    "The syntax for indexing and slicing **2D arrays** is as follows:\n",
    "\n",
    "```python\n",
    "    array[row, column]              # access an element at a specific row and column\n",
    "    array[start:stop:step, :]       # slice the array along the rows\n",
    "    array[:, start:stop:step]       # slice the array along the columns\n",
    "    array[start_row:stop_row:step, start_column:stop_column:step]  # slice the array along the rows and columns\n",
    "```\n",
    "\n",
    "With:\n",
    "* `row`: the index of the row to access,\n",
    "* `column`: the index of the column to access,\n",
    "* `start_row`: the starting index of the slice along the rows,\n",
    "* `stop_row`: the ending index of the slice along the rows (**not included** in the slice),\n",
    "* `start_column`: the starting index of the slice along the columns,\n",
    "* `stop_column`: the ending index of the slice along the columns (**not included** in the slice),\n",
    "* `step`: the step size between the elements in the slice.\n",
    "\n",
    "Some examples of indexing and slicing 2D arrays are:"
   ]
  },
  {
   "cell_type": "code",
   "execution_count": null,
   "metadata": {},
   "outputs": [],
   "source": [
    "import numpy as np\n",
    "\n",
    "# create a 2D array with 3 rows and 5 columns with the numbers from 1 to 15\n",
    "M = np.array([[1, 2, 3, 4, 5], [6, 7, 8, 9, 10], [11, 12, 13, 14, 15]])\n",
    "print(M)\n",
    "\n",
    "# get the element in the second row and the fourth column\n",
    "print(M[1, 3])\n",
    "\n",
    "# get the first row of M\n",
    "print(M[0])\n",
    "\n",
    "# get the third column of M\n",
    "print(M[:, 2])\n",
    "\n",
    "# get the subarray of M consisting of the first two rows and the last three columns\n",
    "print(M[:2, 2:])"
   ]
  },
  {
   "cell_type": "markdown",
   "metadata": {},
   "source": [
    "#### 8.4.3 Exercises\n",
    "\n",
    "**Exercise 1**\n",
    "\n",
    "Consider the following $1\\times 15$ array `x` of random integers:\n",
    "\n",
    "$$\n",
    "x =\n",
    "\\begin{bmatrix}\n",
    "    -4 & 3 & -2 & 1 & 0 & -1 & 2 & -3 & 4 & -5 & 6 & -7 & 8 & -9 & 10\n",
    "\\end{bmatrix}\n",
    "$$\n",
    "\n",
    "\n",
    "Access the following elements (all numbers refer to **indices**):\n",
    "* the last element,\n",
    "* the 8th element,\n",
    "* the first 10 elements,\n",
    "* the last 10 elements,\n",
    "* the elements from 5 to 11,\n",
    "* all elements with an even index,\n",
    "* all elements with an uneven index."
   ]
  },
  {
   "cell_type": "code",
   "execution_count": null,
   "metadata": {},
   "outputs": [],
   "source": [
    "import numpy as np\n",
    "x = np.arange(-4, 11)\n",
    "print(x)\n",
    "\n",
    "x[...] # last element\n",
    "..."
   ]
  },
  {
   "cell_type": "markdown",
   "metadata": {},
   "source": [
    "**Exercise 2**\n",
    "\n",
    "Consider the following $5\\times7$ array `M` of integers:\n",
    "\n",
    "$$\n",
    "M =\n",
    "\\begin{bmatrix}\n",
    " 1 & 2 & 3 & 4 & 5 & 6 & 7 \\\\\n",
    " 8 & 9 & 10 & 11 & 12 & 13 & 14 \\\\ \n",
    "15 & 16 & 17 & 18 & 19 & 20 & 21 \\\\ \n",
    "22 & 23 & 24 & 25 & 26 & 27 & 28 \\\\ \n",
    "29 & 30 & 31 & 32 & 33 & 34 & 35\n",
    "\\end{bmatrix}\n",
    "$$\n",
    "\n",
    "Access the following elements (all numbers refer to **indices**):\n",
    "* the element in the first row and first column,\n",
    "* the element in the last row and last column,\n",
    "* the element in the third row and fifth column,\n",
    "* the first row,\n",
    "* the last row,\n",
    "* the first column,\n",
    "* the last column,\n",
    "* the elements in the first two rows and first two columns,\n",
    "* the elements in the last two rows and last two columns."
   ]
  },
  {
   "cell_type": "code",
   "execution_count": null,
   "metadata": {},
   "outputs": [],
   "source": [
    "import numpy as np\n",
    "M = np.arange(1, 36).reshape(5, 7)\n",
    "print(M)\n",
    "\n",
    "M[..., ...] # element in the first row and first column\n",
    "..."
   ]
  },
  {
   "cell_type": "markdown",
   "metadata": {},
   "source": [
    "#### 8.5 Iterating over the elements of an array\n",
    "\n",
    "##### 8.5.1 Element based iteration\n",
    "\n",
    "1D NumPy arrays can be iterated over using a `for` loop. The syntax for iterating over the elements of an array is as follows:\n",
    "\n",
    "```python\n",
    "    for element in array:\n",
    "        # do something with element\n",
    "```\n",
    "\n",
    "2D NumPy arrays can be iterated over using nested `for` loops. The syntax for iterating over the elements of a 2D array is as follows:\n",
    "\n",
    "```python\n",
    "    for row in array:\n",
    "        for element in row:\n",
    "            # do something with element\n",
    "```\n",
    "\n",
    "Some examples of iterating over the elements of arrays are:"
   ]
  },
  {
   "cell_type": "code",
   "execution_count": null,
   "metadata": {},
   "outputs": [],
   "source": [
    "import numpy as np\n",
    "\n",
    "# create a 2D array with 3 rows and 5 columns with the numbers from 1 to 15\n",
    "M = np.array([[1, 2, 3, 4, 5], [6, 7, 8, 9, 10], [11, 12, 13, 14, 15]])\n",
    "\n",
    "for row in M:\n",
    "    for elem in row:\n",
    "        print(elem, end = \" \")\n",
    "    print()"
   ]
  },
  {
   "cell_type": "markdown",
   "metadata": {},
   "source": [
    "Note that \n",
    "* the parameter `sep` in the first `print` statement is used to separate the elements of the array with a space,\n",
    "* the `print` statement after the `for` loop is used to print a newline character after each row."
   ]
  },
  {
   "cell_type": "markdown",
   "metadata": {},
   "source": [
    "##### 8.5.2 Index based iteration\n",
    "\n",
    "1D NumPy arrays can be iterated over using the `range()` function. The syntax for iterating over the elements of an array using the `range()` function is as follows:\n",
    "\n",
    "```python\n",
    "    for i in range(len(array)):\n",
    "        # do something with array[i]\n",
    "```\n",
    "\n",
    "2D NumPy arrays can be iterated over using nested `for` loops and the `range()` function. The syntax for iterating over the elements of a 2D array using the `range()` function is as follows:\n",
    "\n",
    "```python\n",
    "    r, k = array.shape\n",
    "    for i in range(r):\n",
    "        for j in range(k):\n",
    "            # do something with array[i, j]\n",
    "```\n",
    "\n",
    "The following code gives the same result as the previous example:"
   ]
  },
  {
   "cell_type": "code",
   "execution_count": null,
   "metadata": {},
   "outputs": [],
   "source": [
    "M = np.array([[1, 2, 3, 4, 5], [6, 7, 8, 9, 10], [11, 12, 13, 14, 15]])\n",
    "r, k = M.shape\n",
    "for i in range(r):\n",
    "    for j in range(k):\n",
    "        print(M[i, j], end = \" \")\n",
    "    print()"
   ]
  },
  {
   "cell_type": "markdown",
   "metadata": {},
   "source": [
    "##### 8.5.3 Iterating over all $m\\times n$ subarrays\n",
    "\n",
    "Let's star with something much simpler: iterating over all $2 \\times 2$ subarrays of a $m \\times n$ array. Consider the following $3 \\times 5$ array:\n",
    "\n",
    "$$\n",
    "    M = \\begin{bmatrix} 1 & 2 & 3 & 4 & 5 \\\\\n",
    "                        6 & 7 & 8 & 9 & 10 \\\\\n",
    "                       11 & 12 & 13 & 14 & 15\n",
    "        \\end{bmatrix}\n",
    "$$\n",
    "\n",
    "To iterate over all $2 \\times 2$ subarrays of the array $M$ we can use the following code:"
   ]
  },
  {
   "cell_type": "code",
   "execution_count": null,
   "metadata": {},
   "outputs": [],
   "source": [
    "M = np.array([[1, 2, 3, 4, 5], [6, 7, 8, 9, 10], [11, 12, 13, 14, 15]])\n",
    "r, k = M.shape\n",
    "for i in range(r):\n",
    "    for j in range(k):\n",
    "        subarray = M[i:i+2, j:j+2]\n",
    "        print(subarray)"
   ]
  },
  {
   "cell_type": "markdown",
   "metadata": {},
   "source": [
    "If we execute the code above, we get all $2 \\times 2$ subarrays of the array `M` but also a few subarrays that are not $2 \\times 2$: some are $1 \\times 2$ or $2 \\times 1$ or even $1 \\times 1$. We can avoid this we have to change the range of the loop variables `i` and `j`:"
   ]
  },
  {
   "cell_type": "code",
   "execution_count": null,
   "metadata": {},
   "outputs": [],
   "source": [
    "M = np.array([[1, 2, 3, 4, 5], [6, 7, 8, 9, 10], [11, 12, 13, 14, 15]])\n",
    "r, k = M.shape\n",
    "for i in range(r-1):\n",
    "    for j in range(k-1):\n",
    "        subarray = M[i:i+2, j:j+2]\n",
    "        print(subarray)"
   ]
  },
  {
   "cell_type": "markdown",
   "metadata": {},
   "source": [
    "Now we get only $2 \\times 2$ subarrays. This is because the loop variables `i` and `j` range from `0` to `r - 2` and `k - 2`, respectively. Hence, the subarray `M[i:i+2, j:j+2]` is always a $2 \\times 2$ subarray."
   ]
  },
  {
   "cell_type": "markdown",
   "metadata": {},
   "source": [
    "If we want to generalize this to $m \\times n$ subarrays, we can use the following code:"
   ]
  },
  {
   "cell_type": "code",
   "execution_count": null,
   "metadata": {},
   "outputs": [],
   "source": [
    "# all mxn subarrays of M\n",
    "M = np.array([[1, 2, 3, 4, 5], [6, 7, 8, 9, 10], [11, 12, 13, 14, 15]])\n",
    "m  = 2\n",
    "n = 3\n",
    "r, k = M.shape\n",
    "for i in range(r-m+1):\n",
    "    for j in range(k-n+1):\n",
    "        subarray = M[i:i+m, j:j+n]\n",
    "        print(subarray)"
   ]
  },
  {
   "cell_type": "markdown",
   "metadata": {},
   "source": [
    "If we execute the code above, we get, since $m = 2$ and $n = 3$, all $2 \\times 3$ subarrays of the array `M`. \n",
    "\n",
    "Note the following: the loop variable `i` ranges from `0` to `r - m + 1`. The last value of `i` is `r - m`. The loop variable `j` ranges from `0` to `k - n + 1`. The last value of `j` is `k - n`. Hence, the slice `[i:i+m, j:j+n]` will be `[r-m:r,k-n:r]`: rows `r-m` to `r-1` and columns `k-n` to `k-1` are included in the slice. That makes the slice a $m \\times n$ subarray."
   ]
  },
  {
   "cell_type": "markdown",
   "metadata": {},
   "source": [
    "Selecting subarrays is a very powerful technique. It is used in many applications, such as image processing, signal processing, and machine learning. \n",
    "\n",
    "In image processing, for example, we can use subarrays to search for objects in an image. To find an object in an image, we can use a template image that contains the object we are looking for. We can then slide the template image over the original image and compare the template image with the subarrays of the original image. If the template image matches a subarray of the original image, we have found the object. This is illustrated in the following figure for a binary image:\n",
    "\n",
    "![Template matching](figures/templateMatching.png)\n",
    "\n"
   ]
  },
  {
   "cell_type": "markdown",
   "metadata": {},
   "source": [
    "#### 8.6 Mathematical operations on arrays\n",
    "\n",
    "##### 8.6.1 Element-wise operations\n",
    "\n",
    "NumPy arrays support basic mathematical operations such as addition, subtraction, multiplication, and division. The operations are performed **element-wise**. The syntax for performing mathematical operations on arrays is as follows:\n",
    "\n",
    "```python\n",
    "    array1 + array2  # element-wise addition\n",
    "    array1 - array2  # element-wise subtraction\n",
    "    array1 * array2  # element-wise multiplication\n",
    "    array1 / array2  # element-wise division\n",
    "    array1 ** array2 # element-wise exponentiation\n",
    "    array1 % array2  # element-wise modulo\n",
    "```\n",
    "\n",
    "In order to perform mathematical operations on arrays, the arrays must have the **same shape**. If the arrays have different shapes, NumPy will attempt to **broadcast** (see Section 8.10) the arrays to make them compatible or raise a `ValueError` if broadcasting is not possible.\n",
    "\n",
    "Some examples of performing mathematical operations on arrays are:"
   ]
  },
  {
   "cell_type": "code",
   "execution_count": null,
   "metadata": {},
   "outputs": [],
   "source": [
    "x = np.arange(1, 6)\n",
    "print(x)\n",
    "y = np.arange(6, 11)\n",
    "print(y)"
   ]
  },
  {
   "cell_type": "code",
   "execution_count": null,
   "metadata": {},
   "outputs": [],
   "source": [
    "# add the two arrays\n",
    "z = x + y\n",
    "print(z)"
   ]
  },
  {
   "cell_type": "code",
   "execution_count": null,
   "metadata": {},
   "outputs": [],
   "source": [
    "# subtract the two arrays\n",
    "z = x - y\n",
    "print(z)"
   ]
  },
  {
   "cell_type": "code",
   "execution_count": null,
   "metadata": {},
   "outputs": [],
   "source": [
    "# multiply the two arrays\n",
    "z = x * y\n",
    "print(z)"
   ]
  },
  {
   "cell_type": "code",
   "execution_count": null,
   "metadata": {},
   "outputs": [],
   "source": [
    "# divide the two arrays\n",
    "z = x / y\n",
    "print(z)"
   ]
  },
  {
   "cell_type": "code",
   "execution_count": null,
   "metadata": {},
   "outputs": [],
   "source": [
    "# raise the elements of x to the power of y\n",
    "z = x ** y\n",
    "print(z)"
   ]
  },
  {
   "cell_type": "code",
   "execution_count": null,
   "metadata": {},
   "outputs": [],
   "source": [
    "# calculate x modulo y\n",
    "z = x % y\n",
    "print(z)"
   ]
  },
  {
   "cell_type": "markdown",
   "metadata": {},
   "source": [
    "Note that all these operations are **also applicable to 2D arrays**."
   ]
  },
  {
   "cell_type": "markdown",
   "metadata": {},
   "source": [
    "##### 8.6.2 Mathematical functions\n",
    "\n",
    "NumPy provides a collection of mathematical functions that operate on arrays. Some of the common mathematical functions are:\n",
    "\n",
    "* trigoniometric functions: `np.sin()`, `np.cos()`, `np.tan()`, ...\n",
    "* exponential and logarithmic functions: `np.exp()`, `np.log()`, `np.log10()`, ...\n",
    "* rounding functions: `np.fix()`, `np.round()`, ...\n",
    "* aggregation functions: `np.min()`, `np.max()`, `np.sum()`, `np.median()`, ...\n",
    "* searching functions: `np.argmax()`, `np.argmin()`, `np.nonzero()`, `np.unique()`, ...\n",
    "* logical functions: `np.all()`, `np.any()`, ...\n",
    "* mathematical constants: `np.pi`, `np.e`, ...\n",
    "\n",
    "We will discuss some of these functions in more detail."
   ]
  },
  {
   "cell_type": "markdown",
   "metadata": {},
   "source": [
    "**Trigonometric, exponential and logarithmic functions**\n",
    "\n",
    "The trigonometric, exponential and logarithmic functions operate element-wise on arrays. The result is an array with the same shape as the input array. Some examples of using these functions are:"
   ]
  },
  {
   "cell_type": "code",
   "execution_count": null,
   "metadata": {},
   "outputs": [],
   "source": [
    "import numpy as np\n",
    "# create a 1D array with 10 random numbers in the interval $[-10, 10]$\n",
    "x = np.random.randint(-10, 11, 10)\n",
    "print(x)\n",
    "\n",
    "# calulate sin(x) for each element of x\n",
    "y = np.sin(x)\n",
    "print(y)\n",
    "\n",
    "# calculate exp(x) for each element of x\n",
    "z = np.exp(x)\n",
    "print(z)"
   ]
  },
  {
   "cell_type": "markdown",
   "metadata": {},
   "source": [
    "##### **Aggregation functions**\n",
    "\n",
    "The aggregation functions operate on the entire array and **return a single value**. Some examples of using these functions are:"
   ]
  },
  {
   "cell_type": "code",
   "execution_count": null,
   "metadata": {},
   "outputs": [],
   "source": [
    "import numpy as np\n",
    "# create a 2D array with 3 rows and 5 columns with random numbers in the interval $[-10, 10]$\n",
    "M = np.random.randint(-10, 11, (3, 5))\n",
    "print(M)\n",
    "\n",
    "# calculate the sum of all elements of M\n",
    "s = np.sum(M)\n",
    "print(s)\n",
    "\n",
    "# calculate the maximum of all elements of M\n",
    "m = np.max(M)\n",
    "print(m)\n",
    "\n",
    "# calculate the mean of all elements of M\n",
    "avg = np.mean(M)\n",
    "print(avg)"
   ]
  },
  {
   "cell_type": "markdown",
   "metadata": {},
   "source": [
    "If we want to compute the sum (or maximum value or average) of each row or column of a 2D array, we can use the `axis` parameter. The `axis` parameter specifies the axis along which the aggregation function is applied. The syntax for using the `axis` parameter is as follows:\n",
    "\n",
    "```python\n",
    "    np.sum(array, axis = 0)  # compute the sum value along the columns\n",
    "    np.max(array, axis = 1)  # compute the maximum value along the rows\n",
    "    np.mean(array, axis = 1)  # compute the average along the columns\n",
    "```\n",
    "\n",
    "Some examples of using the `axis` parameter are:"
   ]
  },
  {
   "cell_type": "code",
   "execution_count": null,
   "metadata": {},
   "outputs": [],
   "source": [
    "import numpy as np\n",
    "# create a 2D array with 3 rows and 5 columns with random numbers in the interval $[-10, 10]$\n",
    "M = np.random.randint(-10, 11, (3, 5))\n",
    "print(M)\n",
    "\n",
    "# calculate the sum along the columns\n",
    "s = np.sum(M, axis = 0)\n",
    "print(s)\n",
    "\n",
    "# calculate the maximum along the rows\n",
    "m = np.max(M, axis = 1)\n",
    "print(m)\n",
    "\n",
    "# calculate the mean along the rows\n",
    "avg = np.mean(M, axis = 1)\n",
    "print(avg)"
   ]
  },
  {
   "cell_type": "markdown",
   "metadata": {},
   "source": [
    "##### **Searching functions**\n",
    "\n",
    "The searching functions `np.argmax()` and `np.argmin()` operate on the entire array and **return a single value**:\n",
    "\n",
    "* `np.argmax()`: returns the index of the maximum value in the array,\n",
    "* `np.argmin()`: returns the index of the minimum value in the array,\n",
    "\n",
    "Some examples of using these functions are:"
   ]
  },
  {
   "cell_type": "code",
   "execution_count": null,
   "metadata": {},
   "outputs": [],
   "source": [
    "import numpy as np\n",
    "# create a 1D array with 10 random numbers\n",
    "x = np.array([8, -2, 3, 4, 0, 9, 6, -3, 9, -5])\n",
    "print(x)\n",
    "\n",
    "# get the index of the maximum element\n",
    "iMax = np.argmax(x)\n",
    "print(iMax)"
   ]
  },
  {
   "cell_type": "markdown",
   "metadata": {},
   "source": [
    "Note that the `argmax()` and `argmin()` functions return the index of the **first occurrence** of the maximum and minimum values, respectively. "
   ]
  },
  {
   "cell_type": "markdown",
   "metadata": {},
   "source": [
    "##### **The `np.nonzero()` function**\n",
    "\n",
    "The `np.nonzero()` function returns the indices of the non-zero elements in the array:\n",
    "* 1D array: returns a tuple with the indices of the non-zero elements,\n",
    "* 2D array: returns a tuple with two arrays: the first array contains the row indices and the second array contains the column indices of the non-zero elements.\n",
    "\n",
    "Some examples of using the `np.nonzero()` function are:"
   ]
  },
  {
   "cell_type": "code",
   "execution_count": null,
   "metadata": {},
   "outputs": [],
   "source": [
    "import numpy as np\n",
    "# create a 1D array with 10 random numbers\n",
    "x = np.array([8, -2, 3, 4, 0, 9, 6, -3, 9, -5])\n",
    "print(x)\n",
    "\n",
    "# indices of the non-zero elements\n",
    "indices = np.nonzero(x)\n",
    "print(indices)"
   ]
  },
  {
   "cell_type": "markdown",
   "metadata": {},
   "source": [
    "Not that in the case of a 1D array, the `np.nonzero()` function returns a tuple with one array. To extract the array from the tuple, we can use the index `0`:"
   ]
  },
  {
   "cell_type": "code",
   "execution_count": null,
   "metadata": {},
   "outputs": [],
   "source": [
    "x = np.array([8, -2, 3, 4, 0, 9, 6, -3, 9, -5])\n",
    "# indices of the non-zero elements\n",
    "indices = np.nonzero(x)\n",
    "print(indices[0])"
   ]
  },
  {
   "cell_type": "markdown",
   "metadata": {},
   "source": [
    "We can use these indices to extract the non-zero elements from the array:"
   ]
  },
  {
   "cell_type": "code",
   "execution_count": null,
   "metadata": {},
   "outputs": [],
   "source": [
    "nonzero = x[indices]\n",
    "print(nonzero)"
   ]
  },
  {
   "cell_type": "markdown",
   "metadata": {},
   "source": [
    "An example with a 2D array is:"
   ]
  },
  {
   "cell_type": "code",
   "execution_count": null,
   "metadata": {},
   "outputs": [],
   "source": [
    "# create a 2D array with 3 rows and 5 columns with random numbers in the interval $[-10, 10]$\n",
    "M = np.array([ [  0, -2,  3,  4,  0], [  9,  0, -3,  0, -5], [ 0,  4, -6,  7,  0]])\n",
    "print(M)\n",
    "\n",
    "# indices of the non-zero elements\n",
    "indices = np.nonzero(M)\n",
    "print(indices)\n",
    "\n",
    "# extract row and column indices of the non-zero elements\n",
    "rows, cols = indices\n",
    "print(rows)\n",
    "print(cols)\n",
    "\n",
    "# extract the non-zero elements\n",
    "nonzero = M[rows, cols] # or equivalently M[indices]\n",
    "print(nonzero)\n"
   ]
  },
  {
   "cell_type": "markdown",
   "metadata": {},
   "source": [
    "Note that the elements are **selected row by row**."
   ]
  },
  {
   "cell_type": "markdown",
   "metadata": {},
   "source": [
    "##### **The `np.unique()` function**\n",
    "\n",
    "The `np.unique()` function returns the unique elements in the array:\n",
    "* array of numbers: returns the unique numbers in the array, sorted in ascending order,\n",
    "* array of strings: returns the unique strings in the array, sorted in lexicographical order.\n",
    "\n",
    "Some examples of using the `np.unique()` function are:"
   ]
  },
  {
   "cell_type": "code",
   "execution_count": null,
   "metadata": {},
   "outputs": [],
   "source": [
    "import numpy as np\n",
    "# create a 2D array with 4 rows and 5 columns with random numbers with duplicates\n",
    "x = np.array([[8, -2, 3, 4, 0], [9, 6, -3, 9, -5], [8, -2, 3, 4, 0], [9, 6, -3, 9, -5]])\n",
    "print(x)\n",
    "\n",
    "# get the unique elements of x\n",
    "uniqueX = np.unique(x)\n",
    "print(uniqueX)\n",
    "\n",
    "# create an array with 10 strings with duplicates\n",
    "fruits = np.array([\"apple\", \"banana\", \"potato\", \"banana\", \"apple\", \"banana\", \"apple\", \"lemon\", \"apple\", \"banana\"])\n",
    "print(fruits)\n",
    "\n",
    "# get the unique elements of fruits\n",
    "uniqueFruits = np.unique(fruits)\n",
    "print(uniqueFruits)"
   ]
  },
  {
   "cell_type": "markdown",
   "metadata": {},
   "source": [
    "##### **The `np.all()` and `np.any()` functions**\n",
    "\n",
    "The `np.all()` and `np.any()` functions operate on the entire array and **return a single value**:\n",
    "* `np.all()`: returns `True` if all elements in the array are `True`, otherwise `False`,\n",
    "* `np.any()`: returns `True` if any element in the array is `True`, otherwise `False`.\n",
    "\n",
    "Some examples of using these functions are:"
   ]
  },
  {
   "cell_type": "code",
   "execution_count": null,
   "metadata": {},
   "outputs": [],
   "source": [
    "import numpy as np\n",
    "\n",
    "# create a 2D array with 2 rows and 6 columns with random numbers in the interval $[-10, 10]$\n",
    "M = np.array([[0, -2, 3, 4, 0, 9], [6, -3, 0, -5, 0, 4]])\n",
    "print(M)\n",
    "\n",
    "# check whether the array contains any non-zero elements\n",
    "res = M != 0\n",
    "print(res)\n",
    "print(np.any(res))\n",
    "\n",
    "# check whether all elements of the array are non-zero\n",
    "print(np.all(res))"
   ]
  },
  {
   "cell_type": "markdown",
   "metadata": {},
   "source": [
    "#### 8.6.3 Exercises\n",
    "\n",
    "**Exercise 1**\n",
    "\n",
    "Consider the following arrays `A` and `B`:\n",
    "\n",
    "$$\n",
    "A=\\begin{bmatrix}\n",
    "      0 & 2  & 5 & 7 & 4  & 9 & 11 & 9  \\\\\n",
    "      2 & 47 & 8 & 4 & 1  & 2 & 7  & 5  \\\\\n",
    "      8 & 2  & 9 & 4 & 12 & 2 & 8  & 4  \\\\\n",
    "      8 & 7  & 2 & 7 & 5  & 7 & 2  & 11\n",
    "    \\end{bmatrix}\n",
    "    \\quad \\quad\n",
    "    B=\\begin{bmatrix}\n",
    "      7 & 2  & 4 & 8 & 1 & 1 & 1 & 12 \\\\\n",
    "      2 & 55 & 8 & 4 & 8 & 2 & 2 & 5\n",
    "    \\end{bmatrix}\n",
    "$$\n",
    "\n",
    "Without usiung `for` loops, execute the following tasks:\n",
    "\n",
    "* Equate the element of `A` with row index 1 and column index 2 to 100.\n",
    "* Replace the first 2 rows of `A` with `B`.\n",
    "* Find the **unique** elements in `A`."
   ]
  },
  {
   "cell_type": "code",
   "execution_count": null,
   "metadata": {},
   "outputs": [],
   "source": [
    "import numpy as np\n",
    "A = np.array([[0, 2, 5, 7, 4, 9, 11, 9], [2, 47, 8, 4, 1, 2, 7, 5], \n",
    "              [8, 2, 9, 4, 2, 2, 8, 4], [8, 7, 2, 7, 5, 7, 2, 11]])\n",
    "print(A)\n",
    "\n",
    "B = np.array([[7, 2, 4, 8, 1, 1, 1, 12], [2, 55, 8, 4, 8, 2, 2, 5]])\n",
    "print(B)\n"
   ]
  },
  {
   "cell_type": "markdown",
   "metadata": {},
   "source": [
    "#### 8.7 Logical indexing\n",
    "\n",
    "Logical indexing is a powerful feature of NumPy that allows you to access elements in an array based on a condition. We will illustrate the power of logical indexing with an example. \n",
    "\n",
    "Consider the following 2D array `M`:\n",
    "\n",
    "$$\n",
    "M = \\begin{bmatrix}\n",
    "1 & 2 & 3 \\\\\n",
    "4 & 5 & 6 \\\\\n",
    "7 & 8 & 9 \\\\\n",
    "\\end{bmatrix}\n",
    "$$\n",
    "\n",
    "Suppose we want to select all elements in `M` that are even. We can do this using `for` loops as follows:"
   ]
  },
  {
   "cell_type": "code",
   "execution_count": null,
   "metadata": {},
   "outputs": [],
   "source": [
    "import numpy as np\n",
    "# 3 times 5 matrix with random numbers between 0 and 25:\n",
    "M = np.random.randint(0, 26, (3, 5))\n",
    "\n",
    "print(M)\n",
    "\n",
    "even_elements = []\n",
    "for row in M:\n",
    "    for element in row:\n",
    "        if element % 2 == 0:\n",
    "            even_elements.append(element)\n",
    "print(even_elements)"
   ]
  },
  {
   "cell_type": "markdown",
   "metadata": {},
   "source": [
    "However, this can be done more efficiently using logical indexing. \n",
    "Let us start by creating a boolean array `even` that is `True` for all even elements in `M` and `False` otherwise:"
   ]
  },
  {
   "cell_type": "code",
   "execution_count": null,
   "metadata": {},
   "outputs": [],
   "source": [
    "even = M % 2 == 0\n",
    "print(even)"
   ]
  },
  {
   "cell_type": "markdown",
   "metadata": {},
   "source": [
    "The expression `even = M % 2 == 0` returns a boolean array `even` with the same shape as `M`. The value of `even[i, j]` is `True` if `M[i, j]` is even and `False` otherwise.\n",
    "\n",
    "We can now use the boolean array `even` to select the even elements in `M`:\n",
    "\n",
    "The expression `M[even]` returns a 1D array with all elements in `M` that are even:"
   ]
  },
  {
   "cell_type": "code",
   "execution_count": null,
   "metadata": {},
   "outputs": [],
   "source": [
    "even_elements = M[even]\n",
    "print(even_elements)"
   ]
  },
  {
   "cell_type": "markdown",
   "metadata": {},
   "source": [
    "Note that the even elements are **selected row by row**.\n",
    "\n",
    "We can combine the previous two steps into a single line of code:\n",
    "\n",
    "```python\n",
    "    M[M % 2 == 0]\n",
    "```\n",
    "\n",
    "The expression `M[M % 2 == 0]` returns a 1D array with all elements in `M` that are even."
   ]
  },
  {
   "cell_type": "markdown",
   "metadata": {},
   "source": [
    "#### Exercises\n",
    "\n",
    "Consider the following $4\\times6$ array `M` with random integers in the interval $[-10, 30]$:\n",
    "\n",
    "$$\n",
    "M = \\begin{bmatrix}\n",
    " 15 & -3 & 7 &  6 &  -1 &  0 \\\\\n",
    " -2 &  3 & 4 &  5 &  26 &  7 \\\\  \n",
    "  8 &  9 & 1 & -12 &   3 &  4 \\\\\n",
    "  5 &  6 & 7 &  8 &   9 & 10  \n",
    "\\end{bmatrix}\n",
    "$$\n",
    "\n",
    "Without using `for` loops, execute the following tasks:\n",
    "\n",
    "* Select all elements in `M` that are negative.\n",
    "* Select all elements in `M` that are multiples of 3.\n",
    "* Select all elements in `M` that are multiples of 3 **and** negative.\n",
    "* Select all elements in `M` that are multiples of 3 **or** negative and replace them with 0."
   ]
  },
  {
   "cell_type": "code",
   "execution_count": null,
   "metadata": {},
   "outputs": [],
   "source": [
    "import numpy as np\n",
    "\n",
    "M = np.array([[15, -3, 7, 6, -1, 0], [-2, 3, 4, 5, 26, 7], \n",
    "              [8, 9, 1, -12, 3, 4], [5, 6, 7, 8, 9, 10]])\n",
    "print(M)"
   ]
  },
  {
   "cell_type": "markdown",
   "metadata": {},
   "source": [
    "#### 8.8 Form operations\n",
    "\n",
    "Some form operations are available in NumPy. The most common form operations are:\n",
    "\n",
    "* `reshape()`: to change the shape of an array\n",
    "* `T`: to transpose an array\n",
    "* `ravel()`: to flatten an array\n",
    "* `concatenate()`: to concatenate arrays along a specified axis"
   ]
  },
  {
   "cell_type": "markdown",
   "metadata": {},
   "source": [
    "##### 8.8.1 The `reshape()` function\n",
    "\n",
    "The `reshape()` function is used to change the shape of an array. The syntax for reshaping an array is as follows:\n",
    "\n",
    "```python\n",
    "    reshape(array, newshape, order = \"C\")\n",
    "```\n",
    "\n",
    "With:\n",
    "* `array`: the array to reshape,\n",
    "* `newshape`: the new shape of the array (a tuple of integers)\n",
    "* `order`: the order in which the elements of the array are read. Possible values are `'C'` (row-major order) and `'F'` (column-major order). The default value is `'C'`.\n",
    "\n",
    "If one of the dimensions in the new shape is `-1`, the value for that dimension is inferred from the length of the array and the remaining dimensions. For example, if the array has 12 elements and the new shape is `(2, -1)`, the resulting array will have 2 rows and 6 columns.\n",
    "\n",
    "Some examples of reshaping arrays are:"
   ]
  },
  {
   "cell_type": "code",
   "execution_count": null,
   "metadata": {},
   "outputs": [],
   "source": [
    "# 1D to 2D\n",
    "x = np.array([1, 2, 3, 4, 5, 6])\n",
    "print(x)\n",
    "\n",
    "# convert x to a 2D array with 2 rows\n",
    "y = x.reshape(2, 3)\n",
    "print(y)"
   ]
  },
  {
   "cell_type": "code",
   "execution_count": null,
   "metadata": {},
   "outputs": [],
   "source": [
    "# 2D to 2D\n",
    "# convert M to a 2D array with 5 rows\n",
    "M = np.array([[1, 2, 3, 4, 5], [6, 7, 8, 9, 10], [11, 12, 13, 14, 15]])\n",
    "N = M.reshape(5, 3)\n",
    "print(N)"
   ]
  },
  {
   "cell_type": "code",
   "execution_count": null,
   "metadata": {},
   "outputs": [],
   "source": [
    "# convert M to a 2D array with 5 rows but fill the columns first\n",
    "N = M.reshape(5, 3, order = \"F\")\n",
    "print(N)"
   ]
  },
  {
   "cell_type": "markdown",
   "metadata": {},
   "source": [
    "Another way to use the `reshape()` function is to call the method `reshape()` on the array itself. \n",
    "\n",
    "For instance, in order to define the array $M$ we used before, we can use the following code:"
   ]
  },
  {
   "cell_type": "code",
   "execution_count": null,
   "metadata": {},
   "outputs": [],
   "source": [
    "M = np.arange(1, 16).reshape(3, 5)\n",
    "print(M)"
   ]
  },
  {
   "cell_type": "markdown",
   "metadata": {},
   "source": [
    "##### 8.8.2 The `T` attribute\n",
    "\n",
    "The `T` attribute is used to transpose an array. The syntax for transposing an array is as follows:\n",
    "\n",
    "   \n",
    "```python\n",
    "    array.T\n",
    "```\n",
    "\n",
    "Some examples of transposing arrays are:"
   ]
  },
  {
   "cell_type": "code",
   "execution_count": null,
   "metadata": {},
   "outputs": [],
   "source": [
    "# transpose M\n",
    "N = M.T\n",
    "print(N)"
   ]
  },
  {
   "cell_type": "markdown",
   "metadata": {},
   "source": [
    "Note that there are no empty parentheses after `T`. This is because `T` is an **attribute of the array**, not a function."
   ]
  },
  {
   "cell_type": "markdown",
   "metadata": {},
   "source": [
    "##### 8.8.3 The `ravel()` function\n",
    "\n",
    "The `ravel()` function is used to flatten an array. The syntax for flattening an array is as follows:\n",
    "\n",
    "```python\n",
    "    ravel(array, order = \"C\")\n",
    "```\n",
    "\n",
    "With:\n",
    "* `array`: the array to flatten,\n",
    "* `order`: the order in which the elements of the array are read. Possible values are `\"C\"` (row-major order) and `\"F\"` (column-major order). The default value is `\"C\"`.\n",
    "\n",
    "Some examples of flattening arrays are:"
   ]
  },
  {
   "cell_type": "code",
   "execution_count": null,
   "metadata": {},
   "outputs": [],
   "source": [
    "# flatten M\n",
    "x = M.flatten()\n",
    "print(x)\n"
   ]
  },
  {
   "cell_type": "code",
   "execution_count": null,
   "metadata": {},
   "outputs": [],
   "source": [
    "# flatten M column-wise\n",
    "x = M.flatten(order = \"F\")\n",
    "print(x)"
   ]
  },
  {
   "cell_type": "markdown",
   "metadata": {},
   "source": [
    "##### 8.8.4 The `concatenate()` function\n",
    "\n",
    "The `concatenate()` function is used to concatenate arrays along a specified axis. The syntax for concatenating arrays is as follows:\n",
    "\n",
    "```python\n",
    "    concatenate((array1, array2, ...), axis = 0)\n",
    "```\n",
    "\n",
    "With:\n",
    "* `array1`, `array2`, ...: a tuple with the arrays to concatenate,\n",
    "* `axis`: the axis along which to concatenate the arrays. Possible values are `0` (concatenate along the rows) and `1` (concatenate along the columns). The default value is `0`.\n",
    "\n",
    "Some examples of concatenating arrays are:"
   ]
  },
  {
   "cell_type": "code",
   "execution_count": null,
   "metadata": {},
   "outputs": [],
   "source": [
    "import numpy as np\n",
    "a = np.array([1, 2, 3])\n",
    "b = np.array([4, 5, 6])\n",
    "c = np.array([7, 8])\n",
    "A = np.arange(1, 7).reshape(2, 3)\n",
    "B = np.arange(7, 11).reshape(2, 2)\n",
    "C = np.arange(1, 7).reshape(3, 2)\n",
    "print(a, b, c)\n",
    "print(A)\n",
    "print(B)\n",
    "print(C)"
   ]
  },
  {
   "cell_type": "code",
   "execution_count": null,
   "metadata": {},
   "outputs": [],
   "source": [
    "# concatenate 1D arrays\n",
    "res1 = np.concatenate((a, b))\n",
    "print(res1)\n",
    "\n",
    "res2 = np.concatenate ((a, c))\n",
    "print(res2)"
   ]
  },
  {
   "cell_type": "markdown",
   "metadata": {},
   "source": [
    "Note that 1D arrays are always concatenated along the rows. To concatenate 1D arrays along the columns, we **need to reshape the arrays to 2D arrays first**."
   ]
  },
  {
   "cell_type": "code",
   "execution_count": null,
   "metadata": {},
   "outputs": [],
   "source": [
    "# concatenate 1D and 2D arrays\n",
    "a = np.array([[1, 2, 3]])     # 2D array with 1 row\n",
    "res3 = np.concatenate((a, A)) \n",
    "print(res3)\n",
    "\n",
    "# concatenate 2D arrays\n",
    "res4 = np.concatenate((A, B), axis = 1)\n",
    "print(res4)"
   ]
  },
  {
   "cell_type": "markdown",
   "metadata": {},
   "source": [
    "##### 8.8.5 Adding a border to an 2D array\n",
    "\n",
    "In some applications it is useful to add a border with zeros to an 2D array. A typical example is to ensure that all elements of the array have a certain number of neighbours (e.g. 8).\n",
    "\n",
    "To add a border with zeros to an 2D array, we can use the following code:"
   ]
  },
  {
   "cell_type": "code",
   "execution_count": null,
   "metadata": {},
   "outputs": [],
   "source": [
    "print(A)\n",
    "m, n = A.shape\n",
    "A2 = np.zeros ((m+2, n+2), dtype = int)\n",
    "A2[1:m+1, 1:n+1] = A\n",
    "print(A2)"
   ]
  },
  {
   "cell_type": "markdown",
   "metadata": {},
   "source": [
    "We can generalize this to add a border with `k` rows of zeros to an 2D array `A` with `m` rows and `n` columns:"
   ]
  },
  {
   "cell_type": "code",
   "execution_count": null,
   "metadata": {},
   "outputs": [],
   "source": [
    "m, n = A.shape\n",
    "k = 3 # number of rows/columns to add\n",
    "A2 = np.zeros((m+2*k, n+2*k), dtype = int)\n",
    "A2[k:m+k, k:n+k] = A\n",
    "print(A2)\n"
   ]
  },
  {
   "cell_type": "markdown",
   "metadata": {},
   "source": [
    "#### 8.9 View vs. copy\n",
    "\n",
    "When we assign an array to a new variable, the new variable is a **view** of the original array, **not** a **copy**. This means that if we modify the new variable, the original array is also modified.\n",
    "\n",
    "A simple example is:"
   ]
  },
  {
   "cell_type": "code",
   "execution_count": null,
   "metadata": {},
   "outputs": [],
   "source": [
    "import numpy as np\n",
    "# 2D array with 3 rows and 5 columns with the numbers from 1 to 15\n",
    "M = np.arange(1, 16).reshape(3, 5)\n",
    "print(M)\n",
    "\n",
    "N = M\n",
    "N[0, 0] = 100\n",
    "print(N)\n",
    "print(M)"
   ]
  },
  {
   "cell_type": "markdown",
   "metadata": {},
   "source": [
    "To create a copy of an array, we can use the `copy()` function. The syntax for creating a copy of an array is as follows:\n",
    "\n",
    "```python\n",
    "    copy(array)\n",
    "```"
   ]
  },
  {
   "cell_type": "code",
   "execution_count": null,
   "metadata": {},
   "outputs": [],
   "source": [
    "M = np.arange(1, 16).reshape(3, 5)\n",
    "N = M.copy()\n",
    "N[0, 0] = 100\n",
    "print(N)\n",
    "print(M)"
   ]
  },
  {
   "cell_type": "markdown",
   "metadata": {},
   "source": [
    "We now observe that the original array `M` is not modified."
   ]
  },
  {
   "cell_type": "markdown",
   "metadata": {},
   "source": [
    "#### 8.10 Broadcasting\n",
    "\n",
    "Broadcasting is a powerful feature of NumPy that allows you to perform mathematical operations on arrays with different shapes. The smaller array is **broadcasted** to the shape of the larger array so that the shapes of the two arrays are compatible.\n",
    "\n",
    "The rules of broadcasting are as follows:\n",
    "\n",
    "1. If the arrays have a different number of dimensions, the shape of the smaller array is **padded** with ones on its left side until the number of dimensions of the two arrays is the same.\n",
    "2. If the shape of the two arrays does not match in any dimension, the array with shape equal to 1 in that dimension is **stretched** to match the shape of the other array.\n",
    "3. If the shape of the two arrays does not match in any dimension and neither array has shape equal to 1 in that dimension, a `ValueError` is raised."
   ]
  },
  {
   "cell_type": "markdown",
   "metadata": {},
   "source": [
    "Consider the following arrays `A`, `v`, `w` and `x`:\n",
    "\n",
    "$$\n",
    "A = \n",
    "\\begin{bmatrix}\n",
    "1 & 2 & 3 \\\\\n",
    "4 & 5 & 6 \\\\\n",
    "7 & 8 & 9 \\\\\n",
    "\\end{bmatrix}\n",
    "\n",
    "\\quad\\quad\\quad\n",
    "v = \n",
    "\\begin{bmatrix}\n",
    "1 & 2 & 3\n",
    "\\end{bmatrix}\n",
    "\n",
    "\\quad\\quad\\quad\n",
    "w = \n",
    "\\begin{bmatrix}\n",
    "4 \\\\\n",
    "5 \\\\\n",
    "6\n",
    "\\end{bmatrix}\n",
    "\n",
    "\\quad\\quad\\quad\n",
    "x = \n",
    "\\begin{bmatrix}\n",
    "7 \\\\\n",
    "8\n",
    "\\end{bmatrix}\n",
    "$$\n",
    "\n",
    "Some examples of broadcasting are:"
   ]
  },
  {
   "cell_type": "code",
   "execution_count": null,
   "metadata": {},
   "outputs": [],
   "source": [
    "import numpy as np\n",
    "A = np.arange(1, 10).reshape((3, 3))\n",
    "v = np.array ([1, 2, 3])\n",
    "\n",
    "# add v to each row of A\n",
    "som = A + v\n",
    "print(som)"
   ]
  },
  {
   "cell_type": "code",
   "execution_count": null,
   "metadata": {},
   "outputs": [],
   "source": [
    "# add w to each column of A\n",
    "w = np.array([4, 5, 6]).reshape(3, 1)\n",
    "som2 = A + w\n",
    "print(som2)"
   ]
  },
  {
   "cell_type": "code",
   "execution_count": null,
   "metadata": {},
   "outputs": [],
   "source": [
    "x = np.array([[7], [8]])\n",
    "print(x)\n",
    "# add v and x\n",
    "som3 = v + x\n",
    "print(som3)"
   ]
  },
  {
   "cell_type": "markdown",
   "metadata": {},
   "source": [
    "We observe that `v` is broadcasted to an array with 2 identical rows, and that `w` is broadcasted to an array with 3 identical columns."
   ]
  },
  {
   "cell_type": "markdown",
   "metadata": {},
   "source": [
    "The same result can be obtained by adding the following arrays `M` and `N`:\n",
    "\n",
    "$$\n",
    "M = \n",
    "\\begin{bmatrix}\n",
    "1 & 2 & 3 \\\\\n",
    "1 & 2 & 3\n",
    "\\end{bmatrix}\n",
    "\n",
    "\\quad\\quad\\quad\n",
    "N =\n",
    "\\begin{bmatrix}\n",
    "7 & 8 \\\\\n",
    "7 & 8\n",
    "\\end{bmatrix}\n",
    "$$"
   ]
  },
  {
   "cell_type": "code",
   "execution_count": null,
   "metadata": {},
   "outputs": [],
   "source": [
    "M = np.array([[1, 2, 3], [1, 2, 3]])\n",
    "print(M)\n",
    "N = np.array([[7, 7, 7], [8, 8, 8]])\n",
    "print(N)\n",
    "\n",
    "# add M and N\n",
    "print(M + N)"
   ]
  },
  {
   "cell_type": "markdown",
   "metadata": {},
   "source": [
    "#### 8.11 File I/O with `loadtxt()` and `savetxt()`\n",
    "\n",
    "NumPy provides functions to read and write arrays from and to text files. The `loadtxt()` function is used to read arrays from text files, and the `savetxt()` function is used to write arrays to text files.\n",
    "\n",
    "##### 8.11.1 The `loadtxt()` function\n",
    "\n",
    "The `loadtxt()` function is used to read arrays from text files. The syntax for reading arrays from text files is as follows:\n",
    "\n",
    "```python\n",
    "    loadtxt(fname, dtype = float, delimiter = None)\n",
    "```\n",
    "\n",
    "With:\n",
    "* `fname`: the name of the file to read,\n",
    "* `dtype`: the data type of the elements in the array (optional, default is `float`),\n",
    "* `delimiter`: the delimiter used to separate the values in the file (optional, default is white space).\n",
    "\n",
    "Some examples will illustrate how to use the `loadtxt()` function: "
   ]
  },
  {
   "cell_type": "code",
   "execution_count": null,
   "metadata": {},
   "outputs": [],
   "source": [
    "# read the file data.txt from the folder files\n",
    "data = np.loadtxt(\"files/data.txt\")\n",
    "print(data)\n",
    "print(data.shape)"
   ]
  },
  {
   "cell_type": "markdown",
   "metadata": {},
   "source": [
    "Note that the result is a 1D array. If we want the resut to be a 2D array, we have to use the parameter `ndmin`:"
   ]
  },
  {
   "cell_type": "code",
   "execution_count": null,
   "metadata": {},
   "outputs": [],
   "source": [
    "data = np.loadtxt(\"files/data.txt\", ndmin = 2)\n",
    "print(data)\n",
    "print(data.shape)"
   ]
  },
  {
   "cell_type": "markdown",
   "metadata": {},
   "source": [
    "If the file contains text, we must use the parameter `dtype = str`:"
   ]
  },
  {
   "cell_type": "code",
   "execution_count": null,
   "metadata": {},
   "outputs": [],
   "source": [
    "# read the file names.txt from the folder files\n",
    "names = np.loadtxt(\"files/names.txt\", dtype = str)\n",
    "print(names)\n",
    "print(names.shape)"
   ]
  },
  {
   "cell_type": "markdown",
   "metadata": {},
   "source": [
    "Again, if we want the result to be a 2D array, we have to use the parameter `ndmin`:"
   ]
  },
  {
   "cell_type": "code",
   "execution_count": null,
   "metadata": {},
   "outputs": [],
   "source": [
    "# read the file names.txt from the folder files\n",
    "names = np.loadtxt(\"files/names.txt\", dtype = str, ndmin = 2)\n",
    "print(names)\n",
    "print(names.shape)"
   ]
  },
  {
   "cell_type": "markdown",
   "metadata": {},
   "source": [
    "The files `data.txt` and `names.txt` are text files that contain data in a single column. Normally, files contain several rows and columns with data. The file `data.txt` for instance contains 4 rows with each 8 numbers, while the file `names.txt` contains the same numbers but with a different delimiter (a comma).\n",
    "\n",
    "Execute the following code cells and try to understand the output or the error message."
   ]
  },
  {
   "cell_type": "code",
   "execution_count": null,
   "metadata": {},
   "outputs": [],
   "source": [
    "# read matrix.txt from the folder files\n",
    "M = np.loadtxt(\"files/matrix.txt\")\n",
    "print(M)"
   ]
  },
  {
   "cell_type": "code",
   "execution_count": null,
   "metadata": {},
   "outputs": [],
   "source": [
    "# read matrix.txt from the folder files\n",
    "M = np.loadtxt(\"files/matrix.txt\", dtype = int)\n",
    "print(M)"
   ]
  },
  {
   "cell_type": "code",
   "execution_count": null,
   "metadata": {},
   "outputs": [],
   "source": [
    "# read matrix2.txt from the folder files\n",
    "N = np.loadtxt(\"files/matrix2.txt\")\n",
    "print(N)"
   ]
  },
  {
   "cell_type": "code",
   "execution_count": null,
   "metadata": {},
   "outputs": [],
   "source": [
    "# read matrix2.txt from the folder files\n",
    "N = np.loadtxt(\"files/matrix2.txt\", delimiter = \",\")\n",
    "print(N)"
   ]
  },
  {
   "cell_type": "markdown",
   "metadata": {},
   "source": [
    "##### 8.11.2 The `savetxt()` function\n",
    "\n",
    "The `savetxt()` function is used to write arrays to text files. The syntax for writing arrays to text files is as follows:\n",
    "\n",
    "```python\n",
    "    savetxt(fname, array, fmt = \"%.18e\", delimiter = \" \", newline = \"\\n\")\n",
    "```\n",
    "\n",
    "With:\n",
    "* `fname`: the name of the file to write,\n",
    "* `array`: the array to write,\n",
    "* `fmt`: the format of the values in the file (optional, default is `%.18e`),\n",
    "* `delimiter`: the delimiter used to separate the values in the file (optional, default is a space),\n",
    "* `newline`: the character used to separate the lines in the file (optional, default is a newline character).\n",
    "\n",
    "The default `%.18e` format is a scientific notation with 18 decimal places. If you want to write the values in a different format, you can specify the format using the `fmt` parameter."
   ]
  },
  {
   "cell_type": "code",
   "execution_count": null,
   "metadata": {},
   "outputs": [],
   "source": [
    "# create a 3x5 array M with random integers between 0 and 20\n",
    "M = np.random.randint(0, 21, (3, 5))\n",
    "print(M)\n",
    "\n",
    "# save M to the file random.txt in the folder files\n",
    "np.savetxt(\"files/random.txt\", M)"
   ]
  },
  {
   "cell_type": "markdown",
   "metadata": {},
   "source": [
    "Open the file `random.txt` and check the content. You will see that the values are written in scientific notation with 18 decimal places. The numbers will be padded with zeros to have 18 decimal places.\n",
    "\n",
    "If you want integers instead, you can use the format `%.0f`:"
   ]
  },
  {
   "cell_type": "code",
   "execution_count": 59,
   "metadata": {},
   "outputs": [],
   "source": [
    "np.savetxt(\"files/random.txt\", M, fmt = \"%.0f\")"
   ]
  },
  {
   "cell_type": "markdown",
   "metadata": {},
   "source": [
    "Open the file `random.txt` and check the content. You will see that the values are written as integers."
   ]
  },
  {
   "cell_type": "code",
   "execution_count": null,
   "metadata": {},
   "outputs": [],
   "source": [
    "# create a 3x5 array N with random numbers between 0 and 1\n",
    "N = np.random.rand(3, 5)\n",
    "print(N)\n",
    "\n",
    "# save N to the file random2.txt in the folder files\n",
    "np.savetxt(\"files/random2.txt\", N)"
   ]
  },
  {
   "cell_type": "markdown",
   "metadata": {},
   "source": [
    "The same remark applies to the file `random2.txt`. Even though the output above shows the values with different decimal places, the values in the file are written with 18 decimal places. \n",
    "\n",
    "Suppose we want to write the values in the file `random2.txt` with 6 decimal places. We can use the format `%.6f`:"
   ]
  },
  {
   "cell_type": "code",
   "execution_count": null,
   "metadata": {},
   "outputs": [],
   "source": [
    "# save N to the file random2.txt in the folder files\n",
    "np.savetxt(\"files/random2.txt\", N, fmt = \"%.6f\")"
   ]
  },
  {
   "cell_type": "markdown",
   "metadata": {},
   "source": [
    "The default delimiter is a space. If you want to use a different delimiter, you can specify the delimiter using the `delimiter` parameter. For instance, if you want to use a comma as a delimiter, you can use the following code:"
   ]
  },
  {
   "cell_type": "code",
   "execution_count": 63,
   "metadata": {},
   "outputs": [],
   "source": [
    "# save M to the file random2.txt in the folder files\n",
    "np.savetxt(\"files/random.txt\", N, fmt = \"%.0f\", delimiter = \",\")"
   ]
  },
  {
   "cell_type": "markdown",
   "metadata": {},
   "source": [
    "#### 8.11.3 Exercises\n",
    "\n",
    "**Exercise 1**\n",
    "\n",
    "The file `surrounded.txt` in the folder `files` contains a $20\\times20$ array with the numbers 0, 1 and 2.\n",
    "\n",
    "Execute the following tasks:\n",
    "* Read the content of the file `surrounded.txt` into an array `A`.\n",
    "* Count the numbers of 2's that are surrounded by **at least seven** 1's. Print this number."
   ]
  },
  {
   "cell_type": "code",
   "execution_count": null,
   "metadata": {},
   "outputs": [],
   "source": [
    "import numpy as np\n",
    "# read the file\n",
    "A = ...\n",
    "\n",
    "# count the number of 2's surrounded by at least seven 1's\n"
   ]
  },
  {
   "cell_type": "markdown",
   "metadata": {},
   "source": [
    "**Exercise 2**\n",
    "\n",
    "The folder `files` contains 2 files:\n",
    "\n",
    "* The file `photo.txt` contains a 2D array. \n",
    "* The file `template.txt` contains a onedimensional array. \n",
    "\n",
    "Execute the following tasks:\n",
    "* Read the content of the file `photo.txt` into an **2D** array `photo`.\n",
    "* Read the content of the file `template.txt` into an **2D** array `template`.\n",
    "* Count the number of times the template appears in the photo. Return this number."
   ]
  },
  {
   "cell_type": "code",
   "execution_count": null,
   "metadata": {},
   "outputs": [],
   "source": [
    "import numpy as np\n",
    "\n",
    "# read the files\n",
    "\n",
    "# count the number of times the template occurs in photo\n"
   ]
  },
  {
   "cell_type": "markdown",
   "metadata": {},
   "source": [
    "#### 8.12 Vectorization\n",
    "\n",
    "Vectorization is the process of converting a scalar operation into a vector operation. This means that the operation is applied to all elements of an array at once, instead of looping over the elements of the array.\n",
    "\n",
    "Consider the following example: in Section 4.7 we wrote functions to calculate the average and the standard deviation of a list of numbers. The standard deviation can be calculated using the formula:\n",
    "\n",
    "$$\n",
    "\\sqrt{\\frac{\\sum\\limits_{i=1}^{n}(x_i - \\bar{x})^2}{n-1}}\n",
    "$$, \n",
    "\n",
    "where $\\bar{x}$ is the mean of the list of numbers:\n",
    "\n",
    "$$\n",
    "\\bar{x} = \\frac{1}{n}\\sum\\limits_{i=1}^{n}x_i\n",
    "$$\n",
    "\n",
    "We used a `for` loop to calculate the mean and the standard deviation of a list of numbers:\n",
    "\n",
    "```python\t\n",
    "    def std(numbers):\n",
    "        xBar = mean(numbers)\n",
    "        sum_squares = 0\n",
    "        for x in numbers:\n",
    "            sum_squares = sum_squares + (x - xBar) ** 2\n",
    "        stdev = (sum_squares / (len(numbers) - 1)) ** 0.5\n",
    "        return stdev\n",
    "```\n",
    "\n",
    "We can use vectorization to calculate the standard deviation of an array of numbers in a single line of code:"
   ]
  },
  {
   "cell_type": "code",
   "execution_count": null,
   "metadata": {},
   "outputs": [],
   "source": [
    "import numpy as np\n",
    "\n",
    "def std(x):\n",
    "    stdev = np.sqrt(np.sum((x - np.mean(x))**2) / (x.size - 1))\n",
    "    return stdev\n",
    "\n",
    "x = np.array([1, 2, 3, 4, 5, 6])\n",
    "print(std(x))"
   ]
  },
  {
   "cell_type": "markdown",
   "metadata": {},
   "source": [
    "Another example is the calculation of the following sum: \n",
    "\n",
    "$$\n",
    "\\sum\\limits_{i=1}^{n} \\frac{\\sin(i\\frac{\\pi}{4})}{i} = \\sin(\\frac{\\pi}{4}) + \\frac{\\sin(\\frac{\\pi}{2})}{2} + \\frac{\\sin(3\\frac{\\pi}{4})}{3} + \\ldots + \\frac{\\sin(n\\frac{\\pi}{4})}{n}\n",
    "$$\n",
    "\n",
    "Using a `for` loop, we can calculate this sum as follows:"
   ]
  },
  {
   "cell_type": "code",
   "execution_count": null,
   "metadata": {},
   "outputs": [],
   "source": [
    "import numpy as np\n",
    "n = 100\n",
    "s = 0\n",
    "for i in range(1, n+1):\n",
    "    s += np.sin(i*np.pi/4)/i\n",
    "print(s)"
   ]
  },
  {
   "cell_type": "markdown",
   "metadata": {},
   "source": [
    "Using vectorization, we can calculate this sum in a single line of code:"
   ]
  },
  {
   "cell_type": "code",
   "execution_count": null,
   "metadata": {},
   "outputs": [],
   "source": [
    "n = 1\n",
    "s = np.sum(np.sin(np.arange(1, n+1)*np.pi/4)/np.arange(1, n+1))\n",
    "print(s)\n",
    "\n",
    "n = 100\n",
    "s = np.sum(np.sin(np.arange(1, n+1)*np.pi/4)/np.arange(1, n+1))\n",
    "print(s)"
   ]
  },
  {
   "cell_type": "markdown",
   "metadata": {},
   "source": [
    "##### Exercises\n",
    "\n",
    "Try to solve the following exercises with one line of (nested) code.\n",
    "\n",
    "**Exercise 8.1**\n",
    "\n",
    "Write a function `countDivisible()` that takes a 1D array of integers `L` as input and returns the number of elements in the array that are even **or** divisible by 3."
   ]
  },
  {
   "cell_type": "code",
   "execution_count": null,
   "metadata": {},
   "outputs": [],
   "source": [
    "def countDivisible(L):\n",
    "    ... # implementation of the function\n",
    "    return ... # return the result\n",
    "\n",
    "L = np.array([-1, 0, -3, 6, -4, 11, 14, 11, 7])\n",
    "n = countDivisible(L)\n",
    "print(n) # 5: 0, 6, 14, 7 and 14)"
   ]
  },
  {
   "cell_type": "markdown",
   "metadata": {},
   "source": [
    "**Exercise 8.2**\n",
    "\n",
    "Wtite a function `indexMax()` that takes a 1D array of integers `L` as input and returns the index of the maximum value in the array. You may not use the `argmax()` function."
   ]
  },
  {
   "cell_type": "code",
   "execution_count": null,
   "metadata": {},
   "outputs": [],
   "source": [
    "def indexMax(L):\n",
    "    ... # implementation of the function\n",
    "    return ... # return the result\n",
    "\n",
    "L = np.array([-1, 0, -3, 6, -4, 11, 14, 11, 7])\n",
    "ind = indexMax(L)\n",
    "print(ind) # should print 14"
   ]
  },
  {
   "cell_type": "markdown",
   "metadata": {},
   "source": [
    "**Exercise 8.3**\n",
    "\n",
    "Write a function `getMaxima()` that takes a 1D array of integers `L` as input and returns the numbers that are local maxima: i.e. that are greater than their left and right neighbours. You can assume that the first and last elements of the array have no left and right neighbours, respectively."
   ]
  },
  {
   "cell_type": "code",
   "execution_count": null,
   "metadata": {},
   "outputs": [],
   "source": [
    "def getMaxima(L):\n",
    "    ... # implementation of the function\n",
    "    return ... # return the result\n",
    "\n",
    "L = np.array([-1, 0, -3, 6, -4, 11, 14, 11, 7])\n",
    "x = getMaxima(L)\n",
    "print(x) # should return [0, 6, 14]"
   ]
  },
  {
   "cell_type": "markdown",
   "metadata": {},
   "source": [
    "< [7 File I/O](7-FileI-O.ipynb) | [Contents](0-Contents.ipynb) | [9 Basic Plotting](9-BasicPlotting.ipynb) >"
   ]
  },
  {
   "cell_type": "markdown",
   "metadata": {},
   "source": []
  }
 ],
 "metadata": {
  "kernelspec": {
   "display_name": "base",
   "language": "python",
   "name": "python3"
  },
  "language_info": {
   "codemirror_mode": {
    "name": "ipython",
    "version": 3
   },
   "file_extension": ".py",
   "mimetype": "text/x-python",
   "name": "python",
   "nbconvert_exporter": "python",
   "pygments_lexer": "ipython3",
   "version": "3.11.5"
  }
 },
 "nbformat": 4,
 "nbformat_minor": 2
}
