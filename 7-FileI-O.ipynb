{
 "cells": [
  {
   "cell_type": "markdown",
   "metadata": {},
   "source": [
    "< [6 Tuples and Dictionaries](6-TuplesDictionaries.ipynb) | [Contents](0-Contents.ipynb) | [8 NumPy](8-NumPy.ipynb) >"
   ]
  },
  {
   "cell_type": "markdown",
   "metadata": {},
   "source": [
    "# 7. File I/O\n",
    "\n",
    "#### 7.1 Introduction\n",
    "In the previous chapters, we either defined our data directly in the code, asked the user for data input, or generated it using functions. However, in many cases, we need to read data from external sources, such as files. \n",
    "\n",
    "A file is a collection of data stored on a disk. Files can be text files, which contain human-readable text (coded as ASCII or Unicode), or binary files, which contain data in a format that is not human-readable. \n",
    "\n",
    "#### 7.2 File location\n",
    "\n",
    "When you open a file, you need to specify the file location. The file location can be either an absolute path or a relative path:\n",
    "\n",
    "* An **absolute path** specifies the location of a file from the root directory.\n",
    "* A **relative path** specifies the location of a file relative to the current working directory. \n",
    "\n",
    "For example, if you have a file called `example.txt` in the current working directory, you can open it using the relative path `'example.txt'`. If you have a file called `example.txt` in a directory called `files` in the current working directory, you can open it using the relative path `'files/example.txt'`.\n",
    "\n",
    "In what follows, we assume that all files are in the `files` directory. This means that you can open a file called `example.txt` using the relative path `'files/example.txt'`.\n"
   ]
  },
  {
   "cell_type": "markdown",
   "metadata": {},
   "source": [
    "#### 7.3 The `os` module\n",
    "\n",
    "The `os` module provides a way of using operating system dependent functionality. The `os` module provides a way to interact with the file system. \n",
    "\n",
    "The `os` module provides several functions to work with files and directories. Here are some of the most commonly used functions:\n",
    "\n",
    "* `os.getcwd()`: returns the current working directory.\n",
    "* `os.chdir(path)`: changes the current working directory to `path`.\n",
    "* `os.listdir(path)`: returns a list of all files and directories in the directory specified by `path`.\n",
    "* `os.mkdir(path)`: creates a new directory with the name `path`.\n",
    "\n",
    "Run the code cells below to see how these functions work.\n"
   ]
  },
  {
   "cell_type": "code",
   "execution_count": null,
   "metadata": {},
   "outputs": [],
   "source": [
    "import os\n",
    "\n",
    "# Get the current working directory\n",
    "print(os.getcwd())"
   ]
  },
  {
   "cell_type": "code",
   "execution_count": null,
   "metadata": {},
   "outputs": [],
   "source": [
    "# Change the current working directory\n",
    "os.chdir('files')\n",
    "\n",
    "# Get the current working directory\n",
    "print(os.getcwd())"
   ]
  },
  {
   "cell_type": "code",
   "execution_count": null,
   "metadata": {},
   "outputs": [],
   "source": [
    "# List all files and directories in the current working directory\n",
    "print(os.listdir())\n"
   ]
  },
  {
   "cell_type": "markdown",
   "metadata": {},
   "source": [
    "Note that since we changed the current working directory to the `files` directory, the content of this directory is listed."
   ]
  },
  {
   "cell_type": "code",
   "execution_count": null,
   "metadata": {},
   "outputs": [],
   "source": [
    "# Create a new directory\n",
    "os.mkdir('new_directory')"
   ]
  },
  {
   "cell_type": "markdown",
   "metadata": {},
   "source": [
    "Note that since we changed the current working directory to the `files` directory, the new directory `new_dir` is created in the `files` directory."
   ]
  },
  {
   "cell_type": "markdown",
   "metadata": {},
   "source": [
    "Execute the code cell below to change the current working directory back to the original directory. This is important because the rest of the code in this notebook assumes that the current working directory is the original directory.\n"
   ]
  },
  {
   "cell_type": "code",
   "execution_count": null,
   "metadata": {},
   "outputs": [],
   "source": [
    "os.chdir(\"..\")\n",
    "\n",
    "# Get the current working directory\n",
    "print(os.getcwd())"
   ]
  },
  {
   "cell_type": "markdown",
   "metadata": {},
   "source": [
    "The `..` between the parentheses is a special path that refers to the parent directory of the current working directory. This is useful when you want **to move up one directory level**. "
   ]
  },
  {
   "cell_type": "markdown",
   "metadata": {},
   "source": [
    "#### 7.4 Reading text files\n",
    "\n",
    "Reading data from a text files goes as follows:\n",
    "* open the file with the `open()` function\n",
    "* read the data using the `read()`, `readline()`, or `readlines()` functions\n",
    "* close the file with the `close()` function\n",
    "\n",
    "You can open a file using the `open()` function. The `open()` function takes two arguments:\n",
    "* the name of the file you want to open and\n",
    "* the mode in which you want to open the file. The mode can be \n",
    "    * `'r'` for reading (default),\n",
    "    * `'w'` for writing, or\n",
    "    * `'a'` for appending. \n",
    "\n",
    "The `open()` function returns a file object, which you can use to read or write data to the file. Python has several functions to read data from a file:\n",
    "* `read()`: read the entire content of the file as a single string\n",
    "* `readline()`: read one line of the file\n",
    "* `readlines()`: read all lines of the file and store them in a list\n",
    "\n",
    "To close the file, you can use the function `close()`.\n",
    "\n",
    "#### A First example\n",
    "\n",
    "Consider the file `data.txt` in the `files` directory. The file contains 5 lines of data. The following code reads the entire content of the file into a list: \n",
    "\n",
    "```python\n",
    "    f = open(\"files/data.txt\", \"r\") # \"r\" is optional\n",
    "    data = f.readlines()\n",
    "    f.close()\n",
    "    print(data)\n",
    "```\n",
    "\n",
    "Run the code in the cell below:"
   ]
  },
  {
   "cell_type": "code",
   "execution_count": null,
   "metadata": {},
   "outputs": [],
   "source": [
    "f = open(\"files/data.txt\", \"r\")\n",
    "data = f.readlines()\n",
    "f.close()\n",
    "print(data)"
   ]
  },
  {
   "cell_type": "markdown",
   "metadata": {},
   "source": [
    "**Important notes** \n",
    "* Each element of the list corresponds to a line of the file.\n",
    "* The newline character `\\n` is included in each element of the list. To get rid of the newline character, you can use the `strip()` function. The `strip()` function removes leading and trailing whitespaces (including the newline character) from a string.\n",
    "* The values in the file are read (interpreted) as strings. If you want to convert the values to numbers (to perform calculations), you need to use the `int()` or `float()` functions.\n",
    "\n",
    "The following code reads the entire content of the file into a list and converts the values to floating-point numbers:\n",
    "\n",
    "```python\n",
    "    f = open(\"files/data.txt\", \"r\")\n",
    "    data = f.readlines()\n",
    "    f.close()\n",
    "    for i in range(len(data)):\n",
    "        data[i] = float(data[i].strip())\n",
    "    print(data)\n",
    "```\n",
    "\n",
    "Run the code in the cell below:"
   ]
  },
  {
   "cell_type": "code",
   "execution_count": null,
   "metadata": {},
   "outputs": [],
   "source": [
    "f = open(\"files/data.txt\", \"r\")\n",
    "data = f.readlines()\n",
    "f.close()\n",
    "for i in range(len(data)):\n",
    "    data[i] = float(data[i].strip())\n",
    "print(data)"
   ]
  },
  {
   "cell_type": "markdown",
   "metadata": {},
   "source": [
    "#### A Second example\n",
    "The file `names.txt` in the folder `files` contains a list of names, one per line. The following code reads the entire content of the file into a list and removes the newline character:\n",
    "\n",
    "```python\n",
    "    f = open(\"files/names.txt\", \"r\")\n",
    "    names = f.readlines()\n",
    "    f.close()\n",
    "    for i in range(len(names)):\n",
    "        names[i] = names[i].strip()\n",
    "    print(names)\n",
    "```\n",
    "\n",
    "Run the code in the cell below:"
   ]
  },
  {
   "cell_type": "code",
   "execution_count": null,
   "metadata": {},
   "outputs": [],
   "source": [
    "f = open(\"files/names.txt\", \"r\")\n",
    "names = f.readlines()\n",
    "f.close()\n",
    "for i in range(len(names)):\n",
    "    names[i] = names[i].strip()\n",
    "print(names)"
   ]
  },
  {
   "cell_type": "markdown",
   "metadata": {},
   "source": [
    "#### 7.5 Processing file content\n",
    "\n",
    "In many cases, you need to process the content of a file:\n",
    "* You may need to remove the newline character.\n",
    "* You may need to split the content of a file into words or numbers, or a combination of both.\n",
    "* You may need to convert (part of) the content of a file to a different format.\n",
    "\n",
    "\n",
    "The file `atoms.txt` contains a list of 50 atoms and their properties. For each atom the following data are given: the name of the atom, the symbol of the atom, and the atomic weight. The data are separated by comma and a space character.\n",
    "\n",
    "The following code reads the content of the file and stores the data in a nested list. Each element of the nested list corresponds to a line of the file, and each element of the nested list is a list of strings. The atomic weight is converted to a floating-point number:\n",
    "\n",
    "```python\n",
    "    f = open(\"files/atoms.txt\", \"r\")\n",
    "    data = f.readlines()\n",
    "    f.close()\n",
    "    for i in range(len(data)):\n",
    "        data[i] = data[i].strip().split(\", \")\n",
    "        data[i][-1] = float(data[i][-1])\n",
    "    print(data)\n",
    "```\n",
    "\n",
    "Run the code in the cell below:\n"
   ]
  },
  {
   "cell_type": "code",
   "execution_count": null,
   "metadata": {},
   "outputs": [],
   "source": [
    "f = open(\"files/atoms.txt\", \"r\")\n",
    "data = f.readlines()\n",
    "f.close()\n",
    "for i in range(len(data)):\n",
    "    data[i] = data[i].strip().split(\", \")\n",
    "    data[i][-1] = float(data[i][-1])\n",
    "print(data)"
   ]
  },
  {
   "cell_type": "markdown",
   "metadata": {},
   "source": [
    "Note that the stripping and the splitting of the data are done in one line of code: first the newline character is removed, and then the string is split into a list of strings."
   ]
  },
  {
   "cell_type": "markdown",
   "metadata": {},
   "source": [
    "#### 7.6 Writing to files\n",
    "\n",
    "Writing data to a file goes as follows:\n",
    "* open the file\n",
    "* write the data\n",
    "* close the file\n",
    "\n",
    "You can use the `print()` function to write data to a file. The `print()` function takes an additional argument, `file`, which specifies the file object to which you want to write the data. \n",
    "\n",
    "#### An example\n",
    "\n",
    "The following code reads user input and writes these and the number of words to a file called `words.txt`:\n",
    "\n",
    "```python\n",
    "    n = 0\n",
    "    f = open(\"files/words.txt\", \"w\")\n",
    "    while True:\n",
    "        word = input(\"Enter a word (or 'q' to quit): \")\n",
    "        if word == \"q\":\n",
    "            break\n",
    "        n = n + 1\n",
    "        print(word, file = f)\n",
    "    print(\"Number of words:\", n, file = f)\n",
    "    f.close()\n",
    "```\n",
    "\n",
    "Run the code in the cell below:\n"
   ]
  },
  {
   "cell_type": "code",
   "execution_count": null,
   "metadata": {},
   "outputs": [],
   "source": [
    "n = 0\n",
    "f = open(\"files/words.txt\", \"w\")\n",
    "while True:\n",
    "    word = input(\"Enter a word (or 'q' to quit): \")\n",
    "    if word == \"q\":\n",
    "        break\n",
    "    n = n + 1\n",
    "    print(word, file = f)\n",
    "print(\"Number of words:\", n, file = f)\n",
    "f.close()"
   ]
  },
  {
   "cell_type": "markdown",
   "metadata": {},
   "source": [
    "**Note**: if you forget to specify the file object `file = f`, the data will be written to the standard output (the screen). "
   ]
  },
  {
   "cell_type": "markdown",
   "metadata": {},
   "source": [
    "#### 7.7 Reading from a directory\n",
    "\n",
    "Sometimes the data you need to process are stored in multiple files in a directory. You can read all files in a directory using the `os` module. The `os` module provides a function called `listdir()`, which returns a list of all files in a directory. \n",
    "\n",
    "The following code lists all files in the `files` directory:\n",
    "\n",
    "```python\n",
    "    import os\n",
    "    files = os.listdir(\"files\")\n",
    "    print(files)\n",
    "```\n",
    "\n",
    "Run the code in the cell below:"
   ]
  },
  {
   "cell_type": "code",
   "execution_count": null,
   "metadata": {},
   "outputs": [],
   "source": [
    "import os\n",
    "files = os.listdir(\"files\")\n",
    "print(files)"
   ]
  },
  {
   "cell_type": "markdown",
   "metadata": {},
   "source": [
    "#### Example\n",
    "\n",
    "The directory `pH_data` contains several files, each of which contains one pH measurement. The following code reads all files in the directory and stores the pH measurements as floating-point numbers in a list:\n",
    "\n",
    "```python\n",
    "    import os\n",
    "    pH = []\n",
    "    files = os.listdir(\"files/pH_data\")\n",
    "    for file in files:\n",
    "        file = open(\"files/pH_data/\" + file, \"r\")\n",
    "        pH.append(float(file.readline().strip()))\n",
    "        file.close()\n",
    "    print(pH)\n",
    "```\n",
    "\n",
    "Run the code in the cell below:"
   ]
  },
  {
   "cell_type": "code",
   "execution_count": null,
   "metadata": {},
   "outputs": [],
   "source": [
    "import os\n",
    "pH = []\n",
    "files = os.listdir(\"files/pH_data\")\n",
    "for file in files:\n",
    "    f = open(\"files/pH_data/\" + file, \"r\")\n",
    "    pH.append(float(f.readline().strip()))\n",
    "    f.close()\n",
    "print(pH)"
   ]
  },
  {
   "cell_type": "markdown",
   "metadata": {},
   "source": [
    "Note that the command `pH.append(float(file.readline().strip()))`\n",
    "* reads the first (and only) line of the file, \n",
    "* removes the newline character, \n",
    "* converts the value to a floating-point number, and\n",
    "* appends the value to the list `pH`.\n",
    "\n",
    "The code will be more readible if we split this command into several lines:\n",
    "\n",
    "```python\n",
    "    import os\n",
    "    pH = []\n",
    "    files = os.listdir(\"files/pH_data\")\n",
    "    for file in files:\n",
    "        f = open(\"files/pH_data/\" + file, \"r\")\n",
    "        line = f.readline()\n",
    "        line = line.strip()\n",
    "        pH.append(float(line))\n",
    "        f.close()\n",
    "    print(pH)\n",
    "```\n",
    "\n"
   ]
  },
  {
   "cell_type": "markdown",
   "metadata": {},
   "source": [
    "#### 7.8 The infoFunWP module\n",
    "\n",
    "The module `infoFunWP` is part of a package with the same name but is not part of the standard Python library. \n",
    "\n",
    "The module contains the following functions to **read** files:\n",
    "* `listRead()`: read the complete file and return a list of strings (one string per line)\n",
    "* `listReadValues()`: read the complete file and return a list of floats (one float per line)\n",
    "* `stringRead()`: read the complete file and return a **single string**\n",
    "\n",
    "The module contains the following functions to **write** files:\n",
    "* `listWrite()`: write a list of strings to a text file (one line per string)\n",
    "* `stringWrite()`: write a string to a text file\n",
    "\n",
    "In order to use the module, you need to install the package `infoFunWP` first. You can install the package using the following command in a terminal:\n",
    "\n",
    "```python\n",
    "    pip install infoFunWP\n",
    "```\n",
    "\n",
    "Next, you can import the module using the following command:\n",
    "\n",
    "```python\n",
    "    import infoFunWP as infoFun\n",
    "```\n",
    "\n",
    "A few examples of how to use the module are given below. \n",
    "\n",
    "The function `listReadValues()` is very useful if the file contains a single column with numerical data. The function reads the data and returns a list of floating-point numbers:"
   ]
  },
  {
   "cell_type": "code",
   "execution_count": null,
   "metadata": {},
   "outputs": [],
   "source": [
    "# read the content of the file data.txt in the files directory\n",
    "import infoFunWP as infoFun\n",
    "data = infoFun.listReadValues(\"files/data.txt\")\n",
    "print(data)"
   ]
  },
  {
   "cell_type": "markdown",
   "metadata": {},
   "source": [
    "Compare this code with the code in the first example of Section 7.4. The code is more concise and easier to read.\n",
    "\n",
    "If the file contains text data, you can use the function `listRead()` to read the data and return a list of strings:"
   ]
  },
  {
   "cell_type": "code",
   "execution_count": null,
   "metadata": {},
   "outputs": [],
   "source": [
    "# read the content of the file names.txt in the files directory\n",
    "import infoFunWP as infoFun\n",
    "names = infoFun.listRead(\"files/names.txt\")\n",
    "print(names)"
   ]
  },
  {
   "cell_type": "markdown",
   "metadata": {},
   "source": [
    "When the file contains multiple columns of data such as in the file `atoms.txt`, you can use the function `listRead()` to read the data and to get a list of strings. You can then process the data as described in Section 7.5:\n",
    "* remove the newline character\n",
    "* split each string into a list of strings\n",
    "* convert to float\n",
    "* ...\n",
    "\n",
    "The following code gives the same result as the code in Section 7.5:"
   ]
  },
  {
   "cell_type": "code",
   "execution_count": null,
   "metadata": {},
   "outputs": [],
   "source": [
    "# read the content of the file atoms.txt in the files directory\n",
    "import infoFunWP as infoFun\n",
    "data = infoFun.listRead(\"files/atoms.txt\")\n",
    "for i in range(len(data)):\n",
    "    data[i] = data[i].strip().split(\", \")\n",
    "    data[i][-1] = float(data[i][-1])\n",
    "print(data)"
   ]
  },
  {
   "cell_type": "markdown",
   "metadata": {},
   "source": [
    "### 7.9 Exercises\n",
    "\n",
    "#### **Exercise 1**\n",
    "\n",
    "The file `numbers.txt` in the `files` directory contains 1000 throws of a die. Each throw is a number between 1 and 6. \n",
    "\n",
    "Write a function `count_freqs()` that reads the content of the file and calculates the frequency of each number. The function should return a dictionary `freqs_dict` with the numbers as keys and the frequencies as values. The dictionary should look like this:\n",
    "\n",
    "`freqs_dict = {1: 182, 6: 159, 2: 158, 4: 168, 3: 167, 5: 166}`.\n",
    "\n"
   ]
  },
  {
   "cell_type": "code",
   "execution_count": null,
   "metadata": {},
   "outputs": [],
   "source": [
    "def count_freqs(file):\n",
    "    freq_dict = {}\n",
    "    ... # code to read the file\n",
    "\n",
    "    ... # code to count frequencies\n",
    "\n",
    "    ... # code to fill the dictionary\n",
    "    return freq_dict\n",
    "\n",
    "freq_dict = count_freqs(\"files/numbers.txt\")\n",
    "print(freq_dict) # {1: 182, 6: 159, 2: 158, 4: 168, 3: 167, 5: 166}"
   ]
  },
  {
   "cell_type": "markdown",
   "metadata": {},
   "source": [
    "#### **Exercise 2**\n",
    "\n",
    "The file `codontable.csv` in the `files` directory contains for all amino acids the following data:\n",
    "* the name of the amino acid\n",
    "* the one-letter code of the amino acid\n",
    "* the list of codons that code for the amino acid\n",
    "\n",
    "The data are separated by a comma.\n",
    "\n",
    "Write a function `read_data()` that reads the content of the file, stores the data in a list of lists and returns this nested list. Each element of the list corresponds to a line of the file, and each element of the list is a list of strings. The nested list should look like this:\n",
    "\n",
    "`[['Alanine', 'A', 'GCT, GCC, GCA, GCG'], ['Arginine', 'R', 'CGT, CGC, CGA, CGG, AGA, AGG'], ...]`."
   ]
  },
  {
   "cell_type": "code",
   "execution_count": null,
   "metadata": {},
   "outputs": [],
   "source": [
    "def read_data(file):\n",
    "    ... # code to read the file and process the data\n",
    "    \n",
    "    return data\n",
    "\n",
    "data = read_data(\"files/data.txt\")\n",
    "print(data)"
   ]
  },
  {
   "cell_type": "markdown",
   "metadata": {},
   "source": [
    "#### **Exercise 3**\n",
    "\n",
    "We continue with the data from the previous exercise. \n",
    "\n",
    "The one-letter code of an amino acid is used in bioinformatics to represent amino acids. Using the one-letter code, the sequence of amino acids in a protein can be represented as a string of characters. \n",
    "\n",
    "Write a function `translate_dna()` that takes a string of DNA as input and returns the corresponding string of one letter codes of the amino acids. The function should use the data from the previous exercise.\n",
    "\n",
    "For the DNA sequence `ATCATCCTCCTC` the function should return the string `IILL` because `ATC` translates to `I` and `CTC` translates to `L`."
   ]
  },
  {
   "cell_type": "code",
   "execution_count": null,
   "metadata": {},
   "outputs": [],
   "source": [
    "def translate_dna(dna):\n",
    "    slc = \"\" # string to store the one letter codes\n",
    "    ... # code to translate the DNA sequence\n",
    "    return slc\n",
    "\n",
    "dna = \"ATCATCCTCCTC\"\n",
    "slc = translate_dna(dna)\n",
    "print(slc) # IILL"
   ]
  },
  {
   "cell_type": "markdown",
   "metadata": {},
   "source": [
    "< [6 Tuples and Dictionaries](6-TuplesDictionaries.ipynb) | [Contents](0-Contents.ipynb) | [8 NumPy](8-NumPy.ipynb) >"
   ]
  },
  {
   "cell_type": "markdown",
   "metadata": {},
   "source": []
  }
 ],
 "metadata": {
  "kernelspec": {
   "display_name": "base",
   "language": "python",
   "name": "python3"
  },
  "language_info": {
   "codemirror_mode": {
    "name": "ipython",
    "version": 3
   },
   "file_extension": ".py",
   "mimetype": "text/x-python",
   "name": "python",
   "nbconvert_exporter": "python",
   "pygments_lexer": "ipython3",
   "version": "3.11.5"
  }
 },
 "nbformat": 4,
 "nbformat_minor": 4
}
