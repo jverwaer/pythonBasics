{
 "cells": [
  {
   "cell_type": "markdown",
   "metadata": {},
   "source": [
    "< [5 Lists](5-Lists.ipynb) | [Contents](0-Contents.ipynb) | [7 File I/O](7-FileI-O.ipynb) >"
   ]
  },
  {
   "cell_type": "markdown",
   "metadata": {},
   "source": [
    "# 6. Tuples and Dictionaries\n",
    "### 6.1 Tuples\n",
    "\n",
    "#### Creating tuples\n",
    "Tuples are a lot like lists. They are defined by **parentheses** `()`: \n",
    "```python\n",
    "    coord = (3, -2, 4)\n",
    "``` \n",
    "\n",
    "#### Accessing tuple elements\n",
    "You can access the values in a tuple just like you can in a list:\n",
    "```python\n",
    "    print(coord[2]) # prints 4\n",
    "```\n",
    "\n",
    "#### Iterating over tuples \n",
    "You can iterate over tuples just like you can with lists: index based or element based."
   ]
  },
  {
   "cell_type": "code",
   "execution_count": null,
   "metadata": {},
   "outputs": [],
   "source": [
    "# index based iteration\n",
    "coord = (3, -2, 4)\n",
    "for i in range(len(coord)):\n",
    "    print(coord[i])"
   ]
  },
  {
   "cell_type": "code",
   "execution_count": null,
   "metadata": {},
   "outputs": [],
   "source": [
    "# element based iteration\n",
    "for x in coord:\n",
    "    print(x)\n"
   ]
  },
  {
   "cell_type": "markdown",
   "metadata": {},
   "source": [
    "#### Tuple concatenation and duplication\n",
    "You can **concatenate** tuples by using the `+` operator, just as with lists:\n",
    "```python\n",
    "    coord1 = (3, -2, 4)\n",
    "    coord2 = (1, 2, 3)\n",
    "    print(coord1 + coord2) # prints (3, -2, 4, 1, 2, 3)\n",
    "```\n",
    "\n",
    "You can also **duplicate** tuples by using the `*` operator, just as with lists:\n",
    "```python\n",
    "    coord = (3, -2, 4)\n",
    "    print(coord * 3) # prints (3, -2, 4, 3, -2, 4, 3, -2, 4)\n",
    "```"
   ]
  },
  {
   "cell_type": "markdown",
   "metadata": {},
   "source": [
    "#### Tuple manipulation\n",
    "With concatenation and duplication a new tuple is created. You can't change the values of a tuple once it's created: tuples are **immutable**. This is a key difference between tuples and lists. \n",
    "\n",
    "Let us try to change the value of a tuple element:\n",
    "```python\n",
    "    coord = (3, -2, 4)\n",
    "    coord[1] = 0\n",
    "```\n",
    "This will raise an error: `TypeError: 'tuple' object does not support item assignment`.\n",
    "\n",
    "Try it out in the code cell below:"
   ]
  },
  {
   "cell_type": "code",
   "execution_count": null,
   "metadata": {},
   "outputs": [],
   "source": [
    "coord = (3, -2, 4)\n",
    "coord[1] = 0"
   ]
  },
  {
   "cell_type": "markdown",
   "metadata": {},
   "source": [
    "## 6.2 Dictionaries\n",
    "\n",
    "A dictionary in Python is a built-in data structure that allows you to store and retrieve data in the form of key-value pairs. Each unique key is associated with a specific value, enabling efficient data lookup and manipulation.\n",
    "\n",
    "A key in a dictionary must be unique and immutable, such as strings, numbers, or tuples. The values can be of any data type, including strings, numbers, lists and tuples.\n",
    "\n",
    "A value can be a single value or a list of values. \n",
    "\n",
    "Dictionaries are commonly used when you need to quickly access data based on unique identifiers, such as usernames, product IDs, or settings.\n",
    "\n",
    "#### 6.2.1 Creating dictionaries\n",
    "\n",
    "Dictionaries are defined by **curly braces** `{}`. An **empty dictionary** is created by `{}`:\n",
    "```python\n",
    "    D = {}\n",
    "```\n",
    "\n",
    "\n",
    "The syntax for a non-empty dictionary is `key: value` pairs separated by commas:\n",
    "```python\n",
    "    D = {key1: value1, key2: value2, key3: value3, ...}\n",
    "```\n",
    "\n",
    "Suppose you want to store the atomic weights of some elements. Then you can create a dictionary as follows:\n",
    "\n",
    "```python\n",
    "    atoms = {'H': 1.01, 'He': 4.00, 'Li': 6.94, 'Na': 22.99, 'O': 16.00}\n",
    "```\n",
    "\n",
    "Some other examples are given below:"
   ]
  },
  {
   "cell_type": "code",
   "execution_count": null,
   "metadata": {},
   "outputs": [],
   "source": [
    "# A dictionary with integer keys\n",
    "squares = {1: 1, 2: 4, 3: 9, 4: 16, 5: 25}"
   ]
  },
  {
   "cell_type": "code",
   "execution_count": null,
   "metadata": {},
   "outputs": [],
   "source": [
    "# A dictionary with string keys\n",
    "capitals = {'USA': 'Washington D.C.', 'France': 'Paris', 'India': 'New Delhi'}"
   ]
  },
  {
   "cell_type": "code",
   "execution_count": null,
   "metadata": {},
   "outputs": [],
   "source": [
    "# A dictorionary with list of values\n",
    "models = {'Audi': ['A4', 'A5', 'A6', 'A7', 'A8'], 'BMW': ['X1', 'X3', 'X5'], 'Mercedes': ['C-Class', 'E-Class']}"
   ]
  },
  {
   "cell_type": "markdown",
   "metadata": {},
   "source": [
    "#### 6.2.2 Accessing dictionary elements\n",
    "To access the value associated with a key, you can use square brackets `[]`:\n",
    "```python\n",
    "    print(atoms['Li'])\n",
    "```\n",
    "Try it out in the code cell below:"
   ]
  },
  {
   "cell_type": "code",
   "execution_count": null,
   "metadata": {},
   "outputs": [],
   "source": [
    "atoms = {'H': 1.01, 'He': 4.00, 'Li': 6.94, 'Na': 22.99, 'O': 16.00}\n",
    "print(atoms['Li'])"
   ]
  },
  {
   "cell_type": "markdown",
   "metadata": {},
   "source": [
    "To calculate the weight of a water molecule, you can use the atomic weights of hydrogen and oxygen:\n",
    "```python\n",
    "    w = 2 * atoms['H'] + atoms['O']\n",
    "    print(w)\n",
    "```\n",
    "\n",
    "Try it out in the code cell below:"
   ]
  },
  {
   "cell_type": "code",
   "execution_count": null,
   "metadata": {},
   "outputs": [],
   "source": [
    "w = 2 * atoms['H'] + atoms['O']\n",
    "print(w)"
   ]
  },
  {
   "cell_type": "markdown",
   "metadata": {},
   "source": [
    "#### 6.2.3 Adding and modifying dictionary elements\n",
    "You can add a new key-value pair to a dictionary by assigning a value to a new key. For example, to add the atomic weight of carbon to the `atoms` dictionary:\n",
    "```python\n",
    "    atoms['C'] = 12.01\n",
    "```\n"
   ]
  },
  {
   "cell_type": "code",
   "execution_count": null,
   "metadata": {},
   "outputs": [],
   "source": [
    "# Add a new element\n",
    "atoms['C'] = 12.01\n",
    "print(atoms)"
   ]
  },
  {
   "cell_type": "markdown",
   "metadata": {},
   "source": [
    "To modify an existing value, you can simply assign a new value to the key. Suppose you made a mistake in the atomic weight of sodium and want to correct it. Than you can do this by:\n",
    "```python\n",
    "    atoms['Na'] = 23.00\n",
    "```"
   ]
  },
  {
   "cell_type": "code",
   "execution_count": null,
   "metadata": {},
   "outputs": [],
   "source": [
    "# Change the value of an existing key\n",
    "atoms['Na'] = 23.00\n",
    "print(atoms)"
   ]
  },
  {
   "cell_type": "markdown",
   "metadata": {},
   "source": [
    "It is also possible to add values to an existing list of values. Suppose you want to add `A9` to the values list of the key `Audi`. You can do this by using the append method:"
   ]
  },
  {
   "cell_type": "code",
   "execution_count": null,
   "metadata": {},
   "outputs": [
    {
     "name": "stdout",
     "output_type": "stream",
     "text": [
      "['A4', 'A5', 'A6', 'A7', 'A8', 'A9']\n"
     ]
    }
   ],
   "source": [
    "# Add a new element to an existing list\n",
    "models = {'Audi': ['A4', 'A5', 'A6', 'A7', 'A8'], 'BMW': ['X1', 'X3', 'X5'], 'Mercedes': ['C-Class', 'E-Class']}\n",
    "models['Audi'].append('A9')\n",
    "print(models['Audi'])"
   ]
  },
  {
   "cell_type": "markdown",
   "metadata": {},
   "source": [
    "#### 6.2.4 Removing dictionary elements\n",
    "You can remove a key-value pair from a dictionary using the `del` keyword:\n",
    "```python\n",
    "    del atoms['He']\n",
    "```\n"
   ]
  },
  {
   "cell_type": "code",
   "execution_count": null,
   "metadata": {},
   "outputs": [],
   "source": [
    "# Delete an element\n",
    "del atoms['He']\n",
    "print(atoms)"
   ]
  },
  {
   "cell_type": "markdown",
   "metadata": {},
   "source": [
    "Note that when a key is not found in a dictionary, Python raises a `KeyError` exception. Try to delete `He` from the dictionary `atoms` again:"
   ]
  },
  {
   "cell_type": "code",
   "execution_count": null,
   "metadata": {},
   "outputs": [],
   "source": [
    "del atoms['He']\n",
    "print(atoms)"
   ]
  },
  {
   "cell_type": "markdown",
   "metadata": {},
   "source": [
    "#### 6.2.5 Searching for a key in a dictionary\n",
    "You can check if a key is present in a dictionary using the `in` operator or the `keys()` method. The `in` operator returns `True` if the key is present in the dictionary, and `False` otherwise. The `keys()` method returns a view object that displays a list of all the keys in the dictionary:\n",
    "\n",
    "```python\n",
    "    print('H' in atoms)         # True\n",
    "    print('H' in atoms.keys())  # True\n",
    "    print('Ne' in atoms)        # False\n",
    "```\n",
    "Try it out in the code cell below:"
   ]
  },
  {
   "cell_type": "code",
   "execution_count": 23,
   "metadata": {},
   "outputs": [
    {
     "name": "stdout",
     "output_type": "stream",
     "text": [
      "dict_keys(['H', 'He', 'Li', 'Na', 'O'])\n",
      "True\n",
      "True\n",
      "False\n"
     ]
    }
   ],
   "source": [
    "atoms = {'H': 1.01, 'He': 4.00, 'Li': 6.94, 'Na': 22.99, 'O': 16.00}\n",
    "print(atoms.keys())\n",
    "\n",
    "print('H' in atoms)\n",
    "print('H' in atoms.keys())\n",
    "print('Ne' in atoms)"
   ]
  },
  {
   "cell_type": "markdown",
   "metadata": {},
   "source": [
    "You can convert the view object to a list by using the `list()` function:"
   ]
  },
  {
   "cell_type": "code",
   "execution_count": 22,
   "metadata": {},
   "outputs": [
    {
     "name": "stdout",
     "output_type": "stream",
     "text": [
      "['H', 'He', 'Li', 'Na', 'O']\n"
     ]
    }
   ],
   "source": [
    "keys_list = list(atoms.keys())\n",
    "print(keys_list)"
   ]
  },
  {
   "cell_type": "markdown",
   "metadata": {},
   "source": [
    "#### 6.2.6 Searching for a value in a dictionary\n",
    "To check wheter a value is present in a dictionary, you can use the `values()` method.\n",
    "\n",
    "Try it out in the code cell below:"
   ]
  },
  {
   "cell_type": "code",
   "execution_count": null,
   "metadata": {},
   "outputs": [],
   "source": [
    "values_list = atoms.values()\n",
    "print(values_list)\n",
    "list(values_list)  # convert the view to a list"
   ]
  },
  {
   "cell_type": "code",
   "execution_count": null,
   "metadata": {},
   "outputs": [],
   "source": [
    "print(1.01 in atoms.values())\n",
    "print(5 in atoms.values())"
   ]
  },
  {
   "cell_type": "markdown",
   "metadata": {},
   "source": [
    "If the values consist of list of values than you have to use the `in` operator for every list. \n",
    "\n",
    "Try it out in the code cell below:"
   ]
  },
  {
   "cell_type": "code",
   "execution_count": null,
   "metadata": {},
   "outputs": [],
   "source": [
    "models = {'Audi': ['A4', 'A5', 'A6', 'A7', 'A8'], 'BMW': ['X1', 'X3', 'X5'], 'Mercedes': ['C-Class', 'E-Class']}\n",
    "found = False\n",
    "for models_list in models.values():\n",
    "    if 'X1' in models_list:\n",
    "        found = True\n",
    "        break\n",
    "print(found)"
   ]
  },
  {
   "cell_type": "markdown",
   "metadata": {},
   "source": [
    "Note that, in this case, if we use the `in` operator just once in `models.values()` it will return `False` because `X1` is not a value of the dictionary `models`. If we would look for `['X1', 'X3', 'X5']` then it would return `True`:"
   ]
  },
  {
   "cell_type": "code",
   "execution_count": null,
   "metadata": {},
   "outputs": [],
   "source": [
    "models = {'Audi': ['A4', 'A5', 'A6', 'A7', 'A8'], 'BMW': ['X1', 'X3', 'X5'], 'Mercedes': ['C-Class', 'E-Class']}\n",
    "print('X1' in models.values())\n",
    "print(['X1', 'X3', 'X5'] in models.values())"
   ]
  },
  {
   "cell_type": "markdown",
   "metadata": {},
   "source": [
    "### 6.2.7 Exercises\n",
    "\n",
    "#### **Exercise 6.1** \n",
    "\n",
    "Write a program that repeatedly asks the user for a name and a phone number, separated by a comma. Store this information in a dictionary `phone_dict`: the name as the key and the phone number as the value. The resulting dictionary should look like this: `{'Alice': '1234567890', 'Bob': '9876543210', ...}`. The program should stop when the user enters an empty string.\n",
    "\n",
    "Part of the program is given below. Complete the program by adding the missing code."
   ]
  },
  {
   "cell_type": "code",
   "execution_count": null,
   "metadata": {},
   "outputs": [],
   "source": [
    "phone_dict = {}\n",
    "data = input(\"Give a name and a phone number separated by a comma: \")\n",
    "\n",
    "while data != \"\":\n",
    "    ... # add the name and phone number to the dictionary\n",
    "\n",
    "print(phone_dict)"
   ]
  },
  {
   "cell_type": "markdown",
   "metadata": {},
   "source": [
    "### **Exercise 6.2**\n",
    "\n",
    "The file `mendelejev.txt` in the folder `files` contains data of 118 elements. Each line corresponds to an element and contains the following **textual** and **numerical** information:\n",
    "* **textual**: the symbol, the name and the group name, separated by a hyphen (`-`), and\n",
    "* **numerical**: the atomic number, the atomic weight, the neutron number and the electronegativity, separated by a comma (`,`).\n",
    "\n",
    "The textual and numerical data are separated by a vertical line (`|`). A few lines of the file are shown below:\n",
    "\n",
    "```\n",
    "    H-Hydrogen-Nonmetal|1,0,1.00794,2.20\n",
    "    He-Helium-NobleGas|2,2,4.002602,0.00\n",
    "    ...\n",
    "    Uuo-Ununoctium-NobleGas|118,176,294,0.00\n",
    "```\n",
    "\n",
    "The file can be read (see Chapter 7: File I/O) as a list of strings `content` using the `open()`, `close()` and `readlines()` methods:\n",
    "\n",
    "```python\n",
    "    f = open(\"files/mendelejev.txt\")\n",
    "    content = f.readlines()\n",
    "    f.close()\n",
    "```"
   ]
  },
  {
   "cell_type": "code",
   "execution_count": 2,
   "metadata": {},
   "outputs": [
    {
     "name": "stdout",
     "output_type": "stream",
     "text": [
      "['H-Hydrogen-Nonmetal|1,0,1.00794,2.20\\n', 'He-Helium-NobleGas|2,2,4.002602,0.00\\n', 'Li-Lithium-AlkaliMetal|3,4,6.941,0.98\\n', 'Be-Beryllium-AlkalineEarthMetal|4,5,9.012182,1.57\\n', 'B-Boron-Metalloid|5,6,10.811,2.04\\n', 'C-Carbon-Nonmetal|6,6,12.0107,2.55\\n', 'N-Nitrogen-Nonmetal|7,7,14.0067,3.04\\n', 'O-Oxygen-Chalcogen|8,8,15.9994,3.44\\n', 'F-Fluorine-Halogen|9,10,18.9984032,3.98\\n', 'Ne-Neon-NobleGas|10,10,20.1791,0.00\\n', 'Na-Sodium-AlkaliMetal|11,12,22.98976928,0.93\\n', 'Mg-Magnesium-AlkalineEarthMetal|12,12,24.305,1.31\\n', 'Al-Aluminum-PoorMetal|13,14,26.9815386,1.61\\n', 'Si-Silicon-Metalloid|14,14,28.0855,1.90\\n', 'P-Phosphorus-Nonmetal|15,16,30.973762,2.19\\n', 'S-Sulfur-Chalcogen|16,16,32.065,2.58\\n', 'Cl-Chlorine-Halogen|17,18,35.453,3.16\\n', 'Ar-Argon-NobleGas|18,22,39.948,0.00\\n', 'K-Potassium-AlkaliMetal|19,20,39.0983,0.82\\n', 'Ca-Calcium-AlkalineEarthMetal|20,20,40.078,1.00\\n', 'Sc-Scandium-TransitionMetal|21,24,44.955912,1.36\\n', 'Ti-Titanium-TransitionMetal|22,26,47.867,1.54\\n', 'V-Vanadium-TransitionMetal|23,28,50.9415,1.63\\n', 'Cr-Chromium-TransitionMetal|24,28,51.9961,1.66\\n', 'Mn-Manganese-TransitionMetal|25,30,54.938045,1.55\\n', 'Fe-Iron-TransitionMetal|26,30,55.845,1.83\\n', 'Co-Cobalt-TransitionMetal|27,32,58.933195,1.88\\n', 'Ni-Nickel-TransitionMetal|28,31,58.6934,1.91\\n', 'Cu-Copper-TransitionMetal|29,35,63.546,1.90\\n', 'Zn-Zinc-TransitionMetal|30,35,65.38,1.65\\n', 'Ga-Gallium-PoorMetal|31,39,69.723,1.81\\n', 'Ge-Germanium-Metalloid|32,41,72.64,2.01\\n', 'As-Arsenic-Metalloid|33,42,74.9216,2.18\\n', 'Se-Selenium-Chalcogen|34,45,78.96,2.55\\n', 'Br-Bromine-Halogen|35,45,79.904,2.96\\n', 'Kr-Krypton-NobleGas|36,48,83.798,3.00\\n', 'Rb-Rubidium-AlkaliMetal|37,48,85.4678,0.82\\n', 'Sr-Strontium-AlkalineEarthMetal|38,50,87.62,0.95\\n', 'Y-Yttrium-TransitionMetal|39,50,88.90585,1.22\\n', 'Zr-Zirconium-TransitionMetal|40,51,91.224,1.33\\n', 'Nb-Niobium-TransitionMetal|41,52,92.90638,1.60\\n', 'Mo-Molybdenum-TransitionMetal|42,54,95.96,2.16\\n', 'Tc-Technetium-TransitionMetal|43,55,98,1.90\\n', 'Ru-Ruthenium-TransitionMetal|44,57,101.07,2.20\\n', 'Rh-Rhodium-TransitionMetal|45,58,102.9055,2.28\\n', 'Pd-Palladium-TransitionMetal|46,60,106.42,2.20\\n', 'Ag-Silver-TransitionMetal|47,61,107.8682,1.93\\n', 'Cd-Cadmium-TransitionMetal|48,64,112.411,1.69\\n', 'In-Indium-PoorMetal|49,66,114.818,1.78\\n', 'Sn-Tin-PoorMetal|50,69,118.71,1.96\\n', 'Sb-Antimony-Metalloid|51,71,121.76,2.05\\n', 'Te-Tellurium-Chalcogen|52,76,127.6,2.10\\n', 'I-Iodine-Halogen|53,74,126.90447,2.66\\n', 'Xe-Xenon-NobleGas|54,77,131.293,2.60\\n', 'Cs-Cesium-AlkaliMetal|55,78,132.9054519,0.79\\n', 'Ba-Barium-AlkalineEarthMetal|56,81,137.327,0.89\\n', 'La-Lanthanum-Lanthanide|57,82,138.90547,1.10\\n', 'Ce-Cerium-Lanthanide|58,82,140.116,1.12\\n', 'Pr-Praseodymium-Lanthanide|59,82,140.90765,1.13\\n', 'Nd-Neodymium-Lanthanide|60,84,144.242,1.14\\n', 'Pm-Promethium-Lanthanide|61,84,145,0.00\\n', 'Sm-Samarium-Lanthanide|62,88,150.36,1.17\\n', 'Eu-Europium-Lanthanide|63,89,151.964,0.00\\n', 'Gd-Gadolinium-Lanthanide|64,93,157.25,1.20\\n', 'Tb-Terbium-Lanthanide|65,94,158.92535,0.00\\n', 'Dy-Dysprosium-Lanthanide|66,96,162.5,1.22\\n', 'Ho-Holmium-Lanthanide|67,98,164.93032,1.23\\n', 'Er-Erbium-Lanthanide|68,99,167.259,1.24\\n', 'Tm-Thulium-Lanthanide|69,100,168.93421,1.25\\n', 'Yb-Ytterbium-Lanthanide|70,103,173.054,0.00\\n', 'Lu-Lutetium-TransitionMetal|71,104,174.9668,1.27\\n', 'Hf-Hafnium-TransitionMetal|72,106,178.49,1.30\\n', 'Ta-Tantalum-TransitionMetal|73,108,180.94788,1.50\\n', 'W-Tungsten-TransitionMetal|74,110,183.84,2.36\\n', 'Re-Rhenium-TransitionMetal|75,111,186.207,1.90\\n', 'Os-Osmium-TransitionMetal|76,114,190.23,2.20\\n', 'Ir-Iridium-TransitionMetal|77,115,192.217,2.20\\n', 'Pt-Platinum-TransitionMetal|78,117,195.084,2.28\\n', 'Au-Gold-TransitionMetal|79,118,196.966569,2.54\\n', 'Hg-Mercury-TransitionMetal|80,121,200.59,2.00\\n', 'Tl-Thallium-PoorMetal|81,123,204.3833,1.62\\n', 'Pb-Lead-PoorMetal|82,125,207.2,2.33\\n', 'Bi-Bismuth-PoorMetal|83,126,208.9804,2.02\\n', 'Po-Polonium-Chalcogen|84,125,209,2.00\\n', 'At-Astatine-Halogen|85,125,210,2.20\\n', 'Rn-Radon-NobleGas|86,136,222,0.00\\n', 'Fr-Francium-AlkaliMetal|87,136,223,0.70\\n', 'Ra-Radium-AlkalineEarthMetal|88,138,226,0.90\\n', 'Ac-Actinium-Actinide|89,138,227,1.10\\n', 'Th-Thorium-Actinide|90,142,232.03806,1.30\\n', 'Pa-Protactinium-Actinide|91,140,231.03586,1.50\\n', 'U-Uranium-Actinide|92,146,238.02891,1.38\\n', 'Np-Neptunium-Actinide|93,144,237,1.36\\n', 'Pu-Plutonium-Actinide|94,150,244,1.28\\n', 'Am-Americium-Actinide|95,148,243,1.30\\n', 'Cm-Curium-Actinide|96,151,247,1.30\\n', 'Bk-Berkelium-Actinide|97,150,247,1.30\\n', 'Cf-Californium-Actinide|98,153,251,1.30\\n', 'Es-Einsteinium-Actinide|99,153,252,1.30\\n', 'Fm-Fermium-Actinide|100,157,257,1.30\\n', 'Md-Mendelevium-Actinide|101,157,258,1.30\\n', 'No-Nobelium-Actinide|102,157,259,1.30\\n', 'Lr-Lawrencium-TransitionMetal|103,159,262,0.00\\n', 'Rf-Rutherfordium-TransitionMetal|104,161,265,0.00\\n', 'Db-Dubnium-TransitionMetal|105,163,268,0.00\\n', 'Sg-Seaborgium-TransitionMetal|106,165,271,0.00\\n', 'Bh-Bohrium-TransitionMetal|107,165,272,0.00\\n', 'Hs-Hassium-TransitionMetal|108,162,270,0.00\\n', 'Mt-Meitnerium-TransitionMetal|109,167,276,0.00\\n', 'Ds-Darmstadtium-TransitionMetal|110,171,281,0.00\\n', 'Rg-Roentgenium-TransitionMetal|111,169,280,0.00\\n', 'Cn-Copernicium-TransitionMetal|112,173,285,0.00\\n', 'Uut-Ununtrium-PoorMetal|113,171,284,0.00\\n', 'Uuq-Ununquadium-PoorMetal|114,175,289,0.00\\n', 'Uup-Ununpentium-PoorMetal|115,173,288,0.00\\n', 'Uuh-Ununhexium-PoorMetal|116,177,293,0.00\\n', 'Uus-Ununseptium-Halogen|117,177,294,0.00\\n', 'Uuo-Ununoctium-NobleGas|118,176,294,0.00\\n']\n"
     ]
    }
   ],
   "source": [
    "f = open(\"files/mendelejev.txt\")\n",
    "content = f.readlines()\n",
    "f.close()\n",
    "print(content)"
   ]
  },
  {
   "cell_type": "markdown",
   "metadata": {},
   "source": [
    "The variable `content` is a list of strings. Note that each string contains a newline character at the end. These can be removed applying the `strip()` method to each string: `line = line.strip()`.\n",
    "\n",
    "Write a function `make_dict()` that accepts a list of strings as input and returns a dictionary `element_dict` where the keys are the symbols of the elements and the values are tuples containing the name, group name, atomic number, atomic weight, neutron number and electronegativity of the elements. The function should return the dictionary `element_dict`. The first key value pair of the dictionary should look like this:\n",
    "\n",
    "`   'H': ['Hydrogen', 'Nonmetal', 1, 1.00794, 1, 2.20]`.\n",
    "\n",
    "**Hints**\n",
    "* Each string can be split into two parts using the `split('|')` method. The first part contains the textual information and the second part contains the numerical information. \n",
    "* The textual information can be split into three parts using the `split('-')` method. \n",
    "* The numerical information can be split into four parts using the `split(',')` method."
   ]
  },
  {
   "cell_type": "code",
   "execution_count": null,
   "metadata": {},
   "outputs": [],
   "source": [
    "def make_dict(data):\n",
    "    element_dict = {}\n",
    "    ... # code \n",
    "    return element_dict\n",
    "\n",
    "element_dict = make_dict(content)\n",
    "element_dict[\"H\"] # ['Hydrogen', 'Nonmetal', 1, 1.00794, 1, 2.20]"
   ]
  },
  {
   "cell_type": "markdown",
   "metadata": {},
   "source": [
    "#### **Exercise 6.3**\n",
    "\n",
    "We continue with the dictionary `element_dict` from the previous exercise. Write a function `make_group_dict()` that accepts a dictionary as `element_dict` and creates a dictionary `group_dict` where the keys are the group names and the values are lists of the symbols of the elements in that group. The function should return the dictionary `group_dict`. A key value pair of the dictionary should look like this:\n",
    "\n",
    "`'AlkaliMetal': ['Li', 'Na', 'K', 'Rb', 'Cs', 'Fr']`"
   ]
  },
  {
   "cell_type": "code",
   "execution_count": null,
   "metadata": {},
   "outputs": [],
   "source": [
    "def make_group_dict(element_dict):\n",
    "    group_dict = {}\n",
    "    ... # code\n",
    "    return group_dict\n",
    "\n",
    "group_dict = make_group_dict(element_dict)\n",
    "group_dict[\"AlkaliMetal\"] # ['Li', 'Na', 'K', 'Rb', 'Cs', 'Fr']"
   ]
  },
  {
   "cell_type": "markdown",
   "metadata": {},
   "source": [
    "< [5 Lists](5-Lists.ipynb) | [Contents](0-Contents.ipynb) | [7 File I/O](7-FileI-O.ipynb) >"
   ]
  },
  {
   "cell_type": "markdown",
   "metadata": {},
   "source": []
  }
 ],
 "metadata": {
  "kernelspec": {
   "display_name": "base",
   "language": "python",
   "name": "python3"
  },
  "language_info": {
   "codemirror_mode": {
    "name": "ipython",
    "version": 3
   },
   "file_extension": ".py",
   "mimetype": "text/x-python",
   "name": "python",
   "nbconvert_exporter": "python",
   "pygments_lexer": "ipython3",
   "version": "3.11.5"
  }
 },
 "nbformat": 4,
 "nbformat_minor": 4
}
