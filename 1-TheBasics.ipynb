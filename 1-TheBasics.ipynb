{
 "cells": [
  {
   "cell_type": "markdown",
   "metadata": {},
   "source": [
    "< [Contents](0-Contents.ipynb) | [2 Datatypes](2-BasicDatatypes.ipynb) >"
   ]
  },
  {
   "cell_type": "markdown",
   "metadata": {},
   "source": [
    "# 1 The Basics of Python\n",
    "## 1.1 Running Python in a Notebook\n",
    "In order to test pieces of code we can run Python in an interactive window or from the command line. In these Jupyter Notebook we are going to simulate this, so you don't need to open an interactive windiw or work from the command line.\n",
    "\n",
    "Notebooks have 2 kinds of cells: markdown and code cells. This cell is a markdown cell. You can write text in markdown cells. The next cell is a code cell. \n",
    "\n",
    "You can type the commands in code cells and execute them by pressing `<shift> + <return>`. The result(s) will be shown **below the code cell**.\n",
    "\n",
    "If you installed Anaconda and configured VS Code correctly (see [manual](HandleidingVisualStudioCodeMetPython.pdf) how to do this) you should be ready to get started without any problem.\n",
    "\n",
    "In the code field below type:\n",
    "\n",
    "```python\n",
    "    print(\"Hello, World\")\n",
    "```\n",
    "Then press `<shift> + <return>` to execute the command.\n",
    "\n"
   ]
  },
  {
   "cell_type": "code",
   "execution_count": null,
   "metadata": {},
   "outputs": [],
   "source": []
  },
  {
   "cell_type": "markdown",
   "metadata": {},
   "source": [
    "What happened?\n",
    "\n",
    "You just created a very simple program that prints the words `Hello, World`. The Python environment that you are in immediately compiles the commands you have typed in."
   ]
  },
  {
   "cell_type": "markdown",
   "metadata": {},
   "source": [
    "## 1.2 Python as a calculator\n",
    "We can use Python as a calculator: we can add, substract, multiply and divide.\n",
    "\n",
    "Execute the following code cells one by one by pressing `<shift> + <return>`."
   ]
  },
  {
   "cell_type": "code",
   "execution_count": null,
   "metadata": {},
   "outputs": [],
   "source": [
    "3 + 5"
   ]
  },
  {
   "cell_type": "code",
   "execution_count": null,
   "metadata": {},
   "outputs": [],
   "source": [
    "21 - 9"
   ]
  },
  {
   "cell_type": "code",
   "execution_count": null,
   "metadata": {},
   "outputs": [],
   "source": [
    "6*6"
   ]
  },
  {
   "cell_type": "code",
   "execution_count": null,
   "metadata": {},
   "outputs": [],
   "source": [
    "9/4"
   ]
  },
  {
   "cell_type": "markdown",
   "metadata": {},
   "source": [
    "With `6*6` we square `6`. Python has the exponential operator `**` to do this:"
   ]
  },
  {
   "cell_type": "code",
   "execution_count": null,
   "metadata": {},
   "outputs": [],
   "source": [
    "6**2"
   ]
  },
  {
   "cell_type": "markdown",
   "metadata": {},
   "source": [
    "We summarize some other mathematical operators in the following table:\n",
    "\n",
    "| Operator | Meaning |\n",
    "| :---: | :---: |\n",
    "| `**` | exponent|\n",
    "| `%` | remainder |\n",
    "| `//` | integer division |\n",
    "\n",
    "Execute the following code and try to understand how the result is obtained:"
   ]
  },
  {
   "cell_type": "code",
   "execution_count": null,
   "metadata": {},
   "outputs": [],
   "source": [
    "13 % 4"
   ]
  },
  {
   "cell_type": "code",
   "execution_count": null,
   "metadata": {},
   "outputs": [],
   "source": [
    "11 // 4"
   ]
  },
  {
   "cell_type": "code",
   "execution_count": null,
   "metadata": {},
   "outputs": [],
   "source": [
    "37.58 % 6"
   ]
  },
  {
   "cell_type": "markdown",
   "metadata": {},
   "source": [
    "Some important notes:\n",
    "* we used a dot (`.`) and **not a comma** (`,`) to define a decimal number\n",
    "* if you don't use a dot (`.`), Python recognizes it as an integer (whole number)\n",
    "* there is **no rounding off** when using the `//` operator: only the integer part of the quotient is retained"
   ]
  },
  {
   "cell_type": "markdown",
   "metadata": {},
   "source": [
    "Combinations of multiple operators are also possible:"
   ]
  },
  {
   "cell_type": "code",
   "execution_count": null,
   "metadata": {},
   "outputs": [],
   "source": [
    "5 + 6**3 - 4"
   ]
  },
  {
   "cell_type": "code",
   "execution_count": null,
   "metadata": {},
   "outputs": [],
   "source": [
    "7**2 + 1/(2 - 7/3)"
   ]
  },
  {
   "cell_type": "markdown",
   "metadata": {},
   "source": [
    "These are called **expressions**. When executed, the value is shown. "
   ]
  },
  {
   "cell_type": "markdown",
   "metadata": {},
   "source": [
    "## 1.3 Order of Operation"
   ]
  },
  {
   "cell_type": "markdown",
   "metadata": {},
   "source": [
    "The **order of operation** that we've learned in mathematics applies in Python too.\n",
    "\n",
    "The order is as follows (`x` is any number):\n",
    "\n",
    "<!---\n",
    "# 1. Parenthesis `()`\n",
    "# 2. Exponents `**`\n",
    "# 3. Multiplication `*`, division `/` and remainder `%`\n",
    "# 4. Addition `+` and subtraction `-`\n",
    "-->\n",
    "\n",
    "| Priority | Operator(s) | Meaning |\n",
    "| :---: | :---: | --- |\n",
    "| 1 | `()` | parenthesis |\n",
    "| 2 | `**` | exponent |\n",
    "| 3 | `+`x, `-`x | unary +, unary - |\n",
    "| 4 | `*`, `/`, `%`, `//` | multiplication, division, remainder, integer division |\n",
    "| 5 | `+`, `-` | addition, substraction |\n",
    "\n",
    "**Note:** the use of extra parenthesis can change the order of operation."
   ]
  },
  {
   "cell_type": "markdown",
   "metadata": {},
   "source": [
    "Try the following examples:"
   ]
  },
  {
   "cell_type": "code",
   "execution_count": null,
   "metadata": {},
   "outputs": [],
   "source": [
    "1 + 2 * 3"
   ]
  },
  {
   "cell_type": "code",
   "execution_count": null,
   "metadata": {},
   "outputs": [],
   "source": [
    "(1 + 2) * 3"
   ]
  },
  {
   "cell_type": "code",
   "execution_count": null,
   "metadata": {},
   "outputs": [],
   "source": [
    "9**1/2"
   ]
  },
  {
   "cell_type": "code",
   "execution_count": null,
   "metadata": {},
   "outputs": [],
   "source": [
    "9**(1/2)"
   ]
  },
  {
   "cell_type": "markdown",
   "metadata": {},
   "source": [
    "Are the results what you expected? Try to explain."
   ]
  },
  {
   "cell_type": "markdown",
   "metadata": {},
   "source": [
    "## Variables\n",
    "\n",
    "#### 2.2.1 Introduction\n",
    "Until now we used integers, decimal numbers and strings but we never stored them somewhere. Variables store a value (numerical, text, logical, ...), that can be looked at (or changed) at a later time.\n",
    "\n",
    "Some examples:"
   ]
  },
  {
   "cell_type": "code",
   "execution_count": null,
   "metadata": {},
   "outputs": [],
   "source": [
    "g = 45\n",
    "f = 3.14\n",
    "s = \"The time is 13:24.\""
   ]
  },
  {
   "cell_type": "markdown",
   "metadata": {},
   "source": [
    "These are so called **statements** (assignments). When we executed the code above we didn't get to see the values of the variables. In order to see their value, we have to print their value with the `print()` function:"
   ]
  },
  {
   "cell_type": "code",
   "execution_count": null,
   "metadata": {},
   "outputs": [],
   "source": [
    "print(g)\n",
    "print(f)\n",
    "print(s)"
   ]
  },
  {
   "cell_type": "markdown",
   "metadata": {},
   "source": [
    "Now we can play around with these variables. \n",
    "\n",
    "Try the following expressions and statements:"
   ]
  },
  {
   "cell_type": "code",
   "execution_count": null,
   "metadata": {},
   "outputs": [],
   "source": [
    "print(f + g - 17)"
   ]
  },
  {
   "cell_type": "code",
   "execution_count": null,
   "metadata": {},
   "outputs": [],
   "source": [
    "print(2*g - f**4)"
   ]
  },
  {
   "cell_type": "code",
   "execution_count": null,
   "metadata": {},
   "outputs": [],
   "source": [
    "M = 65\n",
    "L = 1.73\n",
    "BMI = round(M / L**2, 1)\n",
    "print(BMI)"
   ]
  },
  {
   "cell_type": "markdown",
   "metadata": {},
   "source": [
    "#### 2.2.2 Variable names\n",
    "Some tips regarding variable names:\n",
    "* start with a lowercase (`a`-`z`), uppercase (`A`-`Z`) or underscore (`_`),\n",
    "* don't start with a number,\n",
    "* don't use special characters (`é`, `µ`, ...),\n",
    "* after the first letter you may use any combination of letters (lower/uppercase), numbers and underscores\n",
    "\n",
    "**Don't use keywords as variable names!** Some **forbidden** words are listed (alphabetically) below.\n",
    "\n",
    "* and \n",
    "* break\n",
    "* def\n",
    "* del\n",
    "* elif\n",
    "* else\n",
    "* False\n",
    "* for\n",
    "* if\n",
    "* import\n",
    "* in\n",
    "* is \n",
    "* not\n",
    "* or\n",
    "* return\n",
    "* True\n",
    "* while"
   ]
  },
  {
   "cell_type": "markdown",
   "metadata": {},
   "source": [
    "## 1.4 Built in functions\n",
    "The Python Standard Library has some built in functions. Some of these useful functions are:\n",
    "\n",
    "| Function | Meaning |\n",
    "| :---: | --- |\n",
    "| `len(x)` | **length** of x|\n",
    "| `pow(x, n)` | x to the **power** n (x**n) |\n",
    "| `abs(x)` | **absolute value** of x |\n",
    "| `round(x, n)` | **round** x to n digits after the decimal point |\n",
    "| `min(x, y, z, ...)` | the **minimum** value of x, y, z, ... |\n",
    "| `max(x, y, z, ...)` | the **maximum** value of x, y, z, ... |"
   ]
  },
  {
   "cell_type": "markdown",
   "metadata": {},
   "source": [
    "The following examples illustrate the use of these functions:"
   ]
  },
  {
   "cell_type": "code",
   "execution_count": null,
   "metadata": {},
   "outputs": [],
   "source": [
    "pow(g, 3)"
   ]
  },
  {
   "cell_type": "code",
   "execution_count": null,
   "metadata": {},
   "outputs": [],
   "source": [
    "pow(27, 1/3)"
   ]
  },
  {
   "cell_type": "code",
   "execution_count": null,
   "metadata": {},
   "outputs": [],
   "source": [
    "print(len(s))"
   ]
  },
  {
   "cell_type": "code",
   "execution_count": null,
   "metadata": {},
   "outputs": [],
   "source": [
    "round(3.14159, 3)"
   ]
  },
  {
   "cell_type": "markdown",
   "metadata": {},
   "source": [
    "Note that the `round()` function applies **rounding rules**."
   ]
  },
  {
   "cell_type": "markdown",
   "metadata": {},
   "source": [
    "## 1.5 Input from user\n",
    "Up to this point we decided what value we wanted to assign to a variable. The `input()` allows us to ask the user for input. The user input can be inserted through the keyboard.\n",
    "\n",
    "When, for instance, `input(\"Some question\")` is executed\n",
    "* an input box with a blue edge will appear \n",
    "* beneath the box the text `\"Some question\"` will appear\n",
    "* the box stays visible until the user enters a value and presses `<return>` \n",
    "\n",
    "Execute the following code and answer the question:"
   ]
  },
  {
   "cell_type": "code",
   "execution_count": null,
   "metadata": {},
   "outputs": [],
   "source": [
    "age = input(\"What is your age? \")\n",
    "type(age)"
   ]
  },
  {
   "cell_type": "markdown",
   "metadata": {},
   "source": [
    "The function `type()` returns the datatype of the given variable.\n",
    "\n",
    "Important notes:\n",
    "* User input that is numeric in nature (decimal or integer numbers) is returned by `input()` **also as a string**. \n",
    "* In order to perform numerical operations **type conversion** (see next section) has to be performed."
   ]
  },
  {
   "cell_type": "markdown",
   "metadata": {},
   "source": [
    "## 1.6 Type conversion\n",
    "\n",
    "What is **type conversion**?\n",
    "* Type conversion is changing the data type of a variable from one type to another. \n",
    "\n",
    "When is type conversion necessary?\n",
    "* **Data input and output:** converting user input to the correct type.\n",
    "* **Arithmetic and logical operations:** ensuring the types are compatible for mathematical operations.\n",
    "\n",
    "Python supports both **implicit** type conversion (automatically performed by Python) and **explicit** type conversion (done manually by the programmer)."
   ]
  },
  {
   "cell_type": "markdown",
   "metadata": {},
   "source": [
    "Here's an example of **implicit** type conversion:"
   ]
  },
  {
   "cell_type": "code",
   "execution_count": null,
   "metadata": {},
   "outputs": [],
   "source": [
    "x = 5 \n",
    "y = 3.2 \n",
    "z = x + y\n",
    "type(z)"
   ]
  },
  {
   "cell_type": "markdown",
   "metadata": {},
   "source": [
    "The variable `x` has datatype `int` while the variable `y` has datatype `float`. Python converts `x` to a float behind the scenes. That's why `z` has datatype `float`."
   ]
  },
  {
   "cell_type": "markdown",
   "metadata": {},
   "source": [
    "And here's an example of **explicit** type conversion:"
   ]
  },
  {
   "cell_type": "code",
   "execution_count": null,
   "metadata": {},
   "outputs": [],
   "source": [
    "age = input(\"What is your age? \")\n",
    "age = int(age)\n",
    "type(age)"
   ]
  },
  {
   "cell_type": "markdown",
   "metadata": {},
   "source": [
    "Some common type conversion functions are:\n",
    "\n",
    "| Function | Description |\n",
    "| :---: | :---: |\n",
    "| `int()` | converts a value to an integer |\n",
    "| `float()` | converts a value to a float |\n",
    "| `str()` | converts a value to a string |"
   ]
  },
  {
   "cell_type": "markdown",
   "metadata": {},
   "source": [
    "**Note:** not all strings can be converted to an `int` or a `float`. With the `isnumeric()` method we can check whether all characters of a string are numeric (ie. `0`, `1`, ..., `9`):"
   ]
  },
  {
   "cell_type": "code",
   "execution_count": null,
   "metadata": {},
   "outputs": [],
   "source": [
    "s1 = \"123\"\n",
    "print(s1.isnumeric())\n",
    "\n",
    "s2 = \"3.14\"\n",
    "print(s2.isnumeric())"
   ]
  },
  {
   "cell_type": "markdown",
   "metadata": {},
   "source": [
    "Since `isnumeric()` returns `False` for `s2` it won't be possible to convert it to an `int`:"
   ]
  },
  {
   "cell_type": "code",
   "execution_count": null,
   "metadata": {},
   "outputs": [],
   "source": [
    "int(s2)"
   ]
  },
  {
   "cell_type": "markdown",
   "metadata": {},
   "source": [
    "Converting to a `float` won't be a problem:"
   ]
  },
  {
   "cell_type": "code",
   "execution_count": null,
   "metadata": {},
   "outputs": [],
   "source": [
    "float(s2)"
   ]
  },
  {
   "cell_type": "markdown",
   "metadata": {},
   "source": [
    "## 1.7 Modules\n",
    "\n",
    "The Python Standard Library offers many functions via modules. The `math` module for instance contains elementary mathematical functions.\n",
    "\n",
    "In order to use the functions of a module, the latter has to be imported first with the `import` function.\n",
    "\n",
    "By executing:"
   ]
  },
  {
   "cell_type": "code",
   "execution_count": 3,
   "metadata": {},
   "outputs": [],
   "source": [
    "import math"
   ]
  },
  {
   "cell_type": "markdown",
   "metadata": {},
   "source": [
    "the `math` module is imported."
   ]
  },
  {
   "cell_type": "markdown",
   "metadata": {},
   "source": [
    "Some of the available functions in the `math` module are listed in the following table:"
   ]
  },
  {
   "cell_type": "markdown",
   "metadata": {},
   "source": [
    "| Function | Meaning |\n",
    "| :---: | --- |\n",
    "| `sin(x)`, `cos(x)`, `tan(x)` | trigonometric functions (`x` in **radians**)|\n",
    "| `exp(x)` | exponential function|\n",
    "| `log(x)`, `log10(x)` | logarithmic functions (base `e` or base `10`) |\n",
    "| `degrees(x)`, `radians(x)` | conversion to degrees or radians |\n"
   ]
  },
  {
   "cell_type": "markdown",
   "metadata": {},
   "source": [
    "**Important note:** all trigonometric functions expect an angle in radians. Don't forget to convert to radians with `radians()` when you work with angles in degrees!\n",
    "\n",
    "The available functions can be used by preceding the name of the function with a dot `.` and the name of the module.\n",
    "\n",
    "An example:\n",
    "\n",
    "```Python\n",
    "    math.exp(3)\n",
    "```"
   ]
  },
  {
   "cell_type": "markdown",
   "metadata": {},
   "source": [
    "Some other useful examples:"
   ]
  },
  {
   "cell_type": "code",
   "execution_count": null,
   "metadata": {},
   "outputs": [],
   "source": [
    "print(math.pi)   # 𝜋 (3.3.1415...)\n",
    "print(math.e)    # Euler constant (2.7182...)"
   ]
  },
  {
   "cell_type": "markdown",
   "metadata": {},
   "source": [
    "## 1.6 Comments\n",
    "Comments are important for adding necessary information for another programmer to read, but not the computer. Examples are: \n",
    "* an explanation of a section of code (see last code cell), saying what it does, or what is wrong with it\n",
    "* comment bits of code that you don't want to compile, but can't delete it because you might need/use it later.\n",
    "\n",
    "We will use comments in almost all that follows."
   ]
  },
  {
   "cell_type": "markdown",
   "metadata": {},
   "source": [
    "## Exercises\n",
    "### Assignment 1\n",
    "\n",
    "Type in the cell below an expression to find out how many seconds there are in a 365-day year."
   ]
  },
  {
   "cell_type": "code",
   "execution_count": null,
   "metadata": {},
   "outputs": [],
   "source": [
    "# Hint: you should get 31536000 as a result\n"
   ]
  },
  {
   "cell_type": "markdown",
   "metadata": {},
   "source": [
    "### Assignment 2\n",
    "\n",
    "The Earth can be approximated as a sphere with a radius of 6370 km. Use the cell below to find out the volume of such a shape in **cubic meters** ($m^3$)."
   ]
  },
  {
   "cell_type": "code",
   "execution_count": null,
   "metadata": {},
   "outputs": [],
   "source": [
    "# Hint: the volume V of a sphere with radius r is given by V = 4/3 * pi * r**3\n"
   ]
  },
  {
   "cell_type": "markdown",
   "metadata": {},
   "source": [
    "### Assignment 3\n",
    "\n",
    "Get the answer of the following expression, using the cell below:\n",
    "\n",
    "$$\\frac{1}{2}+\\frac{\\frac{1}{3}}{\\frac{1}{4}+\\frac{1}{5}}$$"
   ]
  },
  {
   "cell_type": "code",
   "execution_count": null,
   "metadata": {},
   "outputs": [],
   "source": [
    "# Hint: you should get approximately 1.24\n"
   ]
  },
  {
   "cell_type": "markdown",
   "metadata": {},
   "source": [
    "< [Contents](0-Contents.ipynb) | [2 Datatypes](2-BasicDatatypes.ipynb) >"
   ]
  },
  {
   "cell_type": "markdown",
   "metadata": {},
   "source": []
  }
 ],
 "metadata": {
  "kernelspec": {
   "display_name": "base",
   "language": "python",
   "name": "python3"
  },
  "language_info": {
   "codemirror_mode": {
    "name": "ipython",
    "version": 3
   },
   "file_extension": ".py",
   "mimetype": "text/x-python",
   "name": "python",
   "nbconvert_exporter": "python",
   "pygments_lexer": "ipython3",
   "version": "3.11.5"
  }
 },
 "nbformat": 4,
 "nbformat_minor": 4
}
